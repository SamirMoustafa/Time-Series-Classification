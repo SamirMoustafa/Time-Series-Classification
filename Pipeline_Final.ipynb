{
 "cells": [
  {
   "cell_type": "markdown",
   "metadata": {},
   "source": [
    "# Time Series Classification Using Topological Data Analysis"
   ]
  },
  {
   "cell_type": "markdown",
   "metadata": {},
   "source": [
    "This notebook shows the basic pipeline of applying Topological Data Analysis for time series classification. We use [Giotto-TDA](https://github.com/giotto-ai/giotto-tda) for working with topology and [UCR](http://www.timeseriesclassification.com/) collection of datasets."
   ]
  },
  {
   "cell_type": "markdown",
   "metadata": {},
   "source": [
    "## 0. Imports and Data Loading"
   ]
  },
  {
   "cell_type": "code",
   "execution_count": null,
   "metadata": {},
   "outputs": [],
   "source": [
    "# Giotto Installation:\n",
    "# !pip install -U giotto-tda"
   ]
  },
  {
   "cell_type": "code",
   "execution_count": 155,
   "metadata": {},
   "outputs": [],
   "source": [
    "%matplotlib inline\n",
    "\n",
    "import matplotlib.pyplot as plt\n",
    "from sklearn.preprocessing import StandardScaler\n",
    "\n",
    "from xgboost import XGBClassifier\n",
    "from catboost import CatBoostClassifier\n",
    "from sklearn.neighbors import KNeighborsClassifier\n",
    "from sklearn.ensemble import RandomForestClassifier, StackingClassifier\n",
    "from sklearn.tree import DecisionTreeClassifier\n",
    "from sklearn.linear_model import LogisticRegression\n",
    "from sklearn.svm import SVC\n",
    "\n",
    "from sklearn.model_selection import GridSearchCV, StratifiedKFold\n",
    "\n",
    "from sklearn.metrics import accuracy_score\n",
    "\n",
    "from gtda.time_series import TakensEmbedding\n",
    "from gtda.homology import VietorisRipsPersistence\n",
    "from gtda.diagrams import Scaler, BettiCurve, PersistenceLandscape, PersistenceEntropy\n",
    "from gtda.plotting import plot_diagram, plot_betti_curves\n",
    "\n",
    "import torch\n",
    "from torch import nn\n",
    "import torch.nn.functional as F\n",
    "from torch.autograd import Variable\n",
    "from torch.utils.data import DataLoader, Dataset\n",
    "\n",
    "from src.utils import *\n",
    "from src.TFE import *\n",
    "from src.nn import *\n",
    "from src import *"
   ]
  },
  {
   "cell_type": "code",
   "execution_count": 96,
   "metadata": {},
   "outputs": [
    {
     "name": "stdout",
     "output_type": "stream",
     "text": [
      "Dataset:  GunPoint\n",
      "X_train shape:  (50, 150)\n",
      "y_train shape:  (50,)\n",
      "X_test shape:   (150, 150)\n",
      "y_test shape:   (150,)\n",
      "num. of class:  2\n"
     ]
    }
   ],
   "source": [
    "directory_list = get_files_directory_list()\n",
    "directory_list = sorted(directory_list)\n",
    "\n",
    "random_index =  51\n",
    "random_path = directory_list[random_index]\n",
    "\n",
    "X_train, X_test, y_train, y_test = get_data_from_directory(random_path)\n",
    "X_train = X_train.squeeze()\n",
    "y_train = y_train.squeeze()\n",
    "X_test = X_test.squeeze()\n",
    "y_test = y_test.squeeze()\n",
    "num_classes = np.unique(y_train).shape[0]\n",
    "\n",
    "print('Dataset: ', random_path)\n",
    "print('X_train shape: ', X_train.shape)\n",
    "print('y_train shape: ', y_train.shape)\n",
    "print('X_test shape:  ', X_test.shape)\n",
    "print('y_test shape:  ', y_test.shape)\n",
    "print('num. of class: ', num_classes)"
   ]
  },
  {
   "cell_type": "markdown",
   "metadata": {},
   "source": [
    "## 1. Background"
   ]
  },
  {
   "cell_type": "markdown",
   "metadata": {},
   "source": [
    "### 1.1. Common Pipeline"
   ]
  },
  {
   "cell_type": "markdown",
   "metadata": {},
   "source": [
    "The core idea of Topological Data Analysis (TDA) is to exploit the topological and geometrical properties of data, like shape, connectivity, and etc. to extract informative features. One of the ways of numerical description of such properties is the *Persistent Homology*. Persistent Homology considers data as a point cloud, and tries to find so called holes in point clouds using discretization and triangulation of initial data space space with simplical complexes. The structure of those wholes are described with *Persistence Diagram* (PD) that is a 2D plot that indicates the birth and death of n-dimensional holes in the induced topological spaces. Then, we can utilize different features to describe PD and use them as a input of classifier."
   ]
  },
  {
   "cell_type": "markdown",
   "metadata": {},
   "source": [
    "### 1.2. Point Clouds and Takens' Embedding"
   ]
  },
  {
   "cell_type": "markdown",
   "metadata": {},
   "source": [
    "Since we are going to work with time series data, we need to represent them in some form that will have informative topological behaviour and allow to extract topological features. One way is to utilize the Taken's embedding theorem [1] as it was proposed, for example, in [2]. This theorem states that time series can be reconstructed in so called *phase space* as:\n",
    "\n",
    "$$\n",
    "x_n(m, \\tau) = (x_n, x_{n+\\tau}, ..., x_{n+(m-1)\\tau}),\n",
    "$$\n",
    "\n",
    "where $m$ is embedding dimension, $\\tau$ is the time delay.\n",
    "\n",
    "Let's look how it can look like for a sample time series."
   ]
  },
  {
   "cell_type": "code",
   "execution_count": 97,
   "metadata": {},
   "outputs": [
    {
     "data": {
      "image/png": "[encoded data removed]",
      "text/plain": [
       "<Figure size 432x288 with 1 Axes>"
      ]
     },
     "metadata": {
      "needs_background": "light"
     },
     "output_type": "display_data"
    }
   ],
   "source": [
    "sample_series = X_train[0]\n",
    "sample_embedding = TakensEmbedding(dimension=2, \n",
    "                                   time_delay=5, \n",
    "                                   parameters_type='fixed').fit_transform(sample_series)\n",
    "sample_embedding.shape\n",
    "\n",
    "plt.scatter(sample_embedding[:,0], sample_embedding[:,1])\n",
    "plt.xlabel(\"$x_t$\")\n",
    "plt.ylabel(\"$x_{t+\\\\tau}$\")\n",
    "plt.title(\"Takens Embedding for $m=2$ and $\\\\tau=5$\")\n",
    "plt.grid()"
   ]
  },
  {
   "cell_type": "markdown",
   "metadata": {},
   "source": [
    "### 1.3. Persistence Diagram"
   ]
  },
  {
   "cell_type": "markdown",
   "metadata": {},
   "source": [
    "After obtaining point cloud, it is possible to build a Persistence Diagram (PD). One of the ways of obtaining the PD is the Vietoris-Rips Persistent Homology, as proposed, for example, in [3 https://arxiv.org/abs/1905.06071]. PD shows the distribution of holes - their birth and death - for each *homology dimension*."
   ]
  },
  {
   "cell_type": "code",
   "execution_count": 98,
   "metadata": {},
   "outputs": [
    {
     "data": {
      "application/vnd.plotly.v1+json": {
       "config": {
        "plotlyServerURL": "https://plot.ly"
       },
       "data": [
        {
         "hoverinfo": "none",
         "line": {
          "color": "black",
          "dash": "dash",
          "width": 1
         },
         "mode": "lines",
         "showlegend": false,
         "type": "scatter",
         "x": [
          -128.70299816131592,
          128.70299816131592
         ],
         "y": [
          -128.70299816131592,
          128.70299816131592
         ]
        },
        {
         "mode": "markers",
         "name": "H0",
         "type": "scatter",
         "x": [
          0,
          0,
          0,
          0,
          0,
          0,
          0,
          0,
          0,
          0,
          0,
          0,
          0,
          0,
          0,
          0,
          0,
          0,
          0,
          0,
          0,
          0,
          0,
          0,
          0,
          0,
          0,
          0,
          0,
          0,
          0,
          0,
          0,
          0,
          0,
          0,
          0,
          0,
          0,
          0,
          0,
          0,
          0,
          0,
          0,
          0,
          0,
          0,
          0,
          0,
          0,
          0,
          0,
          0,
          0,
          0,
          0,
          0,
          0,
          0,
          0,
          0,
          0,
          0,
          0,
          0,
          0,
          0,
          0,
          0,
          0,
          0,
          0,
          0,
          0,
          0,
          0,
          0,
          0,
          0,
          0,
          0,
          0,
          0,
          0,
          0,
          0,
          0,
          0,
          0,
          0,
          0,
          0,
          0,
          0,
          0,
          0,
          0,
          0,
          0,
          0,
          0,
          0,
          0,
          0,
          0,
          0,
          0,
          0,
          0,
          0,
          0,
          0,
          0,
          0,
          0,
          0,
          0,
          0,
          0,
          0,
          0,
          0,
          0,
          0,
          0,
          0,
          0,
          0,
          0,
          0,
          0,
          0,
          0,
          0,
          0,
          0,
          0,
          0,
          0,
          0,
          0,
          0,
          0
         ],
         "y": [
          0.000198522669961676,
          0.0002222212206106633,
          0.0002874524798244238,
          0.00037123216316103935,
          0.000396000687032938,
          0.0004601480031851679,
          0.00046044192276895046,
          0.0004651331983041018,
          0.0004920957144349813,
          0.0005122522707097232,
          0.0005756249302066863,
          0.0006010621436871588,
          0.0006147708045318723,
          0.000634365133009851,
          0.0006671604933217168,
          0.0007096844492480159,
          0.0007381105679087341,
          0.0007605133578181267,
          0.0007716395193710923,
          0.0007823228370398283,
          0.0007912178989499807,
          0.0009360220283269882,
          0.0009492479730397463,
          0.000950389017816633,
          0.0010832410771399736,
          0.0011357638286426663,
          0.0011690090177580714,
          0.0012595785083249211,
          0.001284064375795424,
          0.0013021237682551146,
          0.0013260325649753213,
          0.001357148983515799,
          0.0013836289290338755,
          0.001483003026805818,
          0.001589741325005889,
          0.0016561165684834123,
          0.0016790690133348107,
          0.0016930826241150498,
          0.0017202086746692657,
          0.0017397071933373809,
          0.0018456140533089638,
          0.0019346479093655944,
          0.0020498833619058132,
          0.0020653714891523123,
          0.0020701237954199314,
          0.0021173101849853992,
          0.0021633226424455643,
          0.0021701576188206673,
          0.0022838644217699766,
          0.0025984200183302164,
          0.002896013204008341,
          0.003015796886757016,
          0.003017017850652337,
          0.003074400359764695,
          0.0031712648924440145,
          0.0031730816699564457,
          0.0031797911506146193,
          0.003206743160262704,
          0.0032915999181568623,
          0.0033181000035256147,
          0.003402336500585079,
          0.003406258299946785,
          0.003438172861933708,
          0.0034581413492560387,
          0.0034899937454611063,
          0.003643162315711379,
          0.003680613124743104,
          0.003744873683899641,
          0.0038580046966671944,
          0.0038649223279207945,
          0.0038850523997098207,
          0.004325720481574535,
          0.004455868620425463,
          0.004459399729967117,
          0.0053534856997430325,
          0.005659698508679867,
          0.006084279622882605,
          0.006252775900065899,
          0.006765348836779594,
          0.006920559331774712,
          0.007355394307523966,
          0.007569801528006792,
          0.0076188319362699986,
          0.008850306272506714,
          0.009673453867435455,
          0.010564158670604229,
          0.010875758714973927,
          0.011014201678335667,
          0.012732273899018764,
          0.01295185461640358,
          0.013321956619620323,
          0.013808502815663815,
          0.017744937911629677,
          0.018209269270300865,
          0.02082458883523941,
          0.02251027151942253,
          0.022870073094964027,
          0.02418876439332962,
          0.024839797988533974,
          0.026557836681604385,
          0.0412166602909565,
          0.05361361801624298,
          0.0660722553730011,
          0.07286734879016876,
          0.07293237745761871,
          0.07627619802951813,
          0.07930003106594086,
          0.07992143929004669,
          0.09434083849191666,
          0.10655537992715836,
          0.1128290444612503,
          0.11286072432994843,
          0.11705085635185242,
          0.11932969093322754,
          0.11973580718040466,
          0.12222278863191605,
          0.1247376874089241,
          0.12770913541316986,
          0.13459767401218414,
          0.14290602505207062,
          0.15080526471138,
          0.162618950009346,
          0.16970185935497284,
          0.17778374254703522,
          0.1879674643278122,
          0.1901528686285019,
          0.20155419409275055,
          0.20278291404247284,
          0.20523376762866974,
          0.21675598621368408,
          0.218109592795372,
          0.22030457854270935,
          0.2231692522764206,
          0.22522206604480743,
          0.22573359310626984,
          0.23592625558376312,
          0.24200685322284698,
          0.251835435628891,
          0.28919845819473267,
          0.2908689081668854,
          0.32424041628837585,
          0.3434816598892212,
          0.3495064079761505,
          0.36100584268569946
         ]
        },
        {
         "mode": "markers",
         "name": "H1",
         "type": "scatter",
         "x": [
          1.102782964706421,
          0.3859528601169586,
          0.013742227107286453,
          0.007411678787320852,
          0.00729066738858819,
          0.006087247282266617,
          0.004588460549712181,
          0.0022000030148774385,
          0.0012613146100193262,
          0.0008143499144352973
         ],
         "y": [
          1.159562587738037,
          1.2870299816131592,
          0.015043819323182106,
          0.012011401355266571,
          0.0077017550356686115,
          0.014213817194104195,
          0.00606176583096385,
          0.0022190844174474478,
          0.0014613295206800103,
          0.0008875114726833999
         ]
        }
       ],
       "layout": {
        "height": 500,
        "plot_bgcolor": "white",
        "template": {
         "data": {
          "bar": [
           {
            "error_x": {
             "color": "#2a3f5f"
            },
            "error_y": {
             "color": "#2a3f5f"
            },
            "marker": {
             "line": {
              "color": "#E5ECF6",
              "width": 0.5
             }
            },
            "type": "bar"
           }
          ],
          "barpolar": [
           {
            "marker": {
             "line": {
              "color": "#E5ECF6",
              "width": 0.5
             }
            },
            "type": "barpolar"
           }
          ],
          "carpet": [
           {
            "aaxis": {
             "endlinecolor": "#2a3f5f",
             "gridcolor": "white",
             "linecolor": "white",
             "minorgridcolor": "white",
             "startlinecolor": "#2a3f5f"
            },
            "baxis": {
             "endlinecolor": "#2a3f5f",
             "gridcolor": "white",
             "linecolor": "white",
             "minorgridcolor": "white",
             "startlinecolor": "#2a3f5f"
            },
            "type": "carpet"
           }
          ],
          "choropleth": [
           {
            "colorbar": {
             "outlinewidth": 0,
             "ticks": ""
            },
            "type": "choropleth"
           }
          ],
          "contour": [
           {
            "colorbar": {
             "outlinewidth": 0,
             "ticks": ""
            },
            "colorscale": [
             [
              0,
              "#0d0887"
             ],
             [
              0.1111111111111111,
              "#46039f"
             ],
             [
              0.2222222222222222,
              "#7201a8"
             ],
             [
              0.3333333333333333,
              "#9c179e"
             ],
             [
              0.4444444444444444,
              "#bd3786"
             ],
             [
              0.5555555555555556,
              "#d8576b"
             ],
             [
              0.6666666666666666,
              "#ed7953"
             ],
             [
              0.7777777777777778,
              "#fb9f3a"
             ],
             [
              0.8888888888888888,
              "#fdca26"
             ],
             [
              1,
              "#f0f921"
             ]
            ],
            "type": "contour"
           }
          ],
          "contourcarpet": [
           {
            "colorbar": {
             "outlinewidth": 0,
             "ticks": ""
            },
            "type": "contourcarpet"
           }
          ],
          "heatmap": [
           {
            "colorbar": {
             "outlinewidth": 0,
             "ticks": ""
            },
            "colorscale": [
             [
              0,
              "#0d0887"
             ],
             [
              0.1111111111111111,
              "#46039f"
             ],
             [
              0.2222222222222222,
              "#7201a8"
             ],
             [
              0.3333333333333333,
              "#9c179e"
             ],
             [
              0.4444444444444444,
              "#bd3786"
             ],
             [
              0.5555555555555556,
              "#d8576b"
             ],
             [
              0.6666666666666666,
              "#ed7953"
             ],
             [
              0.7777777777777778,
              "#fb9f3a"
             ],
             [
              0.8888888888888888,
              "#fdca26"
             ],
             [
              1,
              "#f0f921"
             ]
            ],
            "type": "heatmap"
           }
          ],
          "heatmapgl": [
           {
            "colorbar": {
             "outlinewidth": 0,
             "ticks": ""
            },
            "colorscale": [
             [
              0,
              "#0d0887"
             ],
             [
              0.1111111111111111,
              "#46039f"
             ],
             [
              0.2222222222222222,
              "#7201a8"
             ],
             [
              0.3333333333333333,
              "#9c179e"
             ],
             [
              0.4444444444444444,
              "#bd3786"
             ],
             [
              0.5555555555555556,
              "#d8576b"
             ],
             [
              0.6666666666666666,
              "#ed7953"
             ],
             [
              0.7777777777777778,
              "#fb9f3a"
             ],
             [
              0.8888888888888888,
              "#fdca26"
             ],
             [
              1,
              "#f0f921"
             ]
            ],
            "type": "heatmapgl"
           }
          ],
          "histogram": [
           {
            "marker": {
             "colorbar": {
              "outlinewidth": 0,
              "ticks": ""
             }
            },
            "type": "histogram"
           }
          ],
          "histogram2d": [
           {
            "colorbar": {
             "outlinewidth": 0,
             "ticks": ""
            },
            "colorscale": [
             [
              0,
              "#0d0887"
             ],
             [
              0.1111111111111111,
              "#46039f"
             ],
             [
              0.2222222222222222,
              "#7201a8"
             ],
             [
              0.3333333333333333,
              "#9c179e"
             ],
             [
              0.4444444444444444,
              "#bd3786"
             ],
             [
              0.5555555555555556,
              "#d8576b"
             ],
             [
              0.6666666666666666,
              "#ed7953"
             ],
             [
              0.7777777777777778,
              "#fb9f3a"
             ],
             [
              0.8888888888888888,
              "#fdca26"
             ],
             [
              1,
              "#f0f921"
             ]
            ],
            "type": "histogram2d"
           }
          ],
          "histogram2dcontour": [
           {
            "colorbar": {
             "outlinewidth": 0,
             "ticks": ""
            },
            "colorscale": [
             [
              0,
              "#0d0887"
             ],
             [
              0.1111111111111111,
              "#46039f"
             ],
             [
              0.2222222222222222,
              "#7201a8"
             ],
             [
              0.3333333333333333,
              "#9c179e"
             ],
             [
              0.4444444444444444,
              "#bd3786"
             ],
             [
              0.5555555555555556,
              "#d8576b"
             ],
             [
              0.6666666666666666,
              "#ed7953"
             ],
             [
              0.7777777777777778,
              "#fb9f3a"
             ],
             [
              0.8888888888888888,
              "#fdca26"
             ],
             [
              1,
              "#f0f921"
             ]
            ],
            "type": "histogram2dcontour"
           }
          ],
          "mesh3d": [
           {
            "colorbar": {
             "outlinewidth": 0,
             "ticks": ""
            },
            "type": "mesh3d"
           }
          ],
          "parcoords": [
           {
            "line": {
             "colorbar": {
              "outlinewidth": 0,
              "ticks": ""
             }
            },
            "type": "parcoords"
           }
          ],
          "pie": [
           {
            "automargin": true,
            "type": "pie"
           }
          ],
          "scatter": [
           {
            "marker": {
             "colorbar": {
              "outlinewidth": 0,
              "ticks": ""
             }
            },
            "type": "scatter"
           }
          ],
          "scatter3d": [
           {
            "line": {
             "colorbar": {
              "outlinewidth": 0,
              "ticks": ""
             }
            },
            "marker": {
             "colorbar": {
              "outlinewidth": 0,
              "ticks": ""
             }
            },
            "type": "scatter3d"
           }
          ],
          "scattercarpet": [
           {
            "marker": {
             "colorbar": {
              "outlinewidth": 0,
              "ticks": ""
             }
            },
            "type": "scattercarpet"
           }
          ],
          "scattergeo": [
           {
            "marker": {
             "colorbar": {
              "outlinewidth": 0,
              "ticks": ""
             }
            },
            "type": "scattergeo"
           }
          ],
          "scattergl": [
           {
            "marker": {
             "colorbar": {
              "outlinewidth": 0,
              "ticks": ""
             }
            },
            "type": "scattergl"
           }
          ],
          "scattermapbox": [
           {
            "marker": {
             "colorbar": {
              "outlinewidth": 0,
              "ticks": ""
             }
            },
            "type": "scattermapbox"
           }
          ],
          "scatterpolar": [
           {
            "marker": {
             "colorbar": {
              "outlinewidth": 0,
              "ticks": ""
             }
            },
            "type": "scatterpolar"
           }
          ],
          "scatterpolargl": [
           {
            "marker": {
             "colorbar": {
              "outlinewidth": 0,
              "ticks": ""
             }
            },
            "type": "scatterpolargl"
           }
          ],
          "scatterternary": [
           {
            "marker": {
             "colorbar": {
              "outlinewidth": 0,
              "ticks": ""
             }
            },
            "type": "scatterternary"
           }
          ],
          "surface": [
           {
            "colorbar": {
             "outlinewidth": 0,
             "ticks": ""
            },
            "colorscale": [
             [
              0,
              "#0d0887"
             ],
             [
              0.1111111111111111,
              "#46039f"
             ],
             [
              0.2222222222222222,
              "#7201a8"
             ],
             [
              0.3333333333333333,
              "#9c179e"
             ],
             [
              0.4444444444444444,
              "#bd3786"
             ],
             [
              0.5555555555555556,
              "#d8576b"
             ],
             [
              0.6666666666666666,
              "#ed7953"
             ],
             [
              0.7777777777777778,
              "#fb9f3a"
             ],
             [
              0.8888888888888888,
              "#fdca26"
             ],
             [
              1,
              "#f0f921"
             ]
            ],
            "type": "surface"
           }
          ],
          "table": [
           {
            "cells": {
             "fill": {
              "color": "#EBF0F8"
             },
             "line": {
              "color": "white"
             }
            },
            "header": {
             "fill": {
              "color": "#C8D4E3"
             },
             "line": {
              "color": "white"
             }
            },
            "type": "table"
           }
          ]
         },
         "layout": {
          "annotationdefaults": {
           "arrowcolor": "#2a3f5f",
           "arrowhead": 0,
           "arrowwidth": 1
          },
          "coloraxis": {
           "colorbar": {
            "outlinewidth": 0,
            "ticks": ""
           }
          },
          "colorscale": {
           "diverging": [
            [
             0,
             "#8e0152"
            ],
            [
             0.1,
             "#c51b7d"
            ],
            [
             0.2,
             "#de77ae"
            ],
            [
             0.3,
             "#f1b6da"
            ],
            [
             0.4,
             "#fde0ef"
            ],
            [
             0.5,
             "#f7f7f7"
            ],
            [
             0.6,
             "#e6f5d0"
            ],
            [
             0.7,
             "#b8e186"
            ],
            [
             0.8,
             "#7fbc41"
            ],
            [
             0.9,
             "#4d9221"
            ],
            [
             1,
             "#276419"
            ]
           ],
           "sequential": [
            [
             0,
             "#0d0887"
            ],
            [
             0.1111111111111111,
             "#46039f"
            ],
            [
             0.2222222222222222,
             "#7201a8"
            ],
            [
             0.3333333333333333,
             "#9c179e"
            ],
            [
             0.4444444444444444,
             "#bd3786"
            ],
            [
             0.5555555555555556,
             "#d8576b"
            ],
            [
             0.6666666666666666,
             "#ed7953"
            ],
            [
             0.7777777777777778,
             "#fb9f3a"
            ],
            [
             0.8888888888888888,
             "#fdca26"
            ],
            [
             1,
             "#f0f921"
            ]
           ],
           "sequentialminus": [
            [
             0,
             "#0d0887"
            ],
            [
             0.1111111111111111,
             "#46039f"
            ],
            [
             0.2222222222222222,
             "#7201a8"
            ],
            [
             0.3333333333333333,
             "#9c179e"
            ],
            [
             0.4444444444444444,
             "#bd3786"
            ],
            [
             0.5555555555555556,
             "#d8576b"
            ],
            [
             0.6666666666666666,
             "#ed7953"
            ],
            [
             0.7777777777777778,
             "#fb9f3a"
            ],
            [
             0.8888888888888888,
             "#fdca26"
            ],
            [
             1,
             "#f0f921"
            ]
           ]
          },
          "colorway": [
           "#636efa",
           "#EF553B",
           "#00cc96",
           "#ab63fa",
           "#FFA15A",
           "#19d3f3",
           "#FF6692",
           "#B6E880",
           "#FF97FF",
           "#FECB52"
          ],
          "font": {
           "color": "#2a3f5f"
          },
          "geo": {
           "bgcolor": "white",
           "lakecolor": "white",
           "landcolor": "#E5ECF6",
           "showlakes": true,
           "showland": true,
           "subunitcolor": "white"
          },
          "hoverlabel": {
           "align": "left"
          },
          "hovermode": "closest",
          "mapbox": {
           "style": "light"
          },
          "paper_bgcolor": "white",
          "plot_bgcolor": "#E5ECF6",
          "polar": {
           "angularaxis": {
            "gridcolor": "white",
            "linecolor": "white",
            "ticks": ""
           },
           "bgcolor": "#E5ECF6",
           "radialaxis": {
            "gridcolor": "white",
            "linecolor": "white",
            "ticks": ""
           }
          },
          "scene": {
           "xaxis": {
            "backgroundcolor": "#E5ECF6",
            "gridcolor": "white",
            "gridwidth": 2,
            "linecolor": "white",
            "showbackground": true,
            "ticks": "",
            "zerolinecolor": "white"
           },
           "yaxis": {
            "backgroundcolor": "#E5ECF6",
            "gridcolor": "white",
            "gridwidth": 2,
            "linecolor": "white",
            "showbackground": true,
            "ticks": "",
            "zerolinecolor": "white"
           },
           "zaxis": {
            "backgroundcolor": "#E5ECF6",
            "gridcolor": "white",
            "gridwidth": 2,
            "linecolor": "white",
            "showbackground": true,
            "ticks": "",
            "zerolinecolor": "white"
           }
          },
          "shapedefaults": {
           "line": {
            "color": "#2a3f5f"
           }
          },
          "ternary": {
           "aaxis": {
            "gridcolor": "white",
            "linecolor": "white",
            "ticks": ""
           },
           "baxis": {
            "gridcolor": "white",
            "linecolor": "white",
            "ticks": ""
           },
           "bgcolor": "#E5ECF6",
           "caxis": {
            "gridcolor": "white",
            "linecolor": "white",
            "ticks": ""
           }
          },
          "title": {
           "x": 0.05
          },
          "xaxis": {
           "automargin": true,
           "gridcolor": "white",
           "linecolor": "white",
           "ticks": "",
           "title": {
            "standoff": 15
           },
           "zerolinecolor": "white",
           "zerolinewidth": 2
          },
          "yaxis": {
           "automargin": true,
           "gridcolor": "white",
           "linecolor": "white",
           "ticks": "",
           "title": {
            "standoff": 15
           },
           "zerolinecolor": "white",
           "zerolinewidth": 2
          }
         }
        },
        "width": 500,
        "xaxis": {
         "anchor": "y",
         "exponentformat": "e",
         "linecolor": "black",
         "linewidth": 1,
         "mirror": false,
         "range": [
          0,
          1.4157329797744753
         ],
         "showexponent": "all",
         "showline": true,
         "side": "bottom",
         "ticks": "outside",
         "title": {
          "text": "Birth"
         },
         "type": "linear",
         "zeroline": true
        },
        "yaxis": {
         "anchor": "x",
         "exponentformat": "e",
         "linecolor": "black",
         "linewidth": 1,
         "mirror": false,
         "range": [
          0,
          1.4157329797744753
         ],
         "showexponent": "all",
         "showline": true,
         "side": "left",
         "ticks": "outside",
         "title": {
          "text": "Death"
         },
         "type": "linear",
         "zeroline": true
        }
       }
      },
      "text/html": [
       "<div>\n",
       "        \n",
       "        \n",
       "            <div id=\"f7cd5279-1672-481d-889c-7a383e5ad114\" class=\"plotly-graph-div\" style=\"height:500px; width:500px;\"></div>\n",
       "            <script type=\"text/javascript\">\n",
       "                require([\"plotly\"], function(Plotly) {\n",
       "                    window.PLOTLYENV=window.PLOTLYENV || {};\n",
       "                    \n",
       "                if (document.getElementById(\"f7cd5279-1672-481d-889c-7a383e5ad114\")) {\n",
       "                    Plotly.newPlot(\n",
       "                        'f7cd5279-1672-481d-889c-7a383e5ad114',\n",
       "                        [{\"hoverinfo\": \"none\", \"line\": {\"color\": \"black\", \"dash\": \"dash\", \"width\": 1}, \"mode\": \"lines\", \"showlegend\": false, \"type\": \"scatter\", \"x\": [-128.70299816131592, 128.70299816131592], \"y\": [-128.70299816131592, 128.70299816131592]}, {\"mode\": \"markers\", \"name\": \"H0\", \"type\": \"scatter\", \"x\": [0.0, 0.0, 0.0, 0.0, 0.0, 0.0, 0.0, 0.0, 0.0, 0.0, 0.0, 0.0, 0.0, 0.0, 0.0, 0.0, 0.0, 0.0, 0.0, 0.0, 0.0, 0.0, 0.0, 0.0, 0.0, 0.0, 0.0, 0.0, 0.0, 0.0, 0.0, 0.0, 0.0, 0.0, 0.0, 0.0, 0.0, 0.0, 0.0, 0.0, 0.0, 0.0, 0.0, 0.0, 0.0, 0.0, 0.0, 0.0, 0.0, 0.0, 0.0, 0.0, 0.0, 0.0, 0.0, 0.0, 0.0, 0.0, 0.0, 0.0, 0.0, 0.0, 0.0, 0.0, 0.0, 0.0, 0.0, 0.0, 0.0, 0.0, 0.0, 0.0, 0.0, 0.0, 0.0, 0.0, 0.0, 0.0, 0.0, 0.0, 0.0, 0.0, 0.0, 0.0, 0.0, 0.0, 0.0, 0.0, 0.0, 0.0, 0.0, 0.0, 0.0, 0.0, 0.0, 0.0, 0.0, 0.0, 0.0, 0.0, 0.0, 0.0, 0.0, 0.0, 0.0, 0.0, 0.0, 0.0, 0.0, 0.0, 0.0, 0.0, 0.0, 0.0, 0.0, 0.0, 0.0, 0.0, 0.0, 0.0, 0.0, 0.0, 0.0, 0.0, 0.0, 0.0, 0.0, 0.0, 0.0, 0.0, 0.0, 0.0, 0.0, 0.0, 0.0, 0.0, 0.0, 0.0, 0.0, 0.0, 0.0, 0.0, 0.0, 0.0], \"y\": [0.000198522669961676, 0.0002222212206106633, 0.0002874524798244238, 0.00037123216316103935, 0.000396000687032938, 0.0004601480031851679, 0.00046044192276895046, 0.0004651331983041018, 0.0004920957144349813, 0.0005122522707097232, 0.0005756249302066863, 0.0006010621436871588, 0.0006147708045318723, 0.000634365133009851, 0.0006671604933217168, 0.0007096844492480159, 0.0007381105679087341, 0.0007605133578181267, 0.0007716395193710923, 0.0007823228370398283, 0.0007912178989499807, 0.0009360220283269882, 0.0009492479730397463, 0.000950389017816633, 0.0010832410771399736, 0.0011357638286426663, 0.0011690090177580714, 0.0012595785083249211, 0.001284064375795424, 0.0013021237682551146, 0.0013260325649753213, 0.001357148983515799, 0.0013836289290338755, 0.001483003026805818, 0.001589741325005889, 0.0016561165684834123, 0.0016790690133348107, 0.0016930826241150498, 0.0017202086746692657, 0.0017397071933373809, 0.0018456140533089638, 0.0019346479093655944, 0.0020498833619058132, 0.0020653714891523123, 0.0020701237954199314, 0.0021173101849853992, 0.0021633226424455643, 0.0021701576188206673, 0.0022838644217699766, 0.0025984200183302164, 0.002896013204008341, 0.003015796886757016, 0.003017017850652337, 0.003074400359764695, 0.0031712648924440145, 0.0031730816699564457, 0.0031797911506146193, 0.003206743160262704, 0.0032915999181568623, 0.0033181000035256147, 0.003402336500585079, 0.003406258299946785, 0.003438172861933708, 0.0034581413492560387, 0.0034899937454611063, 0.003643162315711379, 0.003680613124743104, 0.003744873683899641, 0.0038580046966671944, 0.0038649223279207945, 0.0038850523997098207, 0.004325720481574535, 0.004455868620425463, 0.004459399729967117, 0.0053534856997430325, 0.005659698508679867, 0.006084279622882605, 0.006252775900065899, 0.006765348836779594, 0.006920559331774712, 0.007355394307523966, 0.007569801528006792, 0.0076188319362699986, 0.008850306272506714, 0.009673453867435455, 0.010564158670604229, 0.010875758714973927, 0.011014201678335667, 0.012732273899018764, 0.01295185461640358, 0.013321956619620323, 0.013808502815663815, 0.017744937911629677, 0.018209269270300865, 0.02082458883523941, 0.02251027151942253, 0.022870073094964027, 0.02418876439332962, 0.024839797988533974, 0.026557836681604385, 0.0412166602909565, 0.05361361801624298, 0.0660722553730011, 0.07286734879016876, 0.07293237745761871, 0.07627619802951813, 0.07930003106594086, 0.07992143929004669, 0.09434083849191666, 0.10655537992715836, 0.1128290444612503, 0.11286072432994843, 0.11705085635185242, 0.11932969093322754, 0.11973580718040466, 0.12222278863191605, 0.1247376874089241, 0.12770913541316986, 0.13459767401218414, 0.14290602505207062, 0.15080526471138, 0.162618950009346, 0.16970185935497284, 0.17778374254703522, 0.1879674643278122, 0.1901528686285019, 0.20155419409275055, 0.20278291404247284, 0.20523376762866974, 0.21675598621368408, 0.218109592795372, 0.22030457854270935, 0.2231692522764206, 0.22522206604480743, 0.22573359310626984, 0.23592625558376312, 0.24200685322284698, 0.251835435628891, 0.28919845819473267, 0.2908689081668854, 0.32424041628837585, 0.3434816598892212, 0.3495064079761505, 0.36100584268569946]}, {\"mode\": \"markers\", \"name\": \"H1\", \"type\": \"scatter\", \"x\": [1.102782964706421, 0.3859528601169586, 0.013742227107286453, 0.007411678787320852, 0.00729066738858819, 0.006087247282266617, 0.004588460549712181, 0.0022000030148774385, 0.0012613146100193262, 0.0008143499144352973], \"y\": [1.159562587738037, 1.2870299816131592, 0.015043819323182106, 0.012011401355266571, 0.0077017550356686115, 0.014213817194104195, 0.00606176583096385, 0.0022190844174474478, 0.0014613295206800103, 0.0008875114726833999]}],\n",
       "                        {\"height\": 500, \"plot_bgcolor\": \"white\", \"template\": {\"data\": {\"bar\": [{\"error_x\": {\"color\": \"#2a3f5f\"}, \"error_y\": {\"color\": \"#2a3f5f\"}, \"marker\": {\"line\": {\"color\": \"#E5ECF6\", \"width\": 0.5}}, \"type\": \"bar\"}], \"barpolar\": [{\"marker\": {\"line\": {\"color\": \"#E5ECF6\", \"width\": 0.5}}, \"type\": \"barpolar\"}], \"carpet\": [{\"aaxis\": {\"endlinecolor\": \"#2a3f5f\", \"gridcolor\": \"white\", \"linecolor\": \"white\", \"minorgridcolor\": \"white\", \"startlinecolor\": \"#2a3f5f\"}, \"baxis\": {\"endlinecolor\": \"#2a3f5f\", \"gridcolor\": \"white\", \"linecolor\": \"white\", \"minorgridcolor\": \"white\", \"startlinecolor\": \"#2a3f5f\"}, \"type\": \"carpet\"}], \"choropleth\": [{\"colorbar\": {\"outlinewidth\": 0, \"ticks\": \"\"}, \"type\": \"choropleth\"}], \"contour\": [{\"colorbar\": {\"outlinewidth\": 0, \"ticks\": \"\"}, \"colorscale\": [[0.0, \"#0d0887\"], [0.1111111111111111, \"#46039f\"], [0.2222222222222222, \"#7201a8\"], [0.3333333333333333, \"#9c179e\"], [0.4444444444444444, \"#bd3786\"], [0.5555555555555556, \"#d8576b\"], [0.6666666666666666, \"#ed7953\"], [0.7777777777777778, \"#fb9f3a\"], [0.8888888888888888, \"#fdca26\"], [1.0, \"#f0f921\"]], \"type\": \"contour\"}], \"contourcarpet\": [{\"colorbar\": {\"outlinewidth\": 0, \"ticks\": \"\"}, \"type\": \"contourcarpet\"}], \"heatmap\": [{\"colorbar\": {\"outlinewidth\": 0, \"ticks\": \"\"}, \"colorscale\": [[0.0, \"#0d0887\"], [0.1111111111111111, \"#46039f\"], [0.2222222222222222, \"#7201a8\"], [0.3333333333333333, \"#9c179e\"], [0.4444444444444444, \"#bd3786\"], [0.5555555555555556, \"#d8576b\"], [0.6666666666666666, \"#ed7953\"], [0.7777777777777778, \"#fb9f3a\"], [0.8888888888888888, \"#fdca26\"], [1.0, \"#f0f921\"]], \"type\": \"heatmap\"}], \"heatmapgl\": [{\"colorbar\": {\"outlinewidth\": 0, \"ticks\": \"\"}, \"colorscale\": [[0.0, \"#0d0887\"], [0.1111111111111111, \"#46039f\"], [0.2222222222222222, \"#7201a8\"], [0.3333333333333333, \"#9c179e\"], [0.4444444444444444, \"#bd3786\"], [0.5555555555555556, \"#d8576b\"], [0.6666666666666666, \"#ed7953\"], [0.7777777777777778, \"#fb9f3a\"], [0.8888888888888888, \"#fdca26\"], [1.0, \"#f0f921\"]], \"type\": \"heatmapgl\"}], \"histogram\": [{\"marker\": {\"colorbar\": {\"outlinewidth\": 0, \"ticks\": \"\"}}, \"type\": \"histogram\"}], \"histogram2d\": [{\"colorbar\": {\"outlinewidth\": 0, \"ticks\": \"\"}, \"colorscale\": [[0.0, \"#0d0887\"], [0.1111111111111111, \"#46039f\"], [0.2222222222222222, \"#7201a8\"], [0.3333333333333333, \"#9c179e\"], [0.4444444444444444, \"#bd3786\"], [0.5555555555555556, \"#d8576b\"], [0.6666666666666666, \"#ed7953\"], [0.7777777777777778, \"#fb9f3a\"], [0.8888888888888888, \"#fdca26\"], [1.0, \"#f0f921\"]], \"type\": \"histogram2d\"}], \"histogram2dcontour\": [{\"colorbar\": {\"outlinewidth\": 0, \"ticks\": \"\"}, \"colorscale\": [[0.0, \"#0d0887\"], [0.1111111111111111, \"#46039f\"], [0.2222222222222222, \"#7201a8\"], [0.3333333333333333, \"#9c179e\"], [0.4444444444444444, \"#bd3786\"], [0.5555555555555556, \"#d8576b\"], [0.6666666666666666, \"#ed7953\"], [0.7777777777777778, \"#fb9f3a\"], [0.8888888888888888, \"#fdca26\"], [1.0, \"#f0f921\"]], \"type\": \"histogram2dcontour\"}], \"mesh3d\": [{\"colorbar\": {\"outlinewidth\": 0, \"ticks\": \"\"}, \"type\": \"mesh3d\"}], \"parcoords\": [{\"line\": {\"colorbar\": {\"outlinewidth\": 0, \"ticks\": \"\"}}, \"type\": \"parcoords\"}], \"pie\": [{\"automargin\": true, \"type\": \"pie\"}], \"scatter\": [{\"marker\": {\"colorbar\": {\"outlinewidth\": 0, \"ticks\": \"\"}}, \"type\": \"scatter\"}], \"scatter3d\": [{\"line\": {\"colorbar\": {\"outlinewidth\": 0, \"ticks\": \"\"}}, \"marker\": {\"colorbar\": {\"outlinewidth\": 0, \"ticks\": \"\"}}, \"type\": \"scatter3d\"}], \"scattercarpet\": [{\"marker\": {\"colorbar\": {\"outlinewidth\": 0, \"ticks\": \"\"}}, \"type\": \"scattercarpet\"}], \"scattergeo\": [{\"marker\": {\"colorbar\": {\"outlinewidth\": 0, \"ticks\": \"\"}}, \"type\": \"scattergeo\"}], \"scattergl\": [{\"marker\": {\"colorbar\": {\"outlinewidth\": 0, \"ticks\": \"\"}}, \"type\": \"scattergl\"}], \"scattermapbox\": [{\"marker\": {\"colorbar\": {\"outlinewidth\": 0, \"ticks\": \"\"}}, \"type\": \"scattermapbox\"}], \"scatterpolar\": [{\"marker\": {\"colorbar\": {\"outlinewidth\": 0, \"ticks\": \"\"}}, \"type\": \"scatterpolar\"}], \"scatterpolargl\": [{\"marker\": {\"colorbar\": {\"outlinewidth\": 0, \"ticks\": \"\"}}, \"type\": \"scatterpolargl\"}], \"scatterternary\": [{\"marker\": {\"colorbar\": {\"outlinewidth\": 0, \"ticks\": \"\"}}, \"type\": \"scatterternary\"}], \"surface\": [{\"colorbar\": {\"outlinewidth\": 0, \"ticks\": \"\"}, \"colorscale\": [[0.0, \"#0d0887\"], [0.1111111111111111, \"#46039f\"], [0.2222222222222222, \"#7201a8\"], [0.3333333333333333, \"#9c179e\"], [0.4444444444444444, \"#bd3786\"], [0.5555555555555556, \"#d8576b\"], [0.6666666666666666, \"#ed7953\"], [0.7777777777777778, \"#fb9f3a\"], [0.8888888888888888, \"#fdca26\"], [1.0, \"#f0f921\"]], \"type\": \"surface\"}], \"table\": [{\"cells\": {\"fill\": {\"color\": \"#EBF0F8\"}, \"line\": {\"color\": \"white\"}}, \"header\": {\"fill\": {\"color\": \"#C8D4E3\"}, \"line\": {\"color\": \"white\"}}, \"type\": \"table\"}]}, \"layout\": {\"annotationdefaults\": {\"arrowcolor\": \"#2a3f5f\", \"arrowhead\": 0, \"arrowwidth\": 1}, \"coloraxis\": {\"colorbar\": {\"outlinewidth\": 0, \"ticks\": \"\"}}, \"colorscale\": {\"diverging\": [[0, \"#8e0152\"], [0.1, \"#c51b7d\"], [0.2, \"#de77ae\"], [0.3, \"#f1b6da\"], [0.4, \"#fde0ef\"], [0.5, \"#f7f7f7\"], [0.6, \"#e6f5d0\"], [0.7, \"#b8e186\"], [0.8, \"#7fbc41\"], [0.9, \"#4d9221\"], [1, \"#276419\"]], \"sequential\": [[0.0, \"#0d0887\"], [0.1111111111111111, \"#46039f\"], [0.2222222222222222, \"#7201a8\"], [0.3333333333333333, \"#9c179e\"], [0.4444444444444444, \"#bd3786\"], [0.5555555555555556, \"#d8576b\"], [0.6666666666666666, \"#ed7953\"], [0.7777777777777778, \"#fb9f3a\"], [0.8888888888888888, \"#fdca26\"], [1.0, \"#f0f921\"]], \"sequentialminus\": [[0.0, \"#0d0887\"], [0.1111111111111111, \"#46039f\"], [0.2222222222222222, \"#7201a8\"], [0.3333333333333333, \"#9c179e\"], [0.4444444444444444, \"#bd3786\"], [0.5555555555555556, \"#d8576b\"], [0.6666666666666666, \"#ed7953\"], [0.7777777777777778, \"#fb9f3a\"], [0.8888888888888888, \"#fdca26\"], [1.0, \"#f0f921\"]]}, \"colorway\": [\"#636efa\", \"#EF553B\", \"#00cc96\", \"#ab63fa\", \"#FFA15A\", \"#19d3f3\", \"#FF6692\", \"#B6E880\", \"#FF97FF\", \"#FECB52\"], \"font\": {\"color\": \"#2a3f5f\"}, \"geo\": {\"bgcolor\": \"white\", \"lakecolor\": \"white\", \"landcolor\": \"#E5ECF6\", \"showlakes\": true, \"showland\": true, \"subunitcolor\": \"white\"}, \"hoverlabel\": {\"align\": \"left\"}, \"hovermode\": \"closest\", \"mapbox\": {\"style\": \"light\"}, \"paper_bgcolor\": \"white\", \"plot_bgcolor\": \"#E5ECF6\", \"polar\": {\"angularaxis\": {\"gridcolor\": \"white\", \"linecolor\": \"white\", \"ticks\": \"\"}, \"bgcolor\": \"#E5ECF6\", \"radialaxis\": {\"gridcolor\": \"white\", \"linecolor\": \"white\", \"ticks\": \"\"}}, \"scene\": {\"xaxis\": {\"backgroundcolor\": \"#E5ECF6\", \"gridcolor\": \"white\", \"gridwidth\": 2, \"linecolor\": \"white\", \"showbackground\": true, \"ticks\": \"\", \"zerolinecolor\": \"white\"}, \"yaxis\": {\"backgroundcolor\": \"#E5ECF6\", \"gridcolor\": \"white\", \"gridwidth\": 2, \"linecolor\": \"white\", \"showbackground\": true, \"ticks\": \"\", \"zerolinecolor\": \"white\"}, \"zaxis\": {\"backgroundcolor\": \"#E5ECF6\", \"gridcolor\": \"white\", \"gridwidth\": 2, \"linecolor\": \"white\", \"showbackground\": true, \"ticks\": \"\", \"zerolinecolor\": \"white\"}}, \"shapedefaults\": {\"line\": {\"color\": \"#2a3f5f\"}}, \"ternary\": {\"aaxis\": {\"gridcolor\": \"white\", \"linecolor\": \"white\", \"ticks\": \"\"}, \"baxis\": {\"gridcolor\": \"white\", \"linecolor\": \"white\", \"ticks\": \"\"}, \"bgcolor\": \"#E5ECF6\", \"caxis\": {\"gridcolor\": \"white\", \"linecolor\": \"white\", \"ticks\": \"\"}}, \"title\": {\"x\": 0.05}, \"xaxis\": {\"automargin\": true, \"gridcolor\": \"white\", \"linecolor\": \"white\", \"ticks\": \"\", \"title\": {\"standoff\": 15}, \"zerolinecolor\": \"white\", \"zerolinewidth\": 2}, \"yaxis\": {\"automargin\": true, \"gridcolor\": \"white\", \"linecolor\": \"white\", \"ticks\": \"\", \"title\": {\"standoff\": 15}, \"zerolinecolor\": \"white\", \"zerolinewidth\": 2}}}, \"width\": 500, \"xaxis\": {\"anchor\": \"y\", \"exponentformat\": \"e\", \"linecolor\": \"black\", \"linewidth\": 1, \"mirror\": false, \"range\": [0, 1.4157329797744753], \"showexponent\": \"all\", \"showline\": true, \"side\": \"bottom\", \"ticks\": \"outside\", \"title\": {\"text\": \"Birth\"}, \"type\": \"linear\", \"zeroline\": true}, \"yaxis\": {\"anchor\": \"x\", \"exponentformat\": \"e\", \"linecolor\": \"black\", \"linewidth\": 1, \"mirror\": false, \"range\": [0, 1.4157329797744753], \"showexponent\": \"all\", \"showline\": true, \"side\": \"left\", \"ticks\": \"outside\", \"title\": {\"text\": \"Death\"}, \"type\": \"linear\", \"zeroline\": true}},\n",
       "                        {\"responsive\": true}\n",
       "                    ).then(function(){\n",
       "                            \n",
       "var gd = document.getElementById('f7cd5279-1672-481d-889c-7a383e5ad114');\n",
       "var x = new MutationObserver(function (mutations, observer) {{\n",
       "        var display = window.getComputedStyle(gd).display;\n",
       "        if (!display || display === 'none') {{\n",
       "            console.log([gd, 'removed!']);\n",
       "            Plotly.purge(gd);\n",
       "            observer.disconnect();\n",
       "        }}\n",
       "}});\n",
       "\n",
       "// Listen for the removal of the full notebook cells\n",
       "var notebookContainer = gd.closest('#notebook-container');\n",
       "if (notebookContainer) {{\n",
       "    x.observe(notebookContainer, {childList: true});\n",
       "}}\n",
       "\n",
       "// Listen for the clearing of the current output cell\n",
       "var outputEl = gd.closest('.output');\n",
       "if (outputEl) {{\n",
       "    x.observe(outputEl, {childList: true});\n",
       "}}\n",
       "\n",
       "                        })\n",
       "                };\n",
       "                });\n",
       "            </script>\n",
       "        </div>"
      ]
     },
     "metadata": {},
     "output_type": "display_data"
    }
   ],
   "source": [
    "sample_pd = VietorisRipsPersistence(homology_dimensions=(0, 1)).fit_transform([sample_embedding])[0]\n",
    "plot_diagram(sample_pd)"
   ]
  },
  {
   "cell_type": "markdown",
   "metadata": {},
   "source": [
    "Diagram also can be scaled for normalization."
   ]
  },
  {
   "cell_type": "code",
   "execution_count": 99,
   "metadata": {},
   "outputs": [
    {
     "data": {
      "application/vnd.plotly.v1+json": {
       "config": {
        "plotlyServerURL": "https://plot.ly"
       },
       "data": [
        {
         "hoverinfo": "none",
         "line": {
          "color": "black",
          "dash": "dash",
          "width": 1
         },
         "mode": "lines",
         "showlegend": false,
         "type": "scatter",
         "x": [
          -285.66477849889253,
          285.66477849889253
         ],
         "y": [
          -285.66477849889253,
          285.66477849889253
         ]
        },
        {
         "mode": "markers",
         "name": "H0",
         "type": "scatter",
         "x": [
          0,
          0,
          0,
          0,
          0,
          0,
          0,
          0,
          0,
          0,
          0,
          0,
          0,
          0,
          0,
          0,
          0,
          0,
          0,
          0,
          0,
          0,
          0,
          0,
          0,
          0,
          0,
          0,
          0,
          0,
          0,
          0,
          0,
          0,
          0,
          0,
          0,
          0,
          0,
          0,
          0,
          0,
          0,
          0,
          0,
          0,
          0,
          0,
          0,
          0,
          0,
          0,
          0,
          0,
          0,
          0,
          0,
          0,
          0,
          0,
          0,
          0,
          0,
          0,
          0,
          0,
          0,
          0,
          0,
          0,
          0,
          0,
          0,
          0,
          0,
          0,
          0,
          0,
          0,
          0,
          0,
          0,
          0,
          0,
          0,
          0,
          0,
          0,
          0,
          0,
          0,
          0,
          0,
          0,
          0,
          0,
          0,
          0,
          0,
          0,
          0,
          0,
          0,
          0,
          0,
          0,
          0,
          0,
          0,
          0,
          0,
          0,
          0,
          0,
          0,
          0,
          0,
          0,
          0,
          0,
          0,
          0,
          0,
          0,
          0,
          0,
          0,
          0,
          0,
          0,
          0,
          0,
          0,
          0,
          0,
          0,
          0,
          0,
          0,
          0,
          0,
          0,
          0,
          0
         ],
         "y": [
          0.0004406341371358702,
          0.0004932346306644082,
          0.0006380197054545588,
          0.0008239742288531841,
          0.0008789495983992925,
          0.0010213287901952534,
          0.0010219811640637508,
          0.0010323937589976045,
          0.00109223883881965,
          0.0011369776426220874,
          0.0012776374329666375,
          0.0013340970031269254,
          0.00136452427847923,
          0.0014080151806684746,
          0.0014808066421971183,
          0.0015751913622434777,
          0.0016382850042472117,
          0.001688009471498569,
          0.001712704719635579,
          0.0017364170466137555,
          0.0017561602221931832,
          0.0020775625215581173,
          0.002106918376672487,
          0.0021094510006836086,
          0.00240432489361465,
          0.0025209025987848375,
          0.002594692484960624,
          0.002795717432562141,
          0.0028500654276146513,
          0.002890149438247845,
          0.0029432165867745042,
          0.0030122815264964453,
          0.003071055509069896,
          0.0032916228620772305,
          0.0035285355428094555,
          0.0036758597659953913,
          0.0037268042285809842,
          0.003757908360393742,
          0.0038181164156358377,
          0.003861394661643768,
          0.004096461910484198,
          0.004294078416180833,
          0.004549851090441778,
          0.004584228008636708,
          0.004594776065299668,
          0.004699509363792735,
          0.0048016370426838895,
          0.004816807722777851,
          0.005069187458622223,
          0.005767364316198928,
          0.006427891985981473,
          0.006693759756655263,
          0.006696469766411794,
          0.006823834023573438,
          0.0070388312316225785,
          0.007042863688931925,
          0.007057755823019255,
          0.007117577583010968,
          0.007305922744306945,
          0.007364741428605022,
          0.007551709880139101,
          0.007560414572042039,
          0.007631251043694833,
          0.007675572416074533,
          0.00774627090668137,
          0.00808623863329714,
          0.008169363169784182,
          0.008311993711884364,
          0.008563095443509076,
          0.008578449581548034,
          0.00862312960129063,
          0.009601221423515579,
          0.009890093786926209,
          0.009897931317049692,
          0.011882413995494182,
          0.01256207348663381,
          0.013504459224932744,
          0.013878447806295267,
          0.015016137188226504,
          0.015360637101258135,
          0.016325781960395674,
          0.016801672903285915,
          0.016910499122692737,
          0.019643837494866485,
          0.0214708677796038,
          0.02344784573614052,
          0.024139462551030454,
          0.024446745823591767,
          0.02826012023893662,
          0.028747494098834894,
          0.029568959863279575,
          0.030648881180637185,
          0.03938605805941439,
          0.04041667208255192,
          0.04622154605515021,
          0.04996302976163722,
          0.05076163304865456,
          0.05368855521082412,
          0.05513356714082039,
          0.058946867139421356,
          0.09148309130858405,
          0.11899895522198994,
          0.1466517211385656,
          0.16173387838141,
          0.16187821379044132,
          0.16930004371404905,
          0.17601164023400462,
          0.1773908967022501,
          0.20939570263479262,
          0.23650668158176658,
          0.25043149308663487,
          0.25050180864108046,
          0.25980208255092396,
          0.2648601059476144,
          0.2657615076977837,
          0.2712815267775754,
          0.27686351019944316,
          0.2834588346913397,
          0.2987483996679227,
          0.31718933184050035,
          0.33472221436712146,
          0.36094346672418914,
          0.3766644503706632,
          0.3946027222438692,
          0.4172061632542621,
          0.4220568119913223,
          0.4473628045468035,
          0.4500900293767538,
          0.45552986028074427,
          0.4811041830776258,
          0.48410860201002603,
          0.48898051739878357,
          0.4953388493669831,
          0.4998952046875537,
          0.501030572680502,
          0.5236538581559312,
          0.537150144975393,
          0.5589653307604323,
          0.6418950194063985,
          0.6456026931055797,
          0.7196729526324857,
          0.7623801596890716,
          0.7757524847502728,
          0.80127623723542
         ]
        },
        {
         "mode": "markers",
         "name": "H1",
         "type": "scatter",
         "x": [
          2.447699399747929,
          0.8566477849889256,
          0.030501777882159666,
          0.016450709069195036,
          0.01618211630205935,
          0.013511046140332581,
          0.01018439030411345,
          0.004883051544410375,
          0.0027995708245815106,
          0.0018075032536240705
         ],
         "y": [
          2.5737255115580613,
          2.8566477849889256,
          0.033390747504947145,
          0.02666009616429312,
          0.017094552401641653,
          0.0315485031303486,
          0.013454488381412999,
          0.004925403973774746,
          0.003243517088201139,
          0.001969890149268743
         ]
        }
       ],
       "layout": {
        "height": 500,
        "plot_bgcolor": "white",
        "template": {
         "data": {
          "bar": [
           {
            "error_x": {
             "color": "#2a3f5f"
            },
            "error_y": {
             "color": "#2a3f5f"
            },
            "marker": {
             "line": {
              "color": "#E5ECF6",
              "width": 0.5
             }
            },
            "type": "bar"
           }
          ],
          "barpolar": [
           {
            "marker": {
             "line": {
              "color": "#E5ECF6",
              "width": 0.5
             }
            },
            "type": "barpolar"
           }
          ],
          "carpet": [
           {
            "aaxis": {
             "endlinecolor": "#2a3f5f",
             "gridcolor": "white",
             "linecolor": "white",
             "minorgridcolor": "white",
             "startlinecolor": "#2a3f5f"
            },
            "baxis": {
             "endlinecolor": "#2a3f5f",
             "gridcolor": "white",
             "linecolor": "white",
             "minorgridcolor": "white",
             "startlinecolor": "#2a3f5f"
            },
            "type": "carpet"
           }
          ],
          "choropleth": [
           {
            "colorbar": {
             "outlinewidth": 0,
             "ticks": ""
            },
            "type": "choropleth"
           }
          ],
          "contour": [
           {
            "colorbar": {
             "outlinewidth": 0,
             "ticks": ""
            },
            "colorscale": [
             [
              0,
              "#0d0887"
             ],
             [
              0.1111111111111111,
              "#46039f"
             ],
             [
              0.2222222222222222,
              "#7201a8"
             ],
             [
              0.3333333333333333,
              "#9c179e"
             ],
             [
              0.4444444444444444,
              "#bd3786"
             ],
             [
              0.5555555555555556,
              "#d8576b"
             ],
             [
              0.6666666666666666,
              "#ed7953"
             ],
             [
              0.7777777777777778,
              "#fb9f3a"
             ],
             [
              0.8888888888888888,
              "#fdca26"
             ],
             [
              1,
              "#f0f921"
             ]
            ],
            "type": "contour"
           }
          ],
          "contourcarpet": [
           {
            "colorbar": {
             "outlinewidth": 0,
             "ticks": ""
            },
            "type": "contourcarpet"
           }
          ],
          "heatmap": [
           {
            "colorbar": {
             "outlinewidth": 0,
             "ticks": ""
            },
            "colorscale": [
             [
              0,
              "#0d0887"
             ],
             [
              0.1111111111111111,
              "#46039f"
             ],
             [
              0.2222222222222222,
              "#7201a8"
             ],
             [
              0.3333333333333333,
              "#9c179e"
             ],
             [
              0.4444444444444444,
              "#bd3786"
             ],
             [
              0.5555555555555556,
              "#d8576b"
             ],
             [
              0.6666666666666666,
              "#ed7953"
             ],
             [
              0.7777777777777778,
              "#fb9f3a"
             ],
             [
              0.8888888888888888,
              "#fdca26"
             ],
             [
              1,
              "#f0f921"
             ]
            ],
            "type": "heatmap"
           }
          ],
          "heatmapgl": [
           {
            "colorbar": {
             "outlinewidth": 0,
             "ticks": ""
            },
            "colorscale": [
             [
              0,
              "#0d0887"
             ],
             [
              0.1111111111111111,
              "#46039f"
             ],
             [
              0.2222222222222222,
              "#7201a8"
             ],
             [
              0.3333333333333333,
              "#9c179e"
             ],
             [
              0.4444444444444444,
              "#bd3786"
             ],
             [
              0.5555555555555556,
              "#d8576b"
             ],
             [
              0.6666666666666666,
              "#ed7953"
             ],
             [
              0.7777777777777778,
              "#fb9f3a"
             ],
             [
              0.8888888888888888,
              "#fdca26"
             ],
             [
              1,
              "#f0f921"
             ]
            ],
            "type": "heatmapgl"
           }
          ],
          "histogram": [
           {
            "marker": {
             "colorbar": {
              "outlinewidth": 0,
              "ticks": ""
             }
            },
            "type": "histogram"
           }
          ],
          "histogram2d": [
           {
            "colorbar": {
             "outlinewidth": 0,
             "ticks": ""
            },
            "colorscale": [
             [
              0,
              "#0d0887"
             ],
             [
              0.1111111111111111,
              "#46039f"
             ],
             [
              0.2222222222222222,
              "#7201a8"
             ],
             [
              0.3333333333333333,
              "#9c179e"
             ],
             [
              0.4444444444444444,
              "#bd3786"
             ],
             [
              0.5555555555555556,
              "#d8576b"
             ],
             [
              0.6666666666666666,
              "#ed7953"
             ],
             [
              0.7777777777777778,
              "#fb9f3a"
             ],
             [
              0.8888888888888888,
              "#fdca26"
             ],
             [
              1,
              "#f0f921"
             ]
            ],
            "type": "histogram2d"
           }
          ],
          "histogram2dcontour": [
           {
            "colorbar": {
             "outlinewidth": 0,
             "ticks": ""
            },
            "colorscale": [
             [
              0,
              "#0d0887"
             ],
             [
              0.1111111111111111,
              "#46039f"
             ],
             [
              0.2222222222222222,
              "#7201a8"
             ],
             [
              0.3333333333333333,
              "#9c179e"
             ],
             [
              0.4444444444444444,
              "#bd3786"
             ],
             [
              0.5555555555555556,
              "#d8576b"
             ],
             [
              0.6666666666666666,
              "#ed7953"
             ],
             [
              0.7777777777777778,
              "#fb9f3a"
             ],
             [
              0.8888888888888888,
              "#fdca26"
             ],
             [
              1,
              "#f0f921"
             ]
            ],
            "type": "histogram2dcontour"
           }
          ],
          "mesh3d": [
           {
            "colorbar": {
             "outlinewidth": 0,
             "ticks": ""
            },
            "type": "mesh3d"
           }
          ],
          "parcoords": [
           {
            "line": {
             "colorbar": {
              "outlinewidth": 0,
              "ticks": ""
             }
            },
            "type": "parcoords"
           }
          ],
          "pie": [
           {
            "automargin": true,
            "type": "pie"
           }
          ],
          "scatter": [
           {
            "marker": {
             "colorbar": {
              "outlinewidth": 0,
              "ticks": ""
             }
            },
            "type": "scatter"
           }
          ],
          "scatter3d": [
           {
            "line": {
             "colorbar": {
              "outlinewidth": 0,
              "ticks": ""
             }
            },
            "marker": {
             "colorbar": {
              "outlinewidth": 0,
              "ticks": ""
             }
            },
            "type": "scatter3d"
           }
          ],
          "scattercarpet": [
           {
            "marker": {
             "colorbar": {
              "outlinewidth": 0,
              "ticks": ""
             }
            },
            "type": "scattercarpet"
           }
          ],
          "scattergeo": [
           {
            "marker": {
             "colorbar": {
              "outlinewidth": 0,
              "ticks": ""
             }
            },
            "type": "scattergeo"
           }
          ],
          "scattergl": [
           {
            "marker": {
             "colorbar": {
              "outlinewidth": 0,
              "ticks": ""
             }
            },
            "type": "scattergl"
           }
          ],
          "scattermapbox": [
           {
            "marker": {
             "colorbar": {
              "outlinewidth": 0,
              "ticks": ""
             }
            },
            "type": "scattermapbox"
           }
          ],
          "scatterpolar": [
           {
            "marker": {
             "colorbar": {
              "outlinewidth": 0,
              "ticks": ""
             }
            },
            "type": "scatterpolar"
           }
          ],
          "scatterpolargl": [
           {
            "marker": {
             "colorbar": {
              "outlinewidth": 0,
              "ticks": ""
             }
            },
            "type": "scatterpolargl"
           }
          ],
          "scatterternary": [
           {
            "marker": {
             "colorbar": {
              "outlinewidth": 0,
              "ticks": ""
             }
            },
            "type": "scatterternary"
           }
          ],
          "surface": [
           {
            "colorbar": {
             "outlinewidth": 0,
             "ticks": ""
            },
            "colorscale": [
             [
              0,
              "#0d0887"
             ],
             [
              0.1111111111111111,
              "#46039f"
             ],
             [
              0.2222222222222222,
              "#7201a8"
             ],
             [
              0.3333333333333333,
              "#9c179e"
             ],
             [
              0.4444444444444444,
              "#bd3786"
             ],
             [
              0.5555555555555556,
              "#d8576b"
             ],
             [
              0.6666666666666666,
              "#ed7953"
             ],
             [
              0.7777777777777778,
              "#fb9f3a"
             ],
             [
              0.8888888888888888,
              "#fdca26"
             ],
             [
              1,
              "#f0f921"
             ]
            ],
            "type": "surface"
           }
          ],
          "table": [
           {
            "cells": {
             "fill": {
              "color": "#EBF0F8"
             },
             "line": {
              "color": "white"
             }
            },
            "header": {
             "fill": {
              "color": "#C8D4E3"
             },
             "line": {
              "color": "white"
             }
            },
            "type": "table"
           }
          ]
         },
         "layout": {
          "annotationdefaults": {
           "arrowcolor": "#2a3f5f",
           "arrowhead": 0,
           "arrowwidth": 1
          },
          "coloraxis": {
           "colorbar": {
            "outlinewidth": 0,
            "ticks": ""
           }
          },
          "colorscale": {
           "diverging": [
            [
             0,
             "#8e0152"
            ],
            [
             0.1,
             "#c51b7d"
            ],
            [
             0.2,
             "#de77ae"
            ],
            [
             0.3,
             "#f1b6da"
            ],
            [
             0.4,
             "#fde0ef"
            ],
            [
             0.5,
             "#f7f7f7"
            ],
            [
             0.6,
             "#e6f5d0"
            ],
            [
             0.7,
             "#b8e186"
            ],
            [
             0.8,
             "#7fbc41"
            ],
            [
             0.9,
             "#4d9221"
            ],
            [
             1,
             "#276419"
            ]
           ],
           "sequential": [
            [
             0,
             "#0d0887"
            ],
            [
             0.1111111111111111,
             "#46039f"
            ],
            [
             0.2222222222222222,
             "#7201a8"
            ],
            [
             0.3333333333333333,
             "#9c179e"
            ],
            [
             0.4444444444444444,
             "#bd3786"
            ],
            [
             0.5555555555555556,
             "#d8576b"
            ],
            [
             0.6666666666666666,
             "#ed7953"
            ],
            [
             0.7777777777777778,
             "#fb9f3a"
            ],
            [
             0.8888888888888888,
             "#fdca26"
            ],
            [
             1,
             "#f0f921"
            ]
           ],
           "sequentialminus": [
            [
             0,
             "#0d0887"
            ],
            [
             0.1111111111111111,
             "#46039f"
            ],
            [
             0.2222222222222222,
             "#7201a8"
            ],
            [
             0.3333333333333333,
             "#9c179e"
            ],
            [
             0.4444444444444444,
             "#bd3786"
            ],
            [
             0.5555555555555556,
             "#d8576b"
            ],
            [
             0.6666666666666666,
             "#ed7953"
            ],
            [
             0.7777777777777778,
             "#fb9f3a"
            ],
            [
             0.8888888888888888,
             "#fdca26"
            ],
            [
             1,
             "#f0f921"
            ]
           ]
          },
          "colorway": [
           "#636efa",
           "#EF553B",
           "#00cc96",
           "#ab63fa",
           "#FFA15A",
           "#19d3f3",
           "#FF6692",
           "#B6E880",
           "#FF97FF",
           "#FECB52"
          ],
          "font": {
           "color": "#2a3f5f"
          },
          "geo": {
           "bgcolor": "white",
           "lakecolor": "white",
           "landcolor": "#E5ECF6",
           "showlakes": true,
           "showland": true,
           "subunitcolor": "white"
          },
          "hoverlabel": {
           "align": "left"
          },
          "hovermode": "closest",
          "mapbox": {
           "style": "light"
          },
          "paper_bgcolor": "white",
          "plot_bgcolor": "#E5ECF6",
          "polar": {
           "angularaxis": {
            "gridcolor": "white",
            "linecolor": "white",
            "ticks": ""
           },
           "bgcolor": "#E5ECF6",
           "radialaxis": {
            "gridcolor": "white",
            "linecolor": "white",
            "ticks": ""
           }
          },
          "scene": {
           "xaxis": {
            "backgroundcolor": "#E5ECF6",
            "gridcolor": "white",
            "gridwidth": 2,
            "linecolor": "white",
            "showbackground": true,
            "ticks": "",
            "zerolinecolor": "white"
           },
           "yaxis": {
            "backgroundcolor": "#E5ECF6",
            "gridcolor": "white",
            "gridwidth": 2,
            "linecolor": "white",
            "showbackground": true,
            "ticks": "",
            "zerolinecolor": "white"
           },
           "zaxis": {
            "backgroundcolor": "#E5ECF6",
            "gridcolor": "white",
            "gridwidth": 2,
            "linecolor": "white",
            "showbackground": true,
            "ticks": "",
            "zerolinecolor": "white"
           }
          },
          "shapedefaults": {
           "line": {
            "color": "#2a3f5f"
           }
          },
          "ternary": {
           "aaxis": {
            "gridcolor": "white",
            "linecolor": "white",
            "ticks": ""
           },
           "baxis": {
            "gridcolor": "white",
            "linecolor": "white",
            "ticks": ""
           },
           "bgcolor": "#E5ECF6",
           "caxis": {
            "gridcolor": "white",
            "linecolor": "white",
            "ticks": ""
           }
          },
          "title": {
           "x": 0.05
          },
          "xaxis": {
           "automargin": true,
           "gridcolor": "white",
           "linecolor": "white",
           "ticks": "",
           "title": {
            "standoff": 15
           },
           "zerolinecolor": "white",
           "zerolinewidth": 2
          },
          "yaxis": {
           "automargin": true,
           "gridcolor": "white",
           "linecolor": "white",
           "ticks": "",
           "title": {
            "standoff": 15
           },
           "zerolinecolor": "white",
           "zerolinewidth": 2
          }
         }
        },
        "width": 500,
        "xaxis": {
         "anchor": "y",
         "exponentformat": "e",
         "linecolor": "black",
         "linewidth": 1,
         "mirror": false,
         "range": [
          0,
          3.142312563487818
         ],
         "showexponent": "all",
         "showline": true,
         "side": "bottom",
         "ticks": "outside",
         "title": {
          "text": "Birth"
         },
         "type": "linear",
         "zeroline": true
        },
        "yaxis": {
         "anchor": "x",
         "exponentformat": "e",
         "linecolor": "black",
         "linewidth": 1,
         "mirror": false,
         "range": [
          0,
          3.142312563487818
         ],
         "showexponent": "all",
         "showline": true,
         "side": "left",
         "ticks": "outside",
         "title": {
          "text": "Death"
         },
         "type": "linear",
         "zeroline": true
        }
       }
      },
      "text/html": [
       "<div>\n",
       "        \n",
       "        \n",
       "            <div id=\"ce8c3786-b047-4d7a-89ee-44165a7eb710\" class=\"plotly-graph-div\" style=\"height:500px; width:500px;\"></div>\n",
       "            <script type=\"text/javascript\">\n",
       "                require([\"plotly\"], function(Plotly) {\n",
       "                    window.PLOTLYENV=window.PLOTLYENV || {};\n",
       "                    \n",
       "                if (document.getElementById(\"ce8c3786-b047-4d7a-89ee-44165a7eb710\")) {\n",
       "                    Plotly.newPlot(\n",
       "                        'ce8c3786-b047-4d7a-89ee-44165a7eb710',\n",
       "                        [{\"hoverinfo\": \"none\", \"line\": {\"color\": \"black\", \"dash\": \"dash\", \"width\": 1}, \"mode\": \"lines\", \"showlegend\": false, \"type\": \"scatter\", \"x\": [-285.66477849889253, 285.66477849889253], \"y\": [-285.66477849889253, 285.66477849889253]}, {\"mode\": \"markers\", \"name\": \"H0\", \"type\": \"scatter\", \"x\": [0.0, 0.0, 0.0, 0.0, 0.0, 0.0, 0.0, 0.0, 0.0, 0.0, 0.0, 0.0, 0.0, 0.0, 0.0, 0.0, 0.0, 0.0, 0.0, 0.0, 0.0, 0.0, 0.0, 0.0, 0.0, 0.0, 0.0, 0.0, 0.0, 0.0, 0.0, 0.0, 0.0, 0.0, 0.0, 0.0, 0.0, 0.0, 0.0, 0.0, 0.0, 0.0, 0.0, 0.0, 0.0, 0.0, 0.0, 0.0, 0.0, 0.0, 0.0, 0.0, 0.0, 0.0, 0.0, 0.0, 0.0, 0.0, 0.0, 0.0, 0.0, 0.0, 0.0, 0.0, 0.0, 0.0, 0.0, 0.0, 0.0, 0.0, 0.0, 0.0, 0.0, 0.0, 0.0, 0.0, 0.0, 0.0, 0.0, 0.0, 0.0, 0.0, 0.0, 0.0, 0.0, 0.0, 0.0, 0.0, 0.0, 0.0, 0.0, 0.0, 0.0, 0.0, 0.0, 0.0, 0.0, 0.0, 0.0, 0.0, 0.0, 0.0, 0.0, 0.0, 0.0, 0.0, 0.0, 0.0, 0.0, 0.0, 0.0, 0.0, 0.0, 0.0, 0.0, 0.0, 0.0, 0.0, 0.0, 0.0, 0.0, 0.0, 0.0, 0.0, 0.0, 0.0, 0.0, 0.0, 0.0, 0.0, 0.0, 0.0, 0.0, 0.0, 0.0, 0.0, 0.0, 0.0, 0.0, 0.0, 0.0, 0.0, 0.0, 0.0], \"y\": [0.0004406341371358702, 0.0004932346306644082, 0.0006380197054545588, 0.0008239742288531841, 0.0008789495983992925, 0.0010213287901952534, 0.0010219811640637508, 0.0010323937589976045, 0.00109223883881965, 0.0011369776426220874, 0.0012776374329666375, 0.0013340970031269254, 0.00136452427847923, 0.0014080151806684746, 0.0014808066421971183, 0.0015751913622434777, 0.0016382850042472117, 0.001688009471498569, 0.001712704719635579, 0.0017364170466137555, 0.0017561602221931832, 0.0020775625215581173, 0.002106918376672487, 0.0021094510006836086, 0.00240432489361465, 0.0025209025987848375, 0.002594692484960624, 0.002795717432562141, 0.0028500654276146513, 0.002890149438247845, 0.0029432165867745042, 0.0030122815264964453, 0.003071055509069896, 0.0032916228620772305, 0.0035285355428094555, 0.0036758597659953913, 0.0037268042285809842, 0.003757908360393742, 0.0038181164156358377, 0.003861394661643768, 0.004096461910484198, 0.004294078416180833, 0.004549851090441778, 0.004584228008636708, 0.004594776065299668, 0.004699509363792735, 0.0048016370426838895, 0.004816807722777851, 0.005069187458622223, 0.005767364316198928, 0.006427891985981473, 0.006693759756655263, 0.006696469766411794, 0.006823834023573438, 0.0070388312316225785, 0.007042863688931925, 0.007057755823019255, 0.007117577583010968, 0.007305922744306945, 0.007364741428605022, 0.007551709880139101, 0.007560414572042039, 0.007631251043694833, 0.007675572416074533, 0.00774627090668137, 0.00808623863329714, 0.008169363169784182, 0.008311993711884364, 0.008563095443509076, 0.008578449581548034, 0.00862312960129063, 0.009601221423515579, 0.009890093786926209, 0.009897931317049692, 0.011882413995494182, 0.01256207348663381, 0.013504459224932744, 0.013878447806295267, 0.015016137188226504, 0.015360637101258135, 0.016325781960395674, 0.016801672903285915, 0.016910499122692737, 0.019643837494866485, 0.0214708677796038, 0.02344784573614052, 0.024139462551030454, 0.024446745823591767, 0.02826012023893662, 0.028747494098834894, 0.029568959863279575, 0.030648881180637185, 0.03938605805941439, 0.04041667208255192, 0.04622154605515021, 0.04996302976163722, 0.05076163304865456, 0.05368855521082412, 0.05513356714082039, 0.058946867139421356, 0.09148309130858405, 0.11899895522198994, 0.1466517211385656, 0.16173387838141, 0.16187821379044132, 0.16930004371404905, 0.17601164023400462, 0.1773908967022501, 0.20939570263479262, 0.23650668158176658, 0.25043149308663487, 0.25050180864108046, 0.25980208255092396, 0.2648601059476144, 0.2657615076977837, 0.2712815267775754, 0.27686351019944316, 0.2834588346913397, 0.2987483996679227, 0.31718933184050035, 0.33472221436712146, 0.36094346672418914, 0.3766644503706632, 0.3946027222438692, 0.4172061632542621, 0.4220568119913223, 0.4473628045468035, 0.4500900293767538, 0.45552986028074427, 0.4811041830776258, 0.48410860201002603, 0.48898051739878357, 0.4953388493669831, 0.4998952046875537, 0.501030572680502, 0.5236538581559312, 0.537150144975393, 0.5589653307604323, 0.6418950194063985, 0.6456026931055797, 0.7196729526324857, 0.7623801596890716, 0.7757524847502728, 0.80127623723542]}, {\"mode\": \"markers\", \"name\": \"H1\", \"type\": \"scatter\", \"x\": [2.447699399747929, 0.8566477849889256, 0.030501777882159666, 0.016450709069195036, 0.01618211630205935, 0.013511046140332581, 0.01018439030411345, 0.004883051544410375, 0.0027995708245815106, 0.0018075032536240705], \"y\": [2.5737255115580613, 2.8566477849889256, 0.033390747504947145, 0.02666009616429312, 0.017094552401641653, 0.0315485031303486, 0.013454488381412999, 0.004925403973774746, 0.003243517088201139, 0.001969890149268743]}],\n",
       "                        {\"height\": 500, \"plot_bgcolor\": \"white\", \"template\": {\"data\": {\"bar\": [{\"error_x\": {\"color\": \"#2a3f5f\"}, \"error_y\": {\"color\": \"#2a3f5f\"}, \"marker\": {\"line\": {\"color\": \"#E5ECF6\", \"width\": 0.5}}, \"type\": \"bar\"}], \"barpolar\": [{\"marker\": {\"line\": {\"color\": \"#E5ECF6\", \"width\": 0.5}}, \"type\": \"barpolar\"}], \"carpet\": [{\"aaxis\": {\"endlinecolor\": \"#2a3f5f\", \"gridcolor\": \"white\", \"linecolor\": \"white\", \"minorgridcolor\": \"white\", \"startlinecolor\": \"#2a3f5f\"}, \"baxis\": {\"endlinecolor\": \"#2a3f5f\", \"gridcolor\": \"white\", \"linecolor\": \"white\", \"minorgridcolor\": \"white\", \"startlinecolor\": \"#2a3f5f\"}, \"type\": \"carpet\"}], \"choropleth\": [{\"colorbar\": {\"outlinewidth\": 0, \"ticks\": \"\"}, \"type\": \"choropleth\"}], \"contour\": [{\"colorbar\": {\"outlinewidth\": 0, \"ticks\": \"\"}, \"colorscale\": [[0.0, \"#0d0887\"], [0.1111111111111111, \"#46039f\"], [0.2222222222222222, \"#7201a8\"], [0.3333333333333333, \"#9c179e\"], [0.4444444444444444, \"#bd3786\"], [0.5555555555555556, \"#d8576b\"], [0.6666666666666666, \"#ed7953\"], [0.7777777777777778, \"#fb9f3a\"], [0.8888888888888888, \"#fdca26\"], [1.0, \"#f0f921\"]], \"type\": \"contour\"}], \"contourcarpet\": [{\"colorbar\": {\"outlinewidth\": 0, \"ticks\": \"\"}, \"type\": \"contourcarpet\"}], \"heatmap\": [{\"colorbar\": {\"outlinewidth\": 0, \"ticks\": \"\"}, \"colorscale\": [[0.0, \"#0d0887\"], [0.1111111111111111, \"#46039f\"], [0.2222222222222222, \"#7201a8\"], [0.3333333333333333, \"#9c179e\"], [0.4444444444444444, \"#bd3786\"], [0.5555555555555556, \"#d8576b\"], [0.6666666666666666, \"#ed7953\"], [0.7777777777777778, \"#fb9f3a\"], [0.8888888888888888, \"#fdca26\"], [1.0, \"#f0f921\"]], \"type\": \"heatmap\"}], \"heatmapgl\": [{\"colorbar\": {\"outlinewidth\": 0, \"ticks\": \"\"}, \"colorscale\": [[0.0, \"#0d0887\"], [0.1111111111111111, \"#46039f\"], [0.2222222222222222, \"#7201a8\"], [0.3333333333333333, \"#9c179e\"], [0.4444444444444444, \"#bd3786\"], [0.5555555555555556, \"#d8576b\"], [0.6666666666666666, \"#ed7953\"], [0.7777777777777778, \"#fb9f3a\"], [0.8888888888888888, \"#fdca26\"], [1.0, \"#f0f921\"]], \"type\": \"heatmapgl\"}], \"histogram\": [{\"marker\": {\"colorbar\": {\"outlinewidth\": 0, \"ticks\": \"\"}}, \"type\": \"histogram\"}], \"histogram2d\": [{\"colorbar\": {\"outlinewidth\": 0, \"ticks\": \"\"}, \"colorscale\": [[0.0, \"#0d0887\"], [0.1111111111111111, \"#46039f\"], [0.2222222222222222, \"#7201a8\"], [0.3333333333333333, \"#9c179e\"], [0.4444444444444444, \"#bd3786\"], [0.5555555555555556, \"#d8576b\"], [0.6666666666666666, \"#ed7953\"], [0.7777777777777778, \"#fb9f3a\"], [0.8888888888888888, \"#fdca26\"], [1.0, \"#f0f921\"]], \"type\": \"histogram2d\"}], \"histogram2dcontour\": [{\"colorbar\": {\"outlinewidth\": 0, \"ticks\": \"\"}, \"colorscale\": [[0.0, \"#0d0887\"], [0.1111111111111111, \"#46039f\"], [0.2222222222222222, \"#7201a8\"], [0.3333333333333333, \"#9c179e\"], [0.4444444444444444, \"#bd3786\"], [0.5555555555555556, \"#d8576b\"], [0.6666666666666666, \"#ed7953\"], [0.7777777777777778, \"#fb9f3a\"], [0.8888888888888888, \"#fdca26\"], [1.0, \"#f0f921\"]], \"type\": \"histogram2dcontour\"}], \"mesh3d\": [{\"colorbar\": {\"outlinewidth\": 0, \"ticks\": \"\"}, \"type\": \"mesh3d\"}], \"parcoords\": [{\"line\": {\"colorbar\": {\"outlinewidth\": 0, \"ticks\": \"\"}}, \"type\": \"parcoords\"}], \"pie\": [{\"automargin\": true, \"type\": \"pie\"}], \"scatter\": [{\"marker\": {\"colorbar\": {\"outlinewidth\": 0, \"ticks\": \"\"}}, \"type\": \"scatter\"}], \"scatter3d\": [{\"line\": {\"colorbar\": {\"outlinewidth\": 0, \"ticks\": \"\"}}, \"marker\": {\"colorbar\": {\"outlinewidth\": 0, \"ticks\": \"\"}}, \"type\": \"scatter3d\"}], \"scattercarpet\": [{\"marker\": {\"colorbar\": {\"outlinewidth\": 0, \"ticks\": \"\"}}, \"type\": \"scattercarpet\"}], \"scattergeo\": [{\"marker\": {\"colorbar\": {\"outlinewidth\": 0, \"ticks\": \"\"}}, \"type\": \"scattergeo\"}], \"scattergl\": [{\"marker\": {\"colorbar\": {\"outlinewidth\": 0, \"ticks\": \"\"}}, \"type\": \"scattergl\"}], \"scattermapbox\": [{\"marker\": {\"colorbar\": {\"outlinewidth\": 0, \"ticks\": \"\"}}, \"type\": \"scattermapbox\"}], \"scatterpolar\": [{\"marker\": {\"colorbar\": {\"outlinewidth\": 0, \"ticks\": \"\"}}, \"type\": \"scatterpolar\"}], \"scatterpolargl\": [{\"marker\": {\"colorbar\": {\"outlinewidth\": 0, \"ticks\": \"\"}}, \"type\": \"scatterpolargl\"}], \"scatterternary\": [{\"marker\": {\"colorbar\": {\"outlinewidth\": 0, \"ticks\": \"\"}}, \"type\": \"scatterternary\"}], \"surface\": [{\"colorbar\": {\"outlinewidth\": 0, \"ticks\": \"\"}, \"colorscale\": [[0.0, \"#0d0887\"], [0.1111111111111111, \"#46039f\"], [0.2222222222222222, \"#7201a8\"], [0.3333333333333333, \"#9c179e\"], [0.4444444444444444, \"#bd3786\"], [0.5555555555555556, \"#d8576b\"], [0.6666666666666666, \"#ed7953\"], [0.7777777777777778, \"#fb9f3a\"], [0.8888888888888888, \"#fdca26\"], [1.0, \"#f0f921\"]], \"type\": \"surface\"}], \"table\": [{\"cells\": {\"fill\": {\"color\": \"#EBF0F8\"}, \"line\": {\"color\": \"white\"}}, \"header\": {\"fill\": {\"color\": \"#C8D4E3\"}, \"line\": {\"color\": \"white\"}}, \"type\": \"table\"}]}, \"layout\": {\"annotationdefaults\": {\"arrowcolor\": \"#2a3f5f\", \"arrowhead\": 0, \"arrowwidth\": 1}, \"coloraxis\": {\"colorbar\": {\"outlinewidth\": 0, \"ticks\": \"\"}}, \"colorscale\": {\"diverging\": [[0, \"#8e0152\"], [0.1, \"#c51b7d\"], [0.2, \"#de77ae\"], [0.3, \"#f1b6da\"], [0.4, \"#fde0ef\"], [0.5, \"#f7f7f7\"], [0.6, \"#e6f5d0\"], [0.7, \"#b8e186\"], [0.8, \"#7fbc41\"], [0.9, \"#4d9221\"], [1, \"#276419\"]], \"sequential\": [[0.0, \"#0d0887\"], [0.1111111111111111, \"#46039f\"], [0.2222222222222222, \"#7201a8\"], [0.3333333333333333, \"#9c179e\"], [0.4444444444444444, \"#bd3786\"], [0.5555555555555556, \"#d8576b\"], [0.6666666666666666, \"#ed7953\"], [0.7777777777777778, \"#fb9f3a\"], [0.8888888888888888, \"#fdca26\"], [1.0, \"#f0f921\"]], \"sequentialminus\": [[0.0, \"#0d0887\"], [0.1111111111111111, \"#46039f\"], [0.2222222222222222, \"#7201a8\"], [0.3333333333333333, \"#9c179e\"], [0.4444444444444444, \"#bd3786\"], [0.5555555555555556, \"#d8576b\"], [0.6666666666666666, \"#ed7953\"], [0.7777777777777778, \"#fb9f3a\"], [0.8888888888888888, \"#fdca26\"], [1.0, \"#f0f921\"]]}, \"colorway\": [\"#636efa\", \"#EF553B\", \"#00cc96\", \"#ab63fa\", \"#FFA15A\", \"#19d3f3\", \"#FF6692\", \"#B6E880\", \"#FF97FF\", \"#FECB52\"], \"font\": {\"color\": \"#2a3f5f\"}, \"geo\": {\"bgcolor\": \"white\", \"lakecolor\": \"white\", \"landcolor\": \"#E5ECF6\", \"showlakes\": true, \"showland\": true, \"subunitcolor\": \"white\"}, \"hoverlabel\": {\"align\": \"left\"}, \"hovermode\": \"closest\", \"mapbox\": {\"style\": \"light\"}, \"paper_bgcolor\": \"white\", \"plot_bgcolor\": \"#E5ECF6\", \"polar\": {\"angularaxis\": {\"gridcolor\": \"white\", \"linecolor\": \"white\", \"ticks\": \"\"}, \"bgcolor\": \"#E5ECF6\", \"radialaxis\": {\"gridcolor\": \"white\", \"linecolor\": \"white\", \"ticks\": \"\"}}, \"scene\": {\"xaxis\": {\"backgroundcolor\": \"#E5ECF6\", \"gridcolor\": \"white\", \"gridwidth\": 2, \"linecolor\": \"white\", \"showbackground\": true, \"ticks\": \"\", \"zerolinecolor\": \"white\"}, \"yaxis\": {\"backgroundcolor\": \"#E5ECF6\", \"gridcolor\": \"white\", \"gridwidth\": 2, \"linecolor\": \"white\", \"showbackground\": true, \"ticks\": \"\", \"zerolinecolor\": \"white\"}, \"zaxis\": {\"backgroundcolor\": \"#E5ECF6\", \"gridcolor\": \"white\", \"gridwidth\": 2, \"linecolor\": \"white\", \"showbackground\": true, \"ticks\": \"\", \"zerolinecolor\": \"white\"}}, \"shapedefaults\": {\"line\": {\"color\": \"#2a3f5f\"}}, \"ternary\": {\"aaxis\": {\"gridcolor\": \"white\", \"linecolor\": \"white\", \"ticks\": \"\"}, \"baxis\": {\"gridcolor\": \"white\", \"linecolor\": \"white\", \"ticks\": \"\"}, \"bgcolor\": \"#E5ECF6\", \"caxis\": {\"gridcolor\": \"white\", \"linecolor\": \"white\", \"ticks\": \"\"}}, \"title\": {\"x\": 0.05}, \"xaxis\": {\"automargin\": true, \"gridcolor\": \"white\", \"linecolor\": \"white\", \"ticks\": \"\", \"title\": {\"standoff\": 15}, \"zerolinecolor\": \"white\", \"zerolinewidth\": 2}, \"yaxis\": {\"automargin\": true, \"gridcolor\": \"white\", \"linecolor\": \"white\", \"ticks\": \"\", \"title\": {\"standoff\": 15}, \"zerolinecolor\": \"white\", \"zerolinewidth\": 2}}}, \"width\": 500, \"xaxis\": {\"anchor\": \"y\", \"exponentformat\": \"e\", \"linecolor\": \"black\", \"linewidth\": 1, \"mirror\": false, \"range\": [0, 3.142312563487818], \"showexponent\": \"all\", \"showline\": true, \"side\": \"bottom\", \"ticks\": \"outside\", \"title\": {\"text\": \"Birth\"}, \"type\": \"linear\", \"zeroline\": true}, \"yaxis\": {\"anchor\": \"x\", \"exponentformat\": \"e\", \"linecolor\": \"black\", \"linewidth\": 1, \"mirror\": false, \"range\": [0, 3.142312563487818], \"showexponent\": \"all\", \"showline\": true, \"side\": \"left\", \"ticks\": \"outside\", \"title\": {\"text\": \"Death\"}, \"type\": \"linear\", \"zeroline\": true}},\n",
       "                        {\"responsive\": true}\n",
       "                    ).then(function(){\n",
       "                            \n",
       "var gd = document.getElementById('ce8c3786-b047-4d7a-89ee-44165a7eb710');\n",
       "var x = new MutationObserver(function (mutations, observer) {{\n",
       "        var display = window.getComputedStyle(gd).display;\n",
       "        if (!display || display === 'none') {{\n",
       "            console.log([gd, 'removed!']);\n",
       "            Plotly.purge(gd);\n",
       "            observer.disconnect();\n",
       "        }}\n",
       "}});\n",
       "\n",
       "// Listen for the removal of the full notebook cells\n",
       "var notebookContainer = gd.closest('#notebook-container');\n",
       "if (notebookContainer) {{\n",
       "    x.observe(notebookContainer, {childList: true});\n",
       "}}\n",
       "\n",
       "// Listen for the clearing of the current output cell\n",
       "var outputEl = gd.closest('.output');\n",
       "if (outputEl) {{\n",
       "    x.observe(outputEl, {childList: true});\n",
       "}}\n",
       "\n",
       "                        })\n",
       "                };\n",
       "                });\n",
       "            </script>\n",
       "        </div>"
      ]
     },
     "metadata": {},
     "output_type": "display_data"
    }
   ],
   "source": [
    "sample_pd = Scaler().fit_transform([sample_pd])[0]\n",
    "plot_diagram(sample_pd)"
   ]
  },
  {
   "cell_type": "markdown",
   "metadata": {},
   "source": [
    "### 1.4. Alternative Persistence Homology Representation"
   ]
  },
  {
   "cell_type": "markdown",
   "metadata": {},
   "source": [
    "PD is not the only way to represent Persistence Homology. There are some extensions over PD that can also be useful for feature engineering."
   ]
  },
  {
   "cell_type": "markdown",
   "metadata": {},
   "source": [
    "#### 1.4.1. Betti Curve"
   ]
  },
  {
   "cell_type": "markdown",
   "metadata": {},
   "source": [
    "Let $D$ be a PD. *Betti Curve* is a function $\\beta_{D}: \\mathbb{R} \\rightarrow \\mathbb{N}$ whose value $s \\in \\mathbb{R}$ is the number, counted with multiplicity, of points $(b_i , d_i)$ such that $b_i \\leq s < d_i$."
   ]
  },
  {
   "cell_type": "code",
   "execution_count": 100,
   "metadata": {},
   "outputs": [
    {
     "data": {
      "application/vnd.plotly.v1+json": {
       "config": {
        "plotlyServerURL": "https://plot.ly"
       },
       "data": [
        {
         "mode": "lines",
         "name": "H0",
         "showlegend": true,
         "type": "scatter",
         "x": [
          0,
          0.008093699366014343,
          0.016187398732028686,
          0.02428109809804303,
          0.03237479746405737,
          0.04046849683007171,
          0.04856219619608606,
          0.056655895562100406,
          0.06474959492811475,
          0.07284329429412909,
          0.08093699366014342,
          0.08903069302615778,
          0.09712439239217212,
          0.10521809175818646,
          0.11331179112420081,
          0.12140549049021515,
          0.1294991898562295,
          0.13759288922224383,
          0.14568658858825817,
          0.1537802879542725,
          0.16187398732028685,
          0.16996768668630122,
          0.17806138605231556,
          0.1861550854183299,
          0.19424878478434424,
          0.20234248415035858,
          0.21043618351637292,
          0.21852988288238726,
          0.22662358224840162,
          0.23471728161441596,
          0.2428109809804303,
          0.25090468034644464,
          0.258998379712459,
          0.2670920790784733,
          0.27518577844448766,
          0.283279477810502,
          0.29137317717651634,
          0.2994668765425307,
          0.307560575908545,
          0.31565427527455936,
          0.3237479746405737,
          0.3318416740065881,
          0.33993537337260243,
          0.3480290727386168,
          0.3561227721046311,
          0.36421647147064545,
          0.3723101708366598,
          0.38040387020267413,
          0.38849756956868847,
          0.3965912689347028,
          0.40468496830071715,
          0.4127786676667315,
          0.42087236703274583,
          0.42896606639876017,
          0.4370597657647745,
          0.44515346513078885,
          0.45324716449680325,
          0.4613408638628176,
          0.4694345632288319,
          0.47752826259484626,
          0.4856219619608606,
          0.49371566132687494,
          0.5018093606928893,
          0.5099030600589036,
          0.517996759424918,
          0.5260904587909323,
          0.5341841581569466,
          0.542277857522961,
          0.5503715568889753,
          0.5584652562549897,
          0.566558955621004,
          0.5746526549870183,
          0.5827463543530327,
          0.590840053719047,
          0.5989337530850614,
          0.6070274524510757,
          0.61512115181709,
          0.6232148511831044,
          0.6313085505491187,
          0.6394022499151331,
          0.6474959492811474,
          0.6555896486471618,
          0.6636833480131762,
          0.6717770473791905,
          0.6798707467452049,
          0.6879644461112192,
          0.6960581454772335,
          0.7041518448432479,
          0.7122455442092622,
          0.7203392435752766,
          0.7284329429412909,
          0.7365266423073052,
          0.7446203416733196,
          0.7527140410393339,
          0.7608077404053483,
          0.7689014397713626,
          0.7769951391373769,
          0.7850888385033913,
          0.7931825378694056,
          0.80127623723542
         ],
         "y": [
          144,
          78,
          64,
          57,
          52,
          50,
          49,
          45,
          44,
          44,
          44,
          44,
          43,
          43,
          43,
          42,
          42,
          42,
          42,
          41,
          40,
          38,
          36,
          36,
          36,
          36,
          35,
          35,
          35,
          35,
          34,
          32,
          32,
          29,
          28,
          27,
          26,
          25,
          25,
          25,
          24,
          24,
          23,
          23,
          23,
          22,
          22,
          21,
          21,
          20,
          20,
          20,
          19,
          18,
          18,
          18,
          16,
          15,
          15,
          15,
          13,
          12,
          9,
          9,
          9,
          8,
          8,
          7,
          7,
          7,
          6,
          6,
          6,
          6,
          6,
          6,
          6,
          6,
          6,
          6,
          4,
          4,
          4,
          4,
          4,
          4,
          4,
          4,
          4,
          3,
          3,
          3,
          3,
          3,
          3,
          2,
          1,
          1,
          1,
          0
         ]
        },
        {
         "mode": "lines",
         "name": "H1",
         "showlegend": true,
         "type": "scatter",
         "x": [
          0.0018075032536240705,
          0.030644273776202876,
          0.05948104429878168,
          0.08831781482136049,
          0.11715458534393929,
          0.1459913558665181,
          0.17482812638909692,
          0.20366489691167572,
          0.23250166743425452,
          0.2613384379568333,
          0.2901752084794121,
          0.3190119790019909,
          0.34784874952456973,
          0.3766855200471485,
          0.40552229056972733,
          0.4343590610923061,
          0.4631958316148849,
          0.49203260213746375,
          0.5208693726600426,
          0.5497061431826213,
          0.5785429137052002,
          0.607379684227779,
          0.6362164547503578,
          0.6650532252729366,
          0.6938899957955155,
          0.7227267663180942,
          0.751563536840673,
          0.7804003073632518,
          0.8092370778858307,
          0.8380738484084095,
          0.8669106189309882,
          0.895747389453567,
          0.9245841599761458,
          0.9534209304987247,
          0.9822577010213035,
          1.011094471543882,
          1.039931242066461,
          1.0687680125890398,
          1.0976047831116185,
          1.1264415536341974,
          1.1552783241567761,
          1.184115094679355,
          1.2129518652019338,
          1.2417886357245125,
          1.2706254062470914,
          1.2994621767696701,
          1.328298947292249,
          1.3571357178148278,
          1.3859724883374067,
          1.4148092588599854,
          1.4436460293825641,
          1.472482799905143,
          1.5013195704277218,
          1.5301563409503007,
          1.5589931114728794,
          1.5878298819954582,
          1.616666652518037,
          1.6455034230406158,
          1.6743401935631947,
          1.7031769640857735,
          1.7320137346083522,
          1.760850505130931,
          1.7896872756535098,
          1.8185240461760888,
          1.8473608166986675,
          1.8761975872212462,
          1.9050343577438251,
          1.9338711282664038,
          1.9627078987889828,
          1.9915446693115615,
          2.02038143983414,
          2.049218210356719,
          2.078054980879298,
          2.106891751401877,
          2.1357285219244555,
          2.164565292447034,
          2.193402062969613,
          2.222238833492192,
          2.251075604014771,
          2.2799123745373495,
          2.3087491450599282,
          2.337585915582507,
          2.366422686105086,
          2.395259456627665,
          2.4240962271502435,
          2.4529329976728222,
          2.481769768195401,
          2.51060653871798,
          2.539443309240559,
          2.5682800797631375,
          2.5971168502857163,
          2.625953620808295,
          2.654790391330874,
          2.683627161853453,
          2.7124639323760316,
          2.7413007028986103,
          2.7701374734211894,
          2.798974243943768,
          2.827811014466347,
          2.8566477849889256
         ],
         "y": [
          1,
          2,
          0,
          0,
          0,
          0,
          0,
          0,
          0,
          0,
          0,
          0,
          0,
          0,
          0,
          0,
          0,
          0,
          0,
          0,
          0,
          0,
          0,
          0,
          0,
          0,
          0,
          0,
          0,
          0,
          1,
          1,
          1,
          1,
          1,
          1,
          1,
          1,
          1,
          1,
          1,
          1,
          1,
          1,
          1,
          1,
          1,
          1,
          1,
          1,
          1,
          1,
          1,
          1,
          1,
          1,
          1,
          1,
          1,
          1,
          1,
          1,
          1,
          1,
          1,
          1,
          1,
          1,
          1,
          1,
          1,
          1,
          1,
          1,
          1,
          1,
          1,
          1,
          1,
          1,
          1,
          1,
          1,
          1,
          1,
          2,
          2,
          2,
          2,
          2,
          1,
          1,
          1,
          1,
          1,
          1,
          1,
          1,
          1,
          0
         ]
        }
       ],
       "layout": {
        "plot_bgcolor": "white",
        "template": {
         "data": {
          "bar": [
           {
            "error_x": {
             "color": "#2a3f5f"
            },
            "error_y": {
             "color": "#2a3f5f"
            },
            "marker": {
             "line": {
              "color": "#E5ECF6",
              "width": 0.5
             }
            },
            "type": "bar"
           }
          ],
          "barpolar": [
           {
            "marker": {
             "line": {
              "color": "#E5ECF6",
              "width": 0.5
             }
            },
            "type": "barpolar"
           }
          ],
          "carpet": [
           {
            "aaxis": {
             "endlinecolor": "#2a3f5f",
             "gridcolor": "white",
             "linecolor": "white",
             "minorgridcolor": "white",
             "startlinecolor": "#2a3f5f"
            },
            "baxis": {
             "endlinecolor": "#2a3f5f",
             "gridcolor": "white",
             "linecolor": "white",
             "minorgridcolor": "white",
             "startlinecolor": "#2a3f5f"
            },
            "type": "carpet"
           }
          ],
          "choropleth": [
           {
            "colorbar": {
             "outlinewidth": 0,
             "ticks": ""
            },
            "type": "choropleth"
           }
          ],
          "contour": [
           {
            "colorbar": {
             "outlinewidth": 0,
             "ticks": ""
            },
            "colorscale": [
             [
              0,
              "#0d0887"
             ],
             [
              0.1111111111111111,
              "#46039f"
             ],
             [
              0.2222222222222222,
              "#7201a8"
             ],
             [
              0.3333333333333333,
              "#9c179e"
             ],
             [
              0.4444444444444444,
              "#bd3786"
             ],
             [
              0.5555555555555556,
              "#d8576b"
             ],
             [
              0.6666666666666666,
              "#ed7953"
             ],
             [
              0.7777777777777778,
              "#fb9f3a"
             ],
             [
              0.8888888888888888,
              "#fdca26"
             ],
             [
              1,
              "#f0f921"
             ]
            ],
            "type": "contour"
           }
          ],
          "contourcarpet": [
           {
            "colorbar": {
             "outlinewidth": 0,
             "ticks": ""
            },
            "type": "contourcarpet"
           }
          ],
          "heatmap": [
           {
            "colorbar": {
             "outlinewidth": 0,
             "ticks": ""
            },
            "colorscale": [
             [
              0,
              "#0d0887"
             ],
             [
              0.1111111111111111,
              "#46039f"
             ],
             [
              0.2222222222222222,
              "#7201a8"
             ],
             [
              0.3333333333333333,
              "#9c179e"
             ],
             [
              0.4444444444444444,
              "#bd3786"
             ],
             [
              0.5555555555555556,
              "#d8576b"
             ],
             [
              0.6666666666666666,
              "#ed7953"
             ],
             [
              0.7777777777777778,
              "#fb9f3a"
             ],
             [
              0.8888888888888888,
              "#fdca26"
             ],
             [
              1,
              "#f0f921"
             ]
            ],
            "type": "heatmap"
           }
          ],
          "heatmapgl": [
           {
            "colorbar": {
             "outlinewidth": 0,
             "ticks": ""
            },
            "colorscale": [
             [
              0,
              "#0d0887"
             ],
             [
              0.1111111111111111,
              "#46039f"
             ],
             [
              0.2222222222222222,
              "#7201a8"
             ],
             [
              0.3333333333333333,
              "#9c179e"
             ],
             [
              0.4444444444444444,
              "#bd3786"
             ],
             [
              0.5555555555555556,
              "#d8576b"
             ],
             [
              0.6666666666666666,
              "#ed7953"
             ],
             [
              0.7777777777777778,
              "#fb9f3a"
             ],
             [
              0.8888888888888888,
              "#fdca26"
             ],
             [
              1,
              "#f0f921"
             ]
            ],
            "type": "heatmapgl"
           }
          ],
          "histogram": [
           {
            "marker": {
             "colorbar": {
              "outlinewidth": 0,
              "ticks": ""
             }
            },
            "type": "histogram"
           }
          ],
          "histogram2d": [
           {
            "colorbar": {
             "outlinewidth": 0,
             "ticks": ""
            },
            "colorscale": [
             [
              0,
              "#0d0887"
             ],
             [
              0.1111111111111111,
              "#46039f"
             ],
             [
              0.2222222222222222,
              "#7201a8"
             ],
             [
              0.3333333333333333,
              "#9c179e"
             ],
             [
              0.4444444444444444,
              "#bd3786"
             ],
             [
              0.5555555555555556,
              "#d8576b"
             ],
             [
              0.6666666666666666,
              "#ed7953"
             ],
             [
              0.7777777777777778,
              "#fb9f3a"
             ],
             [
              0.8888888888888888,
              "#fdca26"
             ],
             [
              1,
              "#f0f921"
             ]
            ],
            "type": "histogram2d"
           }
          ],
          "histogram2dcontour": [
           {
            "colorbar": {
             "outlinewidth": 0,
             "ticks": ""
            },
            "colorscale": [
             [
              0,
              "#0d0887"
             ],
             [
              0.1111111111111111,
              "#46039f"
             ],
             [
              0.2222222222222222,
              "#7201a8"
             ],
             [
              0.3333333333333333,
              "#9c179e"
             ],
             [
              0.4444444444444444,
              "#bd3786"
             ],
             [
              0.5555555555555556,
              "#d8576b"
             ],
             [
              0.6666666666666666,
              "#ed7953"
             ],
             [
              0.7777777777777778,
              "#fb9f3a"
             ],
             [
              0.8888888888888888,
              "#fdca26"
             ],
             [
              1,
              "#f0f921"
             ]
            ],
            "type": "histogram2dcontour"
           }
          ],
          "mesh3d": [
           {
            "colorbar": {
             "outlinewidth": 0,
             "ticks": ""
            },
            "type": "mesh3d"
           }
          ],
          "parcoords": [
           {
            "line": {
             "colorbar": {
              "outlinewidth": 0,
              "ticks": ""
             }
            },
            "type": "parcoords"
           }
          ],
          "pie": [
           {
            "automargin": true,
            "type": "pie"
           }
          ],
          "scatter": [
           {
            "marker": {
             "colorbar": {
              "outlinewidth": 0,
              "ticks": ""
             }
            },
            "type": "scatter"
           }
          ],
          "scatter3d": [
           {
            "line": {
             "colorbar": {
              "outlinewidth": 0,
              "ticks": ""
             }
            },
            "marker": {
             "colorbar": {
              "outlinewidth": 0,
              "ticks": ""
             }
            },
            "type": "scatter3d"
           }
          ],
          "scattercarpet": [
           {
            "marker": {
             "colorbar": {
              "outlinewidth": 0,
              "ticks": ""
             }
            },
            "type": "scattercarpet"
           }
          ],
          "scattergeo": [
           {
            "marker": {
             "colorbar": {
              "outlinewidth": 0,
              "ticks": ""
             }
            },
            "type": "scattergeo"
           }
          ],
          "scattergl": [
           {
            "marker": {
             "colorbar": {
              "outlinewidth": 0,
              "ticks": ""
             }
            },
            "type": "scattergl"
           }
          ],
          "scattermapbox": [
           {
            "marker": {
             "colorbar": {
              "outlinewidth": 0,
              "ticks": ""
             }
            },
            "type": "scattermapbox"
           }
          ],
          "scatterpolar": [
           {
            "marker": {
             "colorbar": {
              "outlinewidth": 0,
              "ticks": ""
             }
            },
            "type": "scatterpolar"
           }
          ],
          "scatterpolargl": [
           {
            "marker": {
             "colorbar": {
              "outlinewidth": 0,
              "ticks": ""
             }
            },
            "type": "scatterpolargl"
           }
          ],
          "scatterternary": [
           {
            "marker": {
             "colorbar": {
              "outlinewidth": 0,
              "ticks": ""
             }
            },
            "type": "scatterternary"
           }
          ],
          "surface": [
           {
            "colorbar": {
             "outlinewidth": 0,
             "ticks": ""
            },
            "colorscale": [
             [
              0,
              "#0d0887"
             ],
             [
              0.1111111111111111,
              "#46039f"
             ],
             [
              0.2222222222222222,
              "#7201a8"
             ],
             [
              0.3333333333333333,
              "#9c179e"
             ],
             [
              0.4444444444444444,
              "#bd3786"
             ],
             [
              0.5555555555555556,
              "#d8576b"
             ],
             [
              0.6666666666666666,
              "#ed7953"
             ],
             [
              0.7777777777777778,
              "#fb9f3a"
             ],
             [
              0.8888888888888888,
              "#fdca26"
             ],
             [
              1,
              "#f0f921"
             ]
            ],
            "type": "surface"
           }
          ],
          "table": [
           {
            "cells": {
             "fill": {
              "color": "#EBF0F8"
             },
             "line": {
              "color": "white"
             }
            },
            "header": {
             "fill": {
              "color": "#C8D4E3"
             },
             "line": {
              "color": "white"
             }
            },
            "type": "table"
           }
          ]
         },
         "layout": {
          "annotationdefaults": {
           "arrowcolor": "#2a3f5f",
           "arrowhead": 0,
           "arrowwidth": 1
          },
          "coloraxis": {
           "colorbar": {
            "outlinewidth": 0,
            "ticks": ""
           }
          },
          "colorscale": {
           "diverging": [
            [
             0,
             "#8e0152"
            ],
            [
             0.1,
             "#c51b7d"
            ],
            [
             0.2,
             "#de77ae"
            ],
            [
             0.3,
             "#f1b6da"
            ],
            [
             0.4,
             "#fde0ef"
            ],
            [
             0.5,
             "#f7f7f7"
            ],
            [
             0.6,
             "#e6f5d0"
            ],
            [
             0.7,
             "#b8e186"
            ],
            [
             0.8,
             "#7fbc41"
            ],
            [
             0.9,
             "#4d9221"
            ],
            [
             1,
             "#276419"
            ]
           ],
           "sequential": [
            [
             0,
             "#0d0887"
            ],
            [
             0.1111111111111111,
             "#46039f"
            ],
            [
             0.2222222222222222,
             "#7201a8"
            ],
            [
             0.3333333333333333,
             "#9c179e"
            ],
            [
             0.4444444444444444,
             "#bd3786"
            ],
            [
             0.5555555555555556,
             "#d8576b"
            ],
            [
             0.6666666666666666,
             "#ed7953"
            ],
            [
             0.7777777777777778,
             "#fb9f3a"
            ],
            [
             0.8888888888888888,
             "#fdca26"
            ],
            [
             1,
             "#f0f921"
            ]
           ],
           "sequentialminus": [
            [
             0,
             "#0d0887"
            ],
            [
             0.1111111111111111,
             "#46039f"
            ],
            [
             0.2222222222222222,
             "#7201a8"
            ],
            [
             0.3333333333333333,
             "#9c179e"
            ],
            [
             0.4444444444444444,
             "#bd3786"
            ],
            [
             0.5555555555555556,
             "#d8576b"
            ],
            [
             0.6666666666666666,
             "#ed7953"
            ],
            [
             0.7777777777777778,
             "#fb9f3a"
            ],
            [
             0.8888888888888888,
             "#fdca26"
            ],
            [
             1,
             "#f0f921"
            ]
           ]
          },
          "colorway": [
           "#636efa",
           "#EF553B",
           "#00cc96",
           "#ab63fa",
           "#FFA15A",
           "#19d3f3",
           "#FF6692",
           "#B6E880",
           "#FF97FF",
           "#FECB52"
          ],
          "font": {
           "color": "#2a3f5f"
          },
          "geo": {
           "bgcolor": "white",
           "lakecolor": "white",
           "landcolor": "#E5ECF6",
           "showlakes": true,
           "showland": true,
           "subunitcolor": "white"
          },
          "hoverlabel": {
           "align": "left"
          },
          "hovermode": "closest",
          "mapbox": {
           "style": "light"
          },
          "paper_bgcolor": "white",
          "plot_bgcolor": "#E5ECF6",
          "polar": {
           "angularaxis": {
            "gridcolor": "white",
            "linecolor": "white",
            "ticks": ""
           },
           "bgcolor": "#E5ECF6",
           "radialaxis": {
            "gridcolor": "white",
            "linecolor": "white",
            "ticks": ""
           }
          },
          "scene": {
           "xaxis": {
            "backgroundcolor": "#E5ECF6",
            "gridcolor": "white",
            "gridwidth": 2,
            "linecolor": "white",
            "showbackground": true,
            "ticks": "",
            "zerolinecolor": "white"
           },
           "yaxis": {
            "backgroundcolor": "#E5ECF6",
            "gridcolor": "white",
            "gridwidth": 2,
            "linecolor": "white",
            "showbackground": true,
            "ticks": "",
            "zerolinecolor": "white"
           },
           "zaxis": {
            "backgroundcolor": "#E5ECF6",
            "gridcolor": "white",
            "gridwidth": 2,
            "linecolor": "white",
            "showbackground": true,
            "ticks": "",
            "zerolinecolor": "white"
           }
          },
          "shapedefaults": {
           "line": {
            "color": "#2a3f5f"
           }
          },
          "ternary": {
           "aaxis": {
            "gridcolor": "white",
            "linecolor": "white",
            "ticks": ""
           },
           "baxis": {
            "gridcolor": "white",
            "linecolor": "white",
            "ticks": ""
           },
           "bgcolor": "#E5ECF6",
           "caxis": {
            "gridcolor": "white",
            "linecolor": "white",
            "ticks": ""
           }
          },
          "title": {
           "x": 0.05
          },
          "xaxis": {
           "automargin": true,
           "gridcolor": "white",
           "linecolor": "white",
           "ticks": "",
           "title": {
            "standoff": 15
           },
           "zerolinecolor": "white",
           "zerolinewidth": 2
          },
          "yaxis": {
           "automargin": true,
           "gridcolor": "white",
           "linecolor": "white",
           "ticks": "",
           "title": {
            "standoff": 15
           },
           "zerolinecolor": "white",
           "zerolinewidth": 2
          }
         }
        },
        "xaxis": {
         "anchor": "x",
         "exponentformat": "e",
         "linecolor": "black",
         "linewidth": 1,
         "mirror": false,
         "showexponent": "all",
         "showline": true,
         "side": "bottom",
         "ticks": "outside",
         "title": {
          "text": "Filtration parameter"
         },
         "type": "linear",
         "zeroline": true
        },
        "yaxis": {
         "anchor": "y",
         "exponentformat": "e",
         "linecolor": "black",
         "linewidth": 1,
         "mirror": false,
         "showexponent": "all",
         "showline": true,
         "side": "left",
         "ticks": "outside",
         "title": {
          "text": "Betti number"
         },
         "type": "linear",
         "zeroline": true
        }
       }
      },
      "text/html": [
       "<div>\n",
       "        \n",
       "        \n",
       "            <div id=\"422aabe6-f89c-49ef-a64b-444feb6c9fa8\" class=\"plotly-graph-div\" style=\"height:525px; width:100%;\"></div>\n",
       "            <script type=\"text/javascript\">\n",
       "                require([\"plotly\"], function(Plotly) {\n",
       "                    window.PLOTLYENV=window.PLOTLYENV || {};\n",
       "                    \n",
       "                if (document.getElementById(\"422aabe6-f89c-49ef-a64b-444feb6c9fa8\")) {\n",
       "                    Plotly.newPlot(\n",
       "                        '422aabe6-f89c-49ef-a64b-444feb6c9fa8',\n",
       "                        [{\"mode\": \"lines\", \"name\": \"H0\", \"showlegend\": true, \"type\": \"scatter\", \"x\": [0.0, 0.008093699366014343, 0.016187398732028686, 0.02428109809804303, 0.03237479746405737, 0.04046849683007171, 0.04856219619608606, 0.056655895562100406, 0.06474959492811475, 0.07284329429412909, 0.08093699366014342, 0.08903069302615778, 0.09712439239217212, 0.10521809175818646, 0.11331179112420081, 0.12140549049021515, 0.1294991898562295, 0.13759288922224383, 0.14568658858825817, 0.1537802879542725, 0.16187398732028685, 0.16996768668630122, 0.17806138605231556, 0.1861550854183299, 0.19424878478434424, 0.20234248415035858, 0.21043618351637292, 0.21852988288238726, 0.22662358224840162, 0.23471728161441596, 0.2428109809804303, 0.25090468034644464, 0.258998379712459, 0.2670920790784733, 0.27518577844448766, 0.283279477810502, 0.29137317717651634, 0.2994668765425307, 0.307560575908545, 0.31565427527455936, 0.3237479746405737, 0.3318416740065881, 0.33993537337260243, 0.3480290727386168, 0.3561227721046311, 0.36421647147064545, 0.3723101708366598, 0.38040387020267413, 0.38849756956868847, 0.3965912689347028, 0.40468496830071715, 0.4127786676667315, 0.42087236703274583, 0.42896606639876017, 0.4370597657647745, 0.44515346513078885, 0.45324716449680325, 0.4613408638628176, 0.4694345632288319, 0.47752826259484626, 0.4856219619608606, 0.49371566132687494, 0.5018093606928893, 0.5099030600589036, 0.517996759424918, 0.5260904587909323, 0.5341841581569466, 0.542277857522961, 0.5503715568889753, 0.5584652562549897, 0.566558955621004, 0.5746526549870183, 0.5827463543530327, 0.590840053719047, 0.5989337530850614, 0.6070274524510757, 0.61512115181709, 0.6232148511831044, 0.6313085505491187, 0.6394022499151331, 0.6474959492811474, 0.6555896486471618, 0.6636833480131762, 0.6717770473791905, 0.6798707467452049, 0.6879644461112192, 0.6960581454772335, 0.7041518448432479, 0.7122455442092622, 0.7203392435752766, 0.7284329429412909, 0.7365266423073052, 0.7446203416733196, 0.7527140410393339, 0.7608077404053483, 0.7689014397713626, 0.7769951391373769, 0.7850888385033913, 0.7931825378694056, 0.80127623723542], \"y\": [144, 78, 64, 57, 52, 50, 49, 45, 44, 44, 44, 44, 43, 43, 43, 42, 42, 42, 42, 41, 40, 38, 36, 36, 36, 36, 35, 35, 35, 35, 34, 32, 32, 29, 28, 27, 26, 25, 25, 25, 24, 24, 23, 23, 23, 22, 22, 21, 21, 20, 20, 20, 19, 18, 18, 18, 16, 15, 15, 15, 13, 12, 9, 9, 9, 8, 8, 7, 7, 7, 6, 6, 6, 6, 6, 6, 6, 6, 6, 6, 4, 4, 4, 4, 4, 4, 4, 4, 4, 3, 3, 3, 3, 3, 3, 2, 1, 1, 1, 0]}, {\"mode\": \"lines\", \"name\": \"H1\", \"showlegend\": true, \"type\": \"scatter\", \"x\": [0.0018075032536240705, 0.030644273776202876, 0.05948104429878168, 0.08831781482136049, 0.11715458534393929, 0.1459913558665181, 0.17482812638909692, 0.20366489691167572, 0.23250166743425452, 0.2613384379568333, 0.2901752084794121, 0.3190119790019909, 0.34784874952456973, 0.3766855200471485, 0.40552229056972733, 0.4343590610923061, 0.4631958316148849, 0.49203260213746375, 0.5208693726600426, 0.5497061431826213, 0.5785429137052002, 0.607379684227779, 0.6362164547503578, 0.6650532252729366, 0.6938899957955155, 0.7227267663180942, 0.751563536840673, 0.7804003073632518, 0.8092370778858307, 0.8380738484084095, 0.8669106189309882, 0.895747389453567, 0.9245841599761458, 0.9534209304987247, 0.9822577010213035, 1.011094471543882, 1.039931242066461, 1.0687680125890398, 1.0976047831116185, 1.1264415536341974, 1.1552783241567761, 1.184115094679355, 1.2129518652019338, 1.2417886357245125, 1.2706254062470914, 1.2994621767696701, 1.328298947292249, 1.3571357178148278, 1.3859724883374067, 1.4148092588599854, 1.4436460293825641, 1.472482799905143, 1.5013195704277218, 1.5301563409503007, 1.5589931114728794, 1.5878298819954582, 1.616666652518037, 1.6455034230406158, 1.6743401935631947, 1.7031769640857735, 1.7320137346083522, 1.760850505130931, 1.7896872756535098, 1.8185240461760888, 1.8473608166986675, 1.8761975872212462, 1.9050343577438251, 1.9338711282664038, 1.9627078987889828, 1.9915446693115615, 2.02038143983414, 2.049218210356719, 2.078054980879298, 2.106891751401877, 2.1357285219244555, 2.164565292447034, 2.193402062969613, 2.222238833492192, 2.251075604014771, 2.2799123745373495, 2.3087491450599282, 2.337585915582507, 2.366422686105086, 2.395259456627665, 2.4240962271502435, 2.4529329976728222, 2.481769768195401, 2.51060653871798, 2.539443309240559, 2.5682800797631375, 2.5971168502857163, 2.625953620808295, 2.654790391330874, 2.683627161853453, 2.7124639323760316, 2.7413007028986103, 2.7701374734211894, 2.798974243943768, 2.827811014466347, 2.8566477849889256], \"y\": [1, 2, 0, 0, 0, 0, 0, 0, 0, 0, 0, 0, 0, 0, 0, 0, 0, 0, 0, 0, 0, 0, 0, 0, 0, 0, 0, 0, 0, 0, 1, 1, 1, 1, 1, 1, 1, 1, 1, 1, 1, 1, 1, 1, 1, 1, 1, 1, 1, 1, 1, 1, 1, 1, 1, 1, 1, 1, 1, 1, 1, 1, 1, 1, 1, 1, 1, 1, 1, 1, 1, 1, 1, 1, 1, 1, 1, 1, 1, 1, 1, 1, 1, 1, 1, 2, 2, 2, 2, 2, 1, 1, 1, 1, 1, 1, 1, 1, 1, 0]}],\n",
       "                        {\"plot_bgcolor\": \"white\", \"template\": {\"data\": {\"bar\": [{\"error_x\": {\"color\": \"#2a3f5f\"}, \"error_y\": {\"color\": \"#2a3f5f\"}, \"marker\": {\"line\": {\"color\": \"#E5ECF6\", \"width\": 0.5}}, \"type\": \"bar\"}], \"barpolar\": [{\"marker\": {\"line\": {\"color\": \"#E5ECF6\", \"width\": 0.5}}, \"type\": \"barpolar\"}], \"carpet\": [{\"aaxis\": {\"endlinecolor\": \"#2a3f5f\", \"gridcolor\": \"white\", \"linecolor\": \"white\", \"minorgridcolor\": \"white\", \"startlinecolor\": \"#2a3f5f\"}, \"baxis\": {\"endlinecolor\": \"#2a3f5f\", \"gridcolor\": \"white\", \"linecolor\": \"white\", \"minorgridcolor\": \"white\", \"startlinecolor\": \"#2a3f5f\"}, \"type\": \"carpet\"}], \"choropleth\": [{\"colorbar\": {\"outlinewidth\": 0, \"ticks\": \"\"}, \"type\": \"choropleth\"}], \"contour\": [{\"colorbar\": {\"outlinewidth\": 0, \"ticks\": \"\"}, \"colorscale\": [[0.0, \"#0d0887\"], [0.1111111111111111, \"#46039f\"], [0.2222222222222222, \"#7201a8\"], [0.3333333333333333, \"#9c179e\"], [0.4444444444444444, \"#bd3786\"], [0.5555555555555556, \"#d8576b\"], [0.6666666666666666, \"#ed7953\"], [0.7777777777777778, \"#fb9f3a\"], [0.8888888888888888, \"#fdca26\"], [1.0, \"#f0f921\"]], \"type\": \"contour\"}], \"contourcarpet\": [{\"colorbar\": {\"outlinewidth\": 0, \"ticks\": \"\"}, \"type\": \"contourcarpet\"}], \"heatmap\": [{\"colorbar\": {\"outlinewidth\": 0, \"ticks\": \"\"}, \"colorscale\": [[0.0, \"#0d0887\"], [0.1111111111111111, \"#46039f\"], [0.2222222222222222, \"#7201a8\"], [0.3333333333333333, \"#9c179e\"], [0.4444444444444444, \"#bd3786\"], [0.5555555555555556, \"#d8576b\"], [0.6666666666666666, \"#ed7953\"], [0.7777777777777778, \"#fb9f3a\"], [0.8888888888888888, \"#fdca26\"], [1.0, \"#f0f921\"]], \"type\": \"heatmap\"}], \"heatmapgl\": [{\"colorbar\": {\"outlinewidth\": 0, \"ticks\": \"\"}, \"colorscale\": [[0.0, \"#0d0887\"], [0.1111111111111111, \"#46039f\"], [0.2222222222222222, \"#7201a8\"], [0.3333333333333333, \"#9c179e\"], [0.4444444444444444, \"#bd3786\"], [0.5555555555555556, \"#d8576b\"], [0.6666666666666666, \"#ed7953\"], [0.7777777777777778, \"#fb9f3a\"], [0.8888888888888888, \"#fdca26\"], [1.0, \"#f0f921\"]], \"type\": \"heatmapgl\"}], \"histogram\": [{\"marker\": {\"colorbar\": {\"outlinewidth\": 0, \"ticks\": \"\"}}, \"type\": \"histogram\"}], \"histogram2d\": [{\"colorbar\": {\"outlinewidth\": 0, \"ticks\": \"\"}, \"colorscale\": [[0.0, \"#0d0887\"], [0.1111111111111111, \"#46039f\"], [0.2222222222222222, \"#7201a8\"], [0.3333333333333333, \"#9c179e\"], [0.4444444444444444, \"#bd3786\"], [0.5555555555555556, \"#d8576b\"], [0.6666666666666666, \"#ed7953\"], [0.7777777777777778, \"#fb9f3a\"], [0.8888888888888888, \"#fdca26\"], [1.0, \"#f0f921\"]], \"type\": \"histogram2d\"}], \"histogram2dcontour\": [{\"colorbar\": {\"outlinewidth\": 0, \"ticks\": \"\"}, \"colorscale\": [[0.0, \"#0d0887\"], [0.1111111111111111, \"#46039f\"], [0.2222222222222222, \"#7201a8\"], [0.3333333333333333, \"#9c179e\"], [0.4444444444444444, \"#bd3786\"], [0.5555555555555556, \"#d8576b\"], [0.6666666666666666, \"#ed7953\"], [0.7777777777777778, \"#fb9f3a\"], [0.8888888888888888, \"#fdca26\"], [1.0, \"#f0f921\"]], \"type\": \"histogram2dcontour\"}], \"mesh3d\": [{\"colorbar\": {\"outlinewidth\": 0, \"ticks\": \"\"}, \"type\": \"mesh3d\"}], \"parcoords\": [{\"line\": {\"colorbar\": {\"outlinewidth\": 0, \"ticks\": \"\"}}, \"type\": \"parcoords\"}], \"pie\": [{\"automargin\": true, \"type\": \"pie\"}], \"scatter\": [{\"marker\": {\"colorbar\": {\"outlinewidth\": 0, \"ticks\": \"\"}}, \"type\": \"scatter\"}], \"scatter3d\": [{\"line\": {\"colorbar\": {\"outlinewidth\": 0, \"ticks\": \"\"}}, \"marker\": {\"colorbar\": {\"outlinewidth\": 0, \"ticks\": \"\"}}, \"type\": \"scatter3d\"}], \"scattercarpet\": [{\"marker\": {\"colorbar\": {\"outlinewidth\": 0, \"ticks\": \"\"}}, \"type\": \"scattercarpet\"}], \"scattergeo\": [{\"marker\": {\"colorbar\": {\"outlinewidth\": 0, \"ticks\": \"\"}}, \"type\": \"scattergeo\"}], \"scattergl\": [{\"marker\": {\"colorbar\": {\"outlinewidth\": 0, \"ticks\": \"\"}}, \"type\": \"scattergl\"}], \"scattermapbox\": [{\"marker\": {\"colorbar\": {\"outlinewidth\": 0, \"ticks\": \"\"}}, \"type\": \"scattermapbox\"}], \"scatterpolar\": [{\"marker\": {\"colorbar\": {\"outlinewidth\": 0, \"ticks\": \"\"}}, \"type\": \"scatterpolar\"}], \"scatterpolargl\": [{\"marker\": {\"colorbar\": {\"outlinewidth\": 0, \"ticks\": \"\"}}, \"type\": \"scatterpolargl\"}], \"scatterternary\": [{\"marker\": {\"colorbar\": {\"outlinewidth\": 0, \"ticks\": \"\"}}, \"type\": \"scatterternary\"}], \"surface\": [{\"colorbar\": {\"outlinewidth\": 0, \"ticks\": \"\"}, \"colorscale\": [[0.0, \"#0d0887\"], [0.1111111111111111, \"#46039f\"], [0.2222222222222222, \"#7201a8\"], [0.3333333333333333, \"#9c179e\"], [0.4444444444444444, \"#bd3786\"], [0.5555555555555556, \"#d8576b\"], [0.6666666666666666, \"#ed7953\"], [0.7777777777777778, \"#fb9f3a\"], [0.8888888888888888, \"#fdca26\"], [1.0, \"#f0f921\"]], \"type\": \"surface\"}], \"table\": [{\"cells\": {\"fill\": {\"color\": \"#EBF0F8\"}, \"line\": {\"color\": \"white\"}}, \"header\": {\"fill\": {\"color\": \"#C8D4E3\"}, \"line\": {\"color\": \"white\"}}, \"type\": \"table\"}]}, \"layout\": {\"annotationdefaults\": {\"arrowcolor\": \"#2a3f5f\", \"arrowhead\": 0, \"arrowwidth\": 1}, \"coloraxis\": {\"colorbar\": {\"outlinewidth\": 0, \"ticks\": \"\"}}, \"colorscale\": {\"diverging\": [[0, \"#8e0152\"], [0.1, \"#c51b7d\"], [0.2, \"#de77ae\"], [0.3, \"#f1b6da\"], [0.4, \"#fde0ef\"], [0.5, \"#f7f7f7\"], [0.6, \"#e6f5d0\"], [0.7, \"#b8e186\"], [0.8, \"#7fbc41\"], [0.9, \"#4d9221\"], [1, \"#276419\"]], \"sequential\": [[0.0, \"#0d0887\"], [0.1111111111111111, \"#46039f\"], [0.2222222222222222, \"#7201a8\"], [0.3333333333333333, \"#9c179e\"], [0.4444444444444444, \"#bd3786\"], [0.5555555555555556, \"#d8576b\"], [0.6666666666666666, \"#ed7953\"], [0.7777777777777778, \"#fb9f3a\"], [0.8888888888888888, \"#fdca26\"], [1.0, \"#f0f921\"]], \"sequentialminus\": [[0.0, \"#0d0887\"], [0.1111111111111111, \"#46039f\"], [0.2222222222222222, \"#7201a8\"], [0.3333333333333333, \"#9c179e\"], [0.4444444444444444, \"#bd3786\"], [0.5555555555555556, \"#d8576b\"], [0.6666666666666666, \"#ed7953\"], [0.7777777777777778, \"#fb9f3a\"], [0.8888888888888888, \"#fdca26\"], [1.0, \"#f0f921\"]]}, \"colorway\": [\"#636efa\", \"#EF553B\", \"#00cc96\", \"#ab63fa\", \"#FFA15A\", \"#19d3f3\", \"#FF6692\", \"#B6E880\", \"#FF97FF\", \"#FECB52\"], \"font\": {\"color\": \"#2a3f5f\"}, \"geo\": {\"bgcolor\": \"white\", \"lakecolor\": \"white\", \"landcolor\": \"#E5ECF6\", \"showlakes\": true, \"showland\": true, \"subunitcolor\": \"white\"}, \"hoverlabel\": {\"align\": \"left\"}, \"hovermode\": \"closest\", \"mapbox\": {\"style\": \"light\"}, \"paper_bgcolor\": \"white\", \"plot_bgcolor\": \"#E5ECF6\", \"polar\": {\"angularaxis\": {\"gridcolor\": \"white\", \"linecolor\": \"white\", \"ticks\": \"\"}, \"bgcolor\": \"#E5ECF6\", \"radialaxis\": {\"gridcolor\": \"white\", \"linecolor\": \"white\", \"ticks\": \"\"}}, \"scene\": {\"xaxis\": {\"backgroundcolor\": \"#E5ECF6\", \"gridcolor\": \"white\", \"gridwidth\": 2, \"linecolor\": \"white\", \"showbackground\": true, \"ticks\": \"\", \"zerolinecolor\": \"white\"}, \"yaxis\": {\"backgroundcolor\": \"#E5ECF6\", \"gridcolor\": \"white\", \"gridwidth\": 2, \"linecolor\": \"white\", \"showbackground\": true, \"ticks\": \"\", \"zerolinecolor\": \"white\"}, \"zaxis\": {\"backgroundcolor\": \"#E5ECF6\", \"gridcolor\": \"white\", \"gridwidth\": 2, \"linecolor\": \"white\", \"showbackground\": true, \"ticks\": \"\", \"zerolinecolor\": \"white\"}}, \"shapedefaults\": {\"line\": {\"color\": \"#2a3f5f\"}}, \"ternary\": {\"aaxis\": {\"gridcolor\": \"white\", \"linecolor\": \"white\", \"ticks\": \"\"}, \"baxis\": {\"gridcolor\": \"white\", \"linecolor\": \"white\", \"ticks\": \"\"}, \"bgcolor\": \"#E5ECF6\", \"caxis\": {\"gridcolor\": \"white\", \"linecolor\": \"white\", \"ticks\": \"\"}}, \"title\": {\"x\": 0.05}, \"xaxis\": {\"automargin\": true, \"gridcolor\": \"white\", \"linecolor\": \"white\", \"ticks\": \"\", \"title\": {\"standoff\": 15}, \"zerolinecolor\": \"white\", \"zerolinewidth\": 2}, \"yaxis\": {\"automargin\": true, \"gridcolor\": \"white\", \"linecolor\": \"white\", \"ticks\": \"\", \"title\": {\"standoff\": 15}, \"zerolinecolor\": \"white\", \"zerolinewidth\": 2}}}, \"xaxis\": {\"anchor\": \"x\", \"exponentformat\": \"e\", \"linecolor\": \"black\", \"linewidth\": 1, \"mirror\": false, \"showexponent\": \"all\", \"showline\": true, \"side\": \"bottom\", \"ticks\": \"outside\", \"title\": {\"text\": \"Filtration parameter\"}, \"type\": \"linear\", \"zeroline\": true}, \"yaxis\": {\"anchor\": \"y\", \"exponentformat\": \"e\", \"linecolor\": \"black\", \"linewidth\": 1, \"mirror\": false, \"showexponent\": \"all\", \"showline\": true, \"side\": \"left\", \"ticks\": \"outside\", \"title\": {\"text\": \"Betti number\"}, \"type\": \"linear\", \"zeroline\": true}},\n",
       "                        {\"responsive\": true}\n",
       "                    ).then(function(){\n",
       "                            \n",
       "var gd = document.getElementById('422aabe6-f89c-49ef-a64b-444feb6c9fa8');\n",
       "var x = new MutationObserver(function (mutations, observer) {{\n",
       "        var display = window.getComputedStyle(gd).display;\n",
       "        if (!display || display === 'none') {{\n",
       "            console.log([gd, 'removed!']);\n",
       "            Plotly.purge(gd);\n",
       "            observer.disconnect();\n",
       "        }}\n",
       "}});\n",
       "\n",
       "// Listen for the removal of the full notebook cells\n",
       "var notebookContainer = gd.closest('#notebook-container');\n",
       "if (notebookContainer) {{\n",
       "    x.observe(notebookContainer, {childList: true});\n",
       "}}\n",
       "\n",
       "// Listen for the clearing of the current output cell\n",
       "var outputEl = gd.closest('.output');\n",
       "if (outputEl) {{\n",
       "    x.observe(outputEl, {childList: true});\n",
       "}}\n",
       "\n",
       "                        })\n",
       "                };\n",
       "                });\n",
       "            </script>\n",
       "        </div>"
      ]
     },
     "metadata": {},
     "output_type": "display_data"
    }
   ],
   "source": [
    "betti_curve_extractor = BettiCurve()\n",
    "sample_betti_curve = betti_curve_extractor.fit_transform([sample_pd])[0]\n",
    "betti_curve_extractor.plot([sample_betti_curve])"
   ]
  },
  {
   "cell_type": "markdown",
   "metadata": {},
   "source": [
    "#### 1.4.2. Persistence Landscape"
   ]
  },
  {
   "cell_type": "markdown",
   "metadata": {},
   "source": [
    "A *Persistence Landscape* is a set of $\\{{\\lambda_k}\\}_{k \\in \\mathbb{N}}$ of functions $\\lambda: \\mathbb{R} \\rightarrow \\overline{\\mathbb{R}}$, where $\\lambda_k$ is the $k$-th *layer* of Persistence Landscape. For the PD $\\{ (b_i, d_i) \\}$ Persistence Landscape $\\lambda$ can defined as letting $\\lambda_k$ be $k$-th largest value on set $\\{ \\Lambda_i(t) \\}$, where $\\Lambda_i(t) = \\left[ min \\{ t-b_i, d_i-t \\} \\right]_+$ and $c_+ := max(c, 0)$."
   ]
  },
  {
   "cell_type": "code",
   "execution_count": 101,
   "metadata": {},
   "outputs": [
    {
     "data": {
      "application/vnd.plotly.v1+json": {
       "config": {
        "plotlyServerURL": "https://plot.ly"
       },
       "data": [
        {
         "hoverinfo": "none",
         "mode": "lines",
         "name": "Layer 1",
         "showlegend": true,
         "type": "scatter",
         "x": [
          0,
          0.008093699366014343,
          0.016187398732028686,
          0.02428109809804303,
          0.03237479746405737,
          0.04046849683007171,
          0.04856219619608606,
          0.056655895562100406,
          0.06474959492811475,
          0.07284329429412909,
          0.08093699366014342,
          0.08903069302615778,
          0.09712439239217212,
          0.10521809175818646,
          0.11331179112420081,
          0.12140549049021515,
          0.1294991898562295,
          0.13759288922224383,
          0.14568658858825817,
          0.1537802879542725,
          0.16187398732028685,
          0.16996768668630122,
          0.17806138605231556,
          0.1861550854183299,
          0.19424878478434424,
          0.20234248415035858,
          0.21043618351637292,
          0.21852988288238726,
          0.22662358224840162,
          0.23471728161441596,
          0.2428109809804303,
          0.25090468034644464,
          0.258998379712459,
          0.2670920790784733,
          0.27518577844448766,
          0.283279477810502,
          0.29137317717651634,
          0.2994668765425307,
          0.307560575908545,
          0.31565427527455936,
          0.3237479746405737,
          0.3318416740065881,
          0.33993537337260243,
          0.3480290727386168,
          0.3561227721046311,
          0.36421647147064545,
          0.3723101708366598,
          0.38040387020267413,
          0.38849756956868847,
          0.3965912689347028,
          0.40468496830071715,
          0.4127786676667315,
          0.42087236703274583,
          0.42896606639876017,
          0.4370597657647745,
          0.44515346513078885,
          0.45324716449680325,
          0.4613408638628176,
          0.4694345632288319,
          0.47752826259484626,
          0.4856219619608606,
          0.49371566132687494,
          0.5018093606928893,
          0.5099030600589036,
          0.517996759424918,
          0.5260904587909323,
          0.5341841581569466,
          0.542277857522961,
          0.5503715568889753,
          0.5584652562549897,
          0.566558955621004,
          0.5746526549870183,
          0.5827463543530327,
          0.590840053719047,
          0.5989337530850614,
          0.6070274524510757,
          0.61512115181709,
          0.6232148511831044,
          0.6313085505491187,
          0.6394022499151331,
          0.6474959492811474,
          0.6555896486471618,
          0.6636833480131762,
          0.6717770473791905,
          0.6798707467452049,
          0.6879644461112192,
          0.6960581454772335,
          0.7041518448432479,
          0.7122455442092622,
          0.7203392435752766,
          0.7284329429412909,
          0.7365266423073052,
          0.7446203416733196,
          0.7527140410393339,
          0.7608077404053483,
          0.7689014397713626,
          0.7769951391373769,
          0.7850888385033913,
          0.7931825378694056,
          0.80127623723542
         ],
         "y": [
          0,
          0.008093699366014347,
          0.016187398732028686,
          0.024281098098043033,
          0.03237479746405739,
          0.040468496830071726,
          0.048562196196086066,
          0.05665589556210043,
          0.06474959492811477,
          0.07284329429412911,
          0.08093699366014345,
          0.08903069302615779,
          0.09712439239217213,
          0.10521809175818647,
          0.11331179112420081,
          0.12140549049021515,
          0.1294991898562295,
          0.13759288922224383,
          0.14568658858825817,
          0.1537802879542725,
          0.16187398732028685,
          0.16996768668630122,
          0.17806138605231556,
          0.1861550854183299,
          0.19424878478434424,
          0.20234248415035858,
          0.21043618351637292,
          0.21852988288238726,
          0.22662358224840162,
          0.23471728161441596,
          0.2428109809804303,
          0.25090468034644464,
          0.258998379712459,
          0.2670920790784733,
          0.27518577844448766,
          0.283279477810502,
          0.29137317717651634,
          0.2994668765425307,
          0.307560575908545,
          0.31565427527455936,
          0.3237479746405737,
          0.3318416740065881,
          0.33993537337260243,
          0.3480290727386168,
          0.3561227721046311,
          0.36421647147064545,
          0.3723101708366598,
          0.38040387020267413,
          0.38849756956868847,
          0.3965912689347028,
          0.3965912689347028,
          0.38849756956868847,
          0.38040387020267413,
          0.3723101708366598,
          0.36421647147064545,
          0.3561227721046311,
          0.3480290727386167,
          0.3399353733726024,
          0.33184167400658804,
          0.3237479746405737,
          0.31565427527455936,
          0.307560575908545,
          0.2994668765425307,
          0.29137317717651634,
          0.283279477810502,
          0.27518577844448766,
          0.2670920790784733,
          0.258998379712459,
          0.25090468034644464,
          0.2428109809804303,
          0.23471728161441596,
          0.22662358224840162,
          0.21852988288238728,
          0.21043618351637294,
          0.2023424841503586,
          0.19424878478434426,
          0.18615508541832992,
          0.17806138605231558,
          0.16996768668630124,
          0.1618739873202869,
          0.15378028795427257,
          0.14568658858825811,
          0.13759288922224377,
          0.12949918985622944,
          0.1214054904902151,
          0.11331179112420076,
          0.10521809175818642,
          0.09712439239217208,
          0.08903069302615774,
          0.0809369936601434,
          0.07284329429412906,
          0.06474959492811472,
          0.05665589556210038,
          0.04856219619608604,
          0.0404684968300717,
          0.03237479746405736,
          0.02428109809804302,
          0.01618739873202868,
          0.00809369936601434,
          0
         ]
        },
        {
         "hoverinfo": "none",
         "mode": "lines",
         "name": "Layer 2",
         "showlegend": true,
         "type": "scatter",
         "x": [
          0,
          0.008093699366014343,
          0.016187398732028686,
          0.02428109809804303,
          0.03237479746405737,
          0.04046849683007171,
          0.04856219619608606,
          0.056655895562100406,
          0.06474959492811475,
          0.07284329429412909,
          0.08093699366014342,
          0.08903069302615778,
          0.09712439239217212,
          0.10521809175818646,
          0.11331179112420081,
          0.12140549049021515,
          0.1294991898562295,
          0.13759288922224383,
          0.14568658858825817,
          0.1537802879542725,
          0.16187398732028685,
          0.16996768668630122,
          0.17806138605231556,
          0.1861550854183299,
          0.19424878478434424,
          0.20234248415035858,
          0.21043618351637292,
          0.21852988288238726,
          0.22662358224840162,
          0.23471728161441596,
          0.2428109809804303,
          0.25090468034644464,
          0.258998379712459,
          0.2670920790784733,
          0.27518577844448766,
          0.283279477810502,
          0.29137317717651634,
          0.2994668765425307,
          0.307560575908545,
          0.31565427527455936,
          0.3237479746405737,
          0.3318416740065881,
          0.33993537337260243,
          0.3480290727386168,
          0.3561227721046311,
          0.36421647147064545,
          0.3723101708366598,
          0.38040387020267413,
          0.38849756956868847,
          0.3965912689347028,
          0.40468496830071715,
          0.4127786676667315,
          0.42087236703274583,
          0.42896606639876017,
          0.4370597657647745,
          0.44515346513078885,
          0.45324716449680325,
          0.4613408638628176,
          0.4694345632288319,
          0.47752826259484626,
          0.4856219619608606,
          0.49371566132687494,
          0.5018093606928893,
          0.5099030600589036,
          0.517996759424918,
          0.5260904587909323,
          0.5341841581569466,
          0.542277857522961,
          0.5503715568889753,
          0.5584652562549897,
          0.566558955621004,
          0.5746526549870183,
          0.5827463543530327,
          0.590840053719047,
          0.5989337530850614,
          0.6070274524510757,
          0.61512115181709,
          0.6232148511831044,
          0.6313085505491187,
          0.6394022499151331,
          0.6474959492811474,
          0.6555896486471618,
          0.6636833480131762,
          0.6717770473791905,
          0.6798707467452049,
          0.6879644461112192,
          0.6960581454772335,
          0.7041518448432479,
          0.7122455442092622,
          0.7203392435752766,
          0.7284329429412909,
          0.7365266423073052,
          0.7446203416733196,
          0.7527140410393339,
          0.7608077404053483,
          0.7689014397713626,
          0.7769951391373769,
          0.7850888385033913,
          0.7931825378694056,
          0.80127623723542
         ],
         "y": [
          0,
          0.008093699366014343,
          0.016187398732028686,
          0.024281098098043033,
          0.03237479746405739,
          0.040468496830071726,
          0.048562196196086066,
          0.05665589556210043,
          0.06474959492811477,
          0.07284329429412909,
          0.08093699366014342,
          0.08903069302615779,
          0.09712439239217213,
          0.10521809175818647,
          0.11331179112420081,
          0.12140549049021515,
          0.1294991898562295,
          0.13759288922224383,
          0.14568658858825817,
          0.1537802879542725,
          0.16187398732028685,
          0.16996768668630122,
          0.17806138605231556,
          0.1861550854183299,
          0.19424878478434424,
          0.20234248415035858,
          0.21043618351637292,
          0.21852988288238726,
          0.22662358224840162,
          0.23471728161441596,
          0.2428109809804303,
          0.25090468034644464,
          0.258998379712459,
          0.2670920790784733,
          0.27518577844448766,
          0.283279477810502,
          0.29137317717651634,
          0.2994668765425307,
          0.307560575908545,
          0.31565427527455936,
          0.3237479746405737,
          0.3318416740065881,
          0.33993537337260243,
          0.3480290727386168,
          0.3561227721046311,
          0.36421647147064545,
          0.3723101708366598,
          0.38040387020267413,
          0.38725491518158434,
          0.37916121581557,
          0.37106751644955566,
          0.3629738170835413,
          0.354880117717527,
          0.34678641835151264,
          0.3386927189854983,
          0.33059901961948396,
          0.32250532025346956,
          0.3144116208874552,
          0.3063179215214409,
          0.29822422215542654,
          0.2901305227894122,
          0.28203682342339786,
          0.2739431240573835,
          0.2658494246913692,
          0.25775572532535485,
          0.2496620259593405,
          0.24156832659332617,
          0.23347462722731183,
          0.2253809278612975,
          0.21728722849528315,
          0.2091935291292688,
          0.20109982976325447,
          0.19300613039724013,
          0.1849124310312258,
          0.17681873166521145,
          0.1687250322991971,
          0.16063133293318277,
          0.15253763356716843,
          0.1444439342011541,
          0.13635023483513975,
          0.1282565354691254,
          0.12016283610311096,
          0.11206913673709662,
          0.10397543737108228,
          0.09588173800506794,
          0.0877880386390536,
          0.07969433927303926,
          0.07160063990702492,
          0.06350694054101058,
          0.05541324117499624,
          0.0473195418089819,
          0.03922584244296756,
          0.031132143076953223,
          0.023038443710938883,
          0.014944744344924543,
          0.0068510449789102035,
          0,
          0,
          0,
          0
         ]
        }
       ],
       "layout": {
        "plot_bgcolor": "white",
        "template": {
         "data": {
          "bar": [
           {
            "error_x": {
             "color": "#2a3f5f"
            },
            "error_y": {
             "color": "#2a3f5f"
            },
            "marker": {
             "line": {
              "color": "#E5ECF6",
              "width": 0.5
             }
            },
            "type": "bar"
           }
          ],
          "barpolar": [
           {
            "marker": {
             "line": {
              "color": "#E5ECF6",
              "width": 0.5
             }
            },
            "type": "barpolar"
           }
          ],
          "carpet": [
           {
            "aaxis": {
             "endlinecolor": "#2a3f5f",
             "gridcolor": "white",
             "linecolor": "white",
             "minorgridcolor": "white",
             "startlinecolor": "#2a3f5f"
            },
            "baxis": {
             "endlinecolor": "#2a3f5f",
             "gridcolor": "white",
             "linecolor": "white",
             "minorgridcolor": "white",
             "startlinecolor": "#2a3f5f"
            },
            "type": "carpet"
           }
          ],
          "choropleth": [
           {
            "colorbar": {
             "outlinewidth": 0,
             "ticks": ""
            },
            "type": "choropleth"
           }
          ],
          "contour": [
           {
            "colorbar": {
             "outlinewidth": 0,
             "ticks": ""
            },
            "colorscale": [
             [
              0,
              "#0d0887"
             ],
             [
              0.1111111111111111,
              "#46039f"
             ],
             [
              0.2222222222222222,
              "#7201a8"
             ],
             [
              0.3333333333333333,
              "#9c179e"
             ],
             [
              0.4444444444444444,
              "#bd3786"
             ],
             [
              0.5555555555555556,
              "#d8576b"
             ],
             [
              0.6666666666666666,
              "#ed7953"
             ],
             [
              0.7777777777777778,
              "#fb9f3a"
             ],
             [
              0.8888888888888888,
              "#fdca26"
             ],
             [
              1,
              "#f0f921"
             ]
            ],
            "type": "contour"
           }
          ],
          "contourcarpet": [
           {
            "colorbar": {
             "outlinewidth": 0,
             "ticks": ""
            },
            "type": "contourcarpet"
           }
          ],
          "heatmap": [
           {
            "colorbar": {
             "outlinewidth": 0,
             "ticks": ""
            },
            "colorscale": [
             [
              0,
              "#0d0887"
             ],
             [
              0.1111111111111111,
              "#46039f"
             ],
             [
              0.2222222222222222,
              "#7201a8"
             ],
             [
              0.3333333333333333,
              "#9c179e"
             ],
             [
              0.4444444444444444,
              "#bd3786"
             ],
             [
              0.5555555555555556,
              "#d8576b"
             ],
             [
              0.6666666666666666,
              "#ed7953"
             ],
             [
              0.7777777777777778,
              "#fb9f3a"
             ],
             [
              0.8888888888888888,
              "#fdca26"
             ],
             [
              1,
              "#f0f921"
             ]
            ],
            "type": "heatmap"
           }
          ],
          "heatmapgl": [
           {
            "colorbar": {
             "outlinewidth": 0,
             "ticks": ""
            },
            "colorscale": [
             [
              0,
              "#0d0887"
             ],
             [
              0.1111111111111111,
              "#46039f"
             ],
             [
              0.2222222222222222,
              "#7201a8"
             ],
             [
              0.3333333333333333,
              "#9c179e"
             ],
             [
              0.4444444444444444,
              "#bd3786"
             ],
             [
              0.5555555555555556,
              "#d8576b"
             ],
             [
              0.6666666666666666,
              "#ed7953"
             ],
             [
              0.7777777777777778,
              "#fb9f3a"
             ],
             [
              0.8888888888888888,
              "#fdca26"
             ],
             [
              1,
              "#f0f921"
             ]
            ],
            "type": "heatmapgl"
           }
          ],
          "histogram": [
           {
            "marker": {
             "colorbar": {
              "outlinewidth": 0,
              "ticks": ""
             }
            },
            "type": "histogram"
           }
          ],
          "histogram2d": [
           {
            "colorbar": {
             "outlinewidth": 0,
             "ticks": ""
            },
            "colorscale": [
             [
              0,
              "#0d0887"
             ],
             [
              0.1111111111111111,
              "#46039f"
             ],
             [
              0.2222222222222222,
              "#7201a8"
             ],
             [
              0.3333333333333333,
              "#9c179e"
             ],
             [
              0.4444444444444444,
              "#bd3786"
             ],
             [
              0.5555555555555556,
              "#d8576b"
             ],
             [
              0.6666666666666666,
              "#ed7953"
             ],
             [
              0.7777777777777778,
              "#fb9f3a"
             ],
             [
              0.8888888888888888,
              "#fdca26"
             ],
             [
              1,
              "#f0f921"
             ]
            ],
            "type": "histogram2d"
           }
          ],
          "histogram2dcontour": [
           {
            "colorbar": {
             "outlinewidth": 0,
             "ticks": ""
            },
            "colorscale": [
             [
              0,
              "#0d0887"
             ],
             [
              0.1111111111111111,
              "#46039f"
             ],
             [
              0.2222222222222222,
              "#7201a8"
             ],
             [
              0.3333333333333333,
              "#9c179e"
             ],
             [
              0.4444444444444444,
              "#bd3786"
             ],
             [
              0.5555555555555556,
              "#d8576b"
             ],
             [
              0.6666666666666666,
              "#ed7953"
             ],
             [
              0.7777777777777778,
              "#fb9f3a"
             ],
             [
              0.8888888888888888,
              "#fdca26"
             ],
             [
              1,
              "#f0f921"
             ]
            ],
            "type": "histogram2dcontour"
           }
          ],
          "mesh3d": [
           {
            "colorbar": {
             "outlinewidth": 0,
             "ticks": ""
            },
            "type": "mesh3d"
           }
          ],
          "parcoords": [
           {
            "line": {
             "colorbar": {
              "outlinewidth": 0,
              "ticks": ""
             }
            },
            "type": "parcoords"
           }
          ],
          "pie": [
           {
            "automargin": true,
            "type": "pie"
           }
          ],
          "scatter": [
           {
            "marker": {
             "colorbar": {
              "outlinewidth": 0,
              "ticks": ""
             }
            },
            "type": "scatter"
           }
          ],
          "scatter3d": [
           {
            "line": {
             "colorbar": {
              "outlinewidth": 0,
              "ticks": ""
             }
            },
            "marker": {
             "colorbar": {
              "outlinewidth": 0,
              "ticks": ""
             }
            },
            "type": "scatter3d"
           }
          ],
          "scattercarpet": [
           {
            "marker": {
             "colorbar": {
              "outlinewidth": 0,
              "ticks": ""
             }
            },
            "type": "scattercarpet"
           }
          ],
          "scattergeo": [
           {
            "marker": {
             "colorbar": {
              "outlinewidth": 0,
              "ticks": ""
             }
            },
            "type": "scattergeo"
           }
          ],
          "scattergl": [
           {
            "marker": {
             "colorbar": {
              "outlinewidth": 0,
              "ticks": ""
             }
            },
            "type": "scattergl"
           }
          ],
          "scattermapbox": [
           {
            "marker": {
             "colorbar": {
              "outlinewidth": 0,
              "ticks": ""
             }
            },
            "type": "scattermapbox"
           }
          ],
          "scatterpolar": [
           {
            "marker": {
             "colorbar": {
              "outlinewidth": 0,
              "ticks": ""
             }
            },
            "type": "scatterpolar"
           }
          ],
          "scatterpolargl": [
           {
            "marker": {
             "colorbar": {
              "outlinewidth": 0,
              "ticks": ""
             }
            },
            "type": "scatterpolargl"
           }
          ],
          "scatterternary": [
           {
            "marker": {
             "colorbar": {
              "outlinewidth": 0,
              "ticks": ""
             }
            },
            "type": "scatterternary"
           }
          ],
          "surface": [
           {
            "colorbar": {
             "outlinewidth": 0,
             "ticks": ""
            },
            "colorscale": [
             [
              0,
              "#0d0887"
             ],
             [
              0.1111111111111111,
              "#46039f"
             ],
             [
              0.2222222222222222,
              "#7201a8"
             ],
             [
              0.3333333333333333,
              "#9c179e"
             ],
             [
              0.4444444444444444,
              "#bd3786"
             ],
             [
              0.5555555555555556,
              "#d8576b"
             ],
             [
              0.6666666666666666,
              "#ed7953"
             ],
             [
              0.7777777777777778,
              "#fb9f3a"
             ],
             [
              0.8888888888888888,
              "#fdca26"
             ],
             [
              1,
              "#f0f921"
             ]
            ],
            "type": "surface"
           }
          ],
          "table": [
           {
            "cells": {
             "fill": {
              "color": "#EBF0F8"
             },
             "line": {
              "color": "white"
             }
            },
            "header": {
             "fill": {
              "color": "#C8D4E3"
             },
             "line": {
              "color": "white"
             }
            },
            "type": "table"
           }
          ]
         },
         "layout": {
          "annotationdefaults": {
           "arrowcolor": "#2a3f5f",
           "arrowhead": 0,
           "arrowwidth": 1
          },
          "coloraxis": {
           "colorbar": {
            "outlinewidth": 0,
            "ticks": ""
           }
          },
          "colorscale": {
           "diverging": [
            [
             0,
             "#8e0152"
            ],
            [
             0.1,
             "#c51b7d"
            ],
            [
             0.2,
             "#de77ae"
            ],
            [
             0.3,
             "#f1b6da"
            ],
            [
             0.4,
             "#fde0ef"
            ],
            [
             0.5,
             "#f7f7f7"
            ],
            [
             0.6,
             "#e6f5d0"
            ],
            [
             0.7,
             "#b8e186"
            ],
            [
             0.8,
             "#7fbc41"
            ],
            [
             0.9,
             "#4d9221"
            ],
            [
             1,
             "#276419"
            ]
           ],
           "sequential": [
            [
             0,
             "#0d0887"
            ],
            [
             0.1111111111111111,
             "#46039f"
            ],
            [
             0.2222222222222222,
             "#7201a8"
            ],
            [
             0.3333333333333333,
             "#9c179e"
            ],
            [
             0.4444444444444444,
             "#bd3786"
            ],
            [
             0.5555555555555556,
             "#d8576b"
            ],
            [
             0.6666666666666666,
             "#ed7953"
            ],
            [
             0.7777777777777778,
             "#fb9f3a"
            ],
            [
             0.8888888888888888,
             "#fdca26"
            ],
            [
             1,
             "#f0f921"
            ]
           ],
           "sequentialminus": [
            [
             0,
             "#0d0887"
            ],
            [
             0.1111111111111111,
             "#46039f"
            ],
            [
             0.2222222222222222,
             "#7201a8"
            ],
            [
             0.3333333333333333,
             "#9c179e"
            ],
            [
             0.4444444444444444,
             "#bd3786"
            ],
            [
             0.5555555555555556,
             "#d8576b"
            ],
            [
             0.6666666666666666,
             "#ed7953"
            ],
            [
             0.7777777777777778,
             "#fb9f3a"
            ],
            [
             0.8888888888888888,
             "#fdca26"
            ],
            [
             1,
             "#f0f921"
            ]
           ]
          },
          "colorway": [
           "#636efa",
           "#EF553B",
           "#00cc96",
           "#ab63fa",
           "#FFA15A",
           "#19d3f3",
           "#FF6692",
           "#B6E880",
           "#FF97FF",
           "#FECB52"
          ],
          "font": {
           "color": "#2a3f5f"
          },
          "geo": {
           "bgcolor": "white",
           "lakecolor": "white",
           "landcolor": "#E5ECF6",
           "showlakes": true,
           "showland": true,
           "subunitcolor": "white"
          },
          "hoverlabel": {
           "align": "left"
          },
          "hovermode": "closest",
          "mapbox": {
           "style": "light"
          },
          "paper_bgcolor": "white",
          "plot_bgcolor": "#E5ECF6",
          "polar": {
           "angularaxis": {
            "gridcolor": "white",
            "linecolor": "white",
            "ticks": ""
           },
           "bgcolor": "#E5ECF6",
           "radialaxis": {
            "gridcolor": "white",
            "linecolor": "white",
            "ticks": ""
           }
          },
          "scene": {
           "xaxis": {
            "backgroundcolor": "#E5ECF6",
            "gridcolor": "white",
            "gridwidth": 2,
            "linecolor": "white",
            "showbackground": true,
            "ticks": "",
            "zerolinecolor": "white"
           },
           "yaxis": {
            "backgroundcolor": "#E5ECF6",
            "gridcolor": "white",
            "gridwidth": 2,
            "linecolor": "white",
            "showbackground": true,
            "ticks": "",
            "zerolinecolor": "white"
           },
           "zaxis": {
            "backgroundcolor": "#E5ECF6",
            "gridcolor": "white",
            "gridwidth": 2,
            "linecolor": "white",
            "showbackground": true,
            "ticks": "",
            "zerolinecolor": "white"
           }
          },
          "shapedefaults": {
           "line": {
            "color": "#2a3f5f"
           }
          },
          "ternary": {
           "aaxis": {
            "gridcolor": "white",
            "linecolor": "white",
            "ticks": ""
           },
           "baxis": {
            "gridcolor": "white",
            "linecolor": "white",
            "ticks": ""
           },
           "bgcolor": "#E5ECF6",
           "caxis": {
            "gridcolor": "white",
            "linecolor": "white",
            "ticks": ""
           }
          },
          "title": {
           "x": 0.05
          },
          "xaxis": {
           "automargin": true,
           "gridcolor": "white",
           "linecolor": "white",
           "ticks": "",
           "title": {
            "standoff": 15
           },
           "zerolinecolor": "white",
           "zerolinewidth": 2
          },
          "yaxis": {
           "automargin": true,
           "gridcolor": "white",
           "linecolor": "white",
           "ticks": "",
           "title": {
            "standoff": 15
           },
           "zerolinecolor": "white",
           "zerolinewidth": 2
          }
         }
        },
        "title": {
         "text": "Persistence landscape for homology dimension 0"
        },
        "xaxis": {
         "anchor": "y",
         "exponentformat": "e",
         "linecolor": "black",
         "linewidth": 1,
         "mirror": false,
         "showexponent": "all",
         "showline": true,
         "side": "bottom",
         "ticks": "outside",
         "type": "linear",
         "zeroline": true
        },
        "yaxis": {
         "anchor": "x",
         "exponentformat": "e",
         "linecolor": "black",
         "linewidth": 1,
         "mirror": false,
         "showexponent": "all",
         "showline": true,
         "side": "left",
         "ticks": "outside",
         "type": "linear",
         "zeroline": true
        }
       }
      },
      "text/html": [
       "<div>\n",
       "        \n",
       "        \n",
       "            <div id=\"e3844b6d-461a-48a9-9c74-e197501713ae\" class=\"plotly-graph-div\" style=\"height:525px; width:100%;\"></div>\n",
       "            <script type=\"text/javascript\">\n",
       "                require([\"plotly\"], function(Plotly) {\n",
       "                    window.PLOTLYENV=window.PLOTLYENV || {};\n",
       "                    \n",
       "                if (document.getElementById(\"e3844b6d-461a-48a9-9c74-e197501713ae\")) {\n",
       "                    Plotly.newPlot(\n",
       "                        'e3844b6d-461a-48a9-9c74-e197501713ae',\n",
       "                        [{\"hoverinfo\": \"none\", \"mode\": \"lines\", \"name\": \"Layer 1\", \"showlegend\": true, \"type\": \"scatter\", \"x\": [0.0, 0.008093699366014343, 0.016187398732028686, 0.02428109809804303, 0.03237479746405737, 0.04046849683007171, 0.04856219619608606, 0.056655895562100406, 0.06474959492811475, 0.07284329429412909, 0.08093699366014342, 0.08903069302615778, 0.09712439239217212, 0.10521809175818646, 0.11331179112420081, 0.12140549049021515, 0.1294991898562295, 0.13759288922224383, 0.14568658858825817, 0.1537802879542725, 0.16187398732028685, 0.16996768668630122, 0.17806138605231556, 0.1861550854183299, 0.19424878478434424, 0.20234248415035858, 0.21043618351637292, 0.21852988288238726, 0.22662358224840162, 0.23471728161441596, 0.2428109809804303, 0.25090468034644464, 0.258998379712459, 0.2670920790784733, 0.27518577844448766, 0.283279477810502, 0.29137317717651634, 0.2994668765425307, 0.307560575908545, 0.31565427527455936, 0.3237479746405737, 0.3318416740065881, 0.33993537337260243, 0.3480290727386168, 0.3561227721046311, 0.36421647147064545, 0.3723101708366598, 0.38040387020267413, 0.38849756956868847, 0.3965912689347028, 0.40468496830071715, 0.4127786676667315, 0.42087236703274583, 0.42896606639876017, 0.4370597657647745, 0.44515346513078885, 0.45324716449680325, 0.4613408638628176, 0.4694345632288319, 0.47752826259484626, 0.4856219619608606, 0.49371566132687494, 0.5018093606928893, 0.5099030600589036, 0.517996759424918, 0.5260904587909323, 0.5341841581569466, 0.542277857522961, 0.5503715568889753, 0.5584652562549897, 0.566558955621004, 0.5746526549870183, 0.5827463543530327, 0.590840053719047, 0.5989337530850614, 0.6070274524510757, 0.61512115181709, 0.6232148511831044, 0.6313085505491187, 0.6394022499151331, 0.6474959492811474, 0.6555896486471618, 0.6636833480131762, 0.6717770473791905, 0.6798707467452049, 0.6879644461112192, 0.6960581454772335, 0.7041518448432479, 0.7122455442092622, 0.7203392435752766, 0.7284329429412909, 0.7365266423073052, 0.7446203416733196, 0.7527140410393339, 0.7608077404053483, 0.7689014397713626, 0.7769951391373769, 0.7850888385033913, 0.7931825378694056, 0.80127623723542], \"y\": [0.0, 0.008093699366014347, 0.016187398732028686, 0.024281098098043033, 0.03237479746405739, 0.040468496830071726, 0.048562196196086066, 0.05665589556210043, 0.06474959492811477, 0.07284329429412911, 0.08093699366014345, 0.08903069302615779, 0.09712439239217213, 0.10521809175818647, 0.11331179112420081, 0.12140549049021515, 0.1294991898562295, 0.13759288922224383, 0.14568658858825817, 0.1537802879542725, 0.16187398732028685, 0.16996768668630122, 0.17806138605231556, 0.1861550854183299, 0.19424878478434424, 0.20234248415035858, 0.21043618351637292, 0.21852988288238726, 0.22662358224840162, 0.23471728161441596, 0.2428109809804303, 0.25090468034644464, 0.258998379712459, 0.2670920790784733, 0.27518577844448766, 0.283279477810502, 0.29137317717651634, 0.2994668765425307, 0.307560575908545, 0.31565427527455936, 0.3237479746405737, 0.3318416740065881, 0.33993537337260243, 0.3480290727386168, 0.3561227721046311, 0.36421647147064545, 0.3723101708366598, 0.38040387020267413, 0.38849756956868847, 0.3965912689347028, 0.3965912689347028, 0.38849756956868847, 0.38040387020267413, 0.3723101708366598, 0.36421647147064545, 0.3561227721046311, 0.3480290727386167, 0.3399353733726024, 0.33184167400658804, 0.3237479746405737, 0.31565427527455936, 0.307560575908545, 0.2994668765425307, 0.29137317717651634, 0.283279477810502, 0.27518577844448766, 0.2670920790784733, 0.258998379712459, 0.25090468034644464, 0.2428109809804303, 0.23471728161441596, 0.22662358224840162, 0.21852988288238728, 0.21043618351637294, 0.2023424841503586, 0.19424878478434426, 0.18615508541832992, 0.17806138605231558, 0.16996768668630124, 0.1618739873202869, 0.15378028795427257, 0.14568658858825811, 0.13759288922224377, 0.12949918985622944, 0.1214054904902151, 0.11331179112420076, 0.10521809175818642, 0.09712439239217208, 0.08903069302615774, 0.0809369936601434, 0.07284329429412906, 0.06474959492811472, 0.05665589556210038, 0.04856219619608604, 0.0404684968300717, 0.03237479746405736, 0.02428109809804302, 0.01618739873202868, 0.00809369936601434, 0.0]}, {\"hoverinfo\": \"none\", \"mode\": \"lines\", \"name\": \"Layer 2\", \"showlegend\": true, \"type\": \"scatter\", \"x\": [0.0, 0.008093699366014343, 0.016187398732028686, 0.02428109809804303, 0.03237479746405737, 0.04046849683007171, 0.04856219619608606, 0.056655895562100406, 0.06474959492811475, 0.07284329429412909, 0.08093699366014342, 0.08903069302615778, 0.09712439239217212, 0.10521809175818646, 0.11331179112420081, 0.12140549049021515, 0.1294991898562295, 0.13759288922224383, 0.14568658858825817, 0.1537802879542725, 0.16187398732028685, 0.16996768668630122, 0.17806138605231556, 0.1861550854183299, 0.19424878478434424, 0.20234248415035858, 0.21043618351637292, 0.21852988288238726, 0.22662358224840162, 0.23471728161441596, 0.2428109809804303, 0.25090468034644464, 0.258998379712459, 0.2670920790784733, 0.27518577844448766, 0.283279477810502, 0.29137317717651634, 0.2994668765425307, 0.307560575908545, 0.31565427527455936, 0.3237479746405737, 0.3318416740065881, 0.33993537337260243, 0.3480290727386168, 0.3561227721046311, 0.36421647147064545, 0.3723101708366598, 0.38040387020267413, 0.38849756956868847, 0.3965912689347028, 0.40468496830071715, 0.4127786676667315, 0.42087236703274583, 0.42896606639876017, 0.4370597657647745, 0.44515346513078885, 0.45324716449680325, 0.4613408638628176, 0.4694345632288319, 0.47752826259484626, 0.4856219619608606, 0.49371566132687494, 0.5018093606928893, 0.5099030600589036, 0.517996759424918, 0.5260904587909323, 0.5341841581569466, 0.542277857522961, 0.5503715568889753, 0.5584652562549897, 0.566558955621004, 0.5746526549870183, 0.5827463543530327, 0.590840053719047, 0.5989337530850614, 0.6070274524510757, 0.61512115181709, 0.6232148511831044, 0.6313085505491187, 0.6394022499151331, 0.6474959492811474, 0.6555896486471618, 0.6636833480131762, 0.6717770473791905, 0.6798707467452049, 0.6879644461112192, 0.6960581454772335, 0.7041518448432479, 0.7122455442092622, 0.7203392435752766, 0.7284329429412909, 0.7365266423073052, 0.7446203416733196, 0.7527140410393339, 0.7608077404053483, 0.7689014397713626, 0.7769951391373769, 0.7850888385033913, 0.7931825378694056, 0.80127623723542], \"y\": [0.0, 0.008093699366014343, 0.016187398732028686, 0.024281098098043033, 0.03237479746405739, 0.040468496830071726, 0.048562196196086066, 0.05665589556210043, 0.06474959492811477, 0.07284329429412909, 0.08093699366014342, 0.08903069302615779, 0.09712439239217213, 0.10521809175818647, 0.11331179112420081, 0.12140549049021515, 0.1294991898562295, 0.13759288922224383, 0.14568658858825817, 0.1537802879542725, 0.16187398732028685, 0.16996768668630122, 0.17806138605231556, 0.1861550854183299, 0.19424878478434424, 0.20234248415035858, 0.21043618351637292, 0.21852988288238726, 0.22662358224840162, 0.23471728161441596, 0.2428109809804303, 0.25090468034644464, 0.258998379712459, 0.2670920790784733, 0.27518577844448766, 0.283279477810502, 0.29137317717651634, 0.2994668765425307, 0.307560575908545, 0.31565427527455936, 0.3237479746405737, 0.3318416740065881, 0.33993537337260243, 0.3480290727386168, 0.3561227721046311, 0.36421647147064545, 0.3723101708366598, 0.38040387020267413, 0.38725491518158434, 0.37916121581557, 0.37106751644955566, 0.3629738170835413, 0.354880117717527, 0.34678641835151264, 0.3386927189854983, 0.33059901961948396, 0.32250532025346956, 0.3144116208874552, 0.3063179215214409, 0.29822422215542654, 0.2901305227894122, 0.28203682342339786, 0.2739431240573835, 0.2658494246913692, 0.25775572532535485, 0.2496620259593405, 0.24156832659332617, 0.23347462722731183, 0.2253809278612975, 0.21728722849528315, 0.2091935291292688, 0.20109982976325447, 0.19300613039724013, 0.1849124310312258, 0.17681873166521145, 0.1687250322991971, 0.16063133293318277, 0.15253763356716843, 0.1444439342011541, 0.13635023483513975, 0.1282565354691254, 0.12016283610311096, 0.11206913673709662, 0.10397543737108228, 0.09588173800506794, 0.0877880386390536, 0.07969433927303926, 0.07160063990702492, 0.06350694054101058, 0.05541324117499624, 0.0473195418089819, 0.03922584244296756, 0.031132143076953223, 0.023038443710938883, 0.014944744344924543, 0.0068510449789102035, 0.0, 0.0, 0.0, 0.0]}],\n",
       "                        {\"plot_bgcolor\": \"white\", \"template\": {\"data\": {\"bar\": [{\"error_x\": {\"color\": \"#2a3f5f\"}, \"error_y\": {\"color\": \"#2a3f5f\"}, \"marker\": {\"line\": {\"color\": \"#E5ECF6\", \"width\": 0.5}}, \"type\": \"bar\"}], \"barpolar\": [{\"marker\": {\"line\": {\"color\": \"#E5ECF6\", \"width\": 0.5}}, \"type\": \"barpolar\"}], \"carpet\": [{\"aaxis\": {\"endlinecolor\": \"#2a3f5f\", \"gridcolor\": \"white\", \"linecolor\": \"white\", \"minorgridcolor\": \"white\", \"startlinecolor\": \"#2a3f5f\"}, \"baxis\": {\"endlinecolor\": \"#2a3f5f\", \"gridcolor\": \"white\", \"linecolor\": \"white\", \"minorgridcolor\": \"white\", \"startlinecolor\": \"#2a3f5f\"}, \"type\": \"carpet\"}], \"choropleth\": [{\"colorbar\": {\"outlinewidth\": 0, \"ticks\": \"\"}, \"type\": \"choropleth\"}], \"contour\": [{\"colorbar\": {\"outlinewidth\": 0, \"ticks\": \"\"}, \"colorscale\": [[0.0, \"#0d0887\"], [0.1111111111111111, \"#46039f\"], [0.2222222222222222, \"#7201a8\"], [0.3333333333333333, \"#9c179e\"], [0.4444444444444444, \"#bd3786\"], [0.5555555555555556, \"#d8576b\"], [0.6666666666666666, \"#ed7953\"], [0.7777777777777778, \"#fb9f3a\"], [0.8888888888888888, \"#fdca26\"], [1.0, \"#f0f921\"]], \"type\": \"contour\"}], \"contourcarpet\": [{\"colorbar\": {\"outlinewidth\": 0, \"ticks\": \"\"}, \"type\": \"contourcarpet\"}], \"heatmap\": [{\"colorbar\": {\"outlinewidth\": 0, \"ticks\": \"\"}, \"colorscale\": [[0.0, \"#0d0887\"], [0.1111111111111111, \"#46039f\"], [0.2222222222222222, \"#7201a8\"], [0.3333333333333333, \"#9c179e\"], [0.4444444444444444, \"#bd3786\"], [0.5555555555555556, \"#d8576b\"], [0.6666666666666666, \"#ed7953\"], [0.7777777777777778, \"#fb9f3a\"], [0.8888888888888888, \"#fdca26\"], [1.0, \"#f0f921\"]], \"type\": \"heatmap\"}], \"heatmapgl\": [{\"colorbar\": {\"outlinewidth\": 0, \"ticks\": \"\"}, \"colorscale\": [[0.0, \"#0d0887\"], [0.1111111111111111, \"#46039f\"], [0.2222222222222222, \"#7201a8\"], [0.3333333333333333, \"#9c179e\"], [0.4444444444444444, \"#bd3786\"], [0.5555555555555556, \"#d8576b\"], [0.6666666666666666, \"#ed7953\"], [0.7777777777777778, \"#fb9f3a\"], [0.8888888888888888, \"#fdca26\"], [1.0, \"#f0f921\"]], \"type\": \"heatmapgl\"}], \"histogram\": [{\"marker\": {\"colorbar\": {\"outlinewidth\": 0, \"ticks\": \"\"}}, \"type\": \"histogram\"}], \"histogram2d\": [{\"colorbar\": {\"outlinewidth\": 0, \"ticks\": \"\"}, \"colorscale\": [[0.0, \"#0d0887\"], [0.1111111111111111, \"#46039f\"], [0.2222222222222222, \"#7201a8\"], [0.3333333333333333, \"#9c179e\"], [0.4444444444444444, \"#bd3786\"], [0.5555555555555556, \"#d8576b\"], [0.6666666666666666, \"#ed7953\"], [0.7777777777777778, \"#fb9f3a\"], [0.8888888888888888, \"#fdca26\"], [1.0, \"#f0f921\"]], \"type\": \"histogram2d\"}], \"histogram2dcontour\": [{\"colorbar\": {\"outlinewidth\": 0, \"ticks\": \"\"}, \"colorscale\": [[0.0, \"#0d0887\"], [0.1111111111111111, \"#46039f\"], [0.2222222222222222, \"#7201a8\"], [0.3333333333333333, \"#9c179e\"], [0.4444444444444444, \"#bd3786\"], [0.5555555555555556, \"#d8576b\"], [0.6666666666666666, \"#ed7953\"], [0.7777777777777778, \"#fb9f3a\"], [0.8888888888888888, \"#fdca26\"], [1.0, \"#f0f921\"]], \"type\": \"histogram2dcontour\"}], \"mesh3d\": [{\"colorbar\": {\"outlinewidth\": 0, \"ticks\": \"\"}, \"type\": \"mesh3d\"}], \"parcoords\": [{\"line\": {\"colorbar\": {\"outlinewidth\": 0, \"ticks\": \"\"}}, \"type\": \"parcoords\"}], \"pie\": [{\"automargin\": true, \"type\": \"pie\"}], \"scatter\": [{\"marker\": {\"colorbar\": {\"outlinewidth\": 0, \"ticks\": \"\"}}, \"type\": \"scatter\"}], \"scatter3d\": [{\"line\": {\"colorbar\": {\"outlinewidth\": 0, \"ticks\": \"\"}}, \"marker\": {\"colorbar\": {\"outlinewidth\": 0, \"ticks\": \"\"}}, \"type\": \"scatter3d\"}], \"scattercarpet\": [{\"marker\": {\"colorbar\": {\"outlinewidth\": 0, \"ticks\": \"\"}}, \"type\": \"scattercarpet\"}], \"scattergeo\": [{\"marker\": {\"colorbar\": {\"outlinewidth\": 0, \"ticks\": \"\"}}, \"type\": \"scattergeo\"}], \"scattergl\": [{\"marker\": {\"colorbar\": {\"outlinewidth\": 0, \"ticks\": \"\"}}, \"type\": \"scattergl\"}], \"scattermapbox\": [{\"marker\": {\"colorbar\": {\"outlinewidth\": 0, \"ticks\": \"\"}}, \"type\": \"scattermapbox\"}], \"scatterpolar\": [{\"marker\": {\"colorbar\": {\"outlinewidth\": 0, \"ticks\": \"\"}}, \"type\": \"scatterpolar\"}], \"scatterpolargl\": [{\"marker\": {\"colorbar\": {\"outlinewidth\": 0, \"ticks\": \"\"}}, \"type\": \"scatterpolargl\"}], \"scatterternary\": [{\"marker\": {\"colorbar\": {\"outlinewidth\": 0, \"ticks\": \"\"}}, \"type\": \"scatterternary\"}], \"surface\": [{\"colorbar\": {\"outlinewidth\": 0, \"ticks\": \"\"}, \"colorscale\": [[0.0, \"#0d0887\"], [0.1111111111111111, \"#46039f\"], [0.2222222222222222, \"#7201a8\"], [0.3333333333333333, \"#9c179e\"], [0.4444444444444444, \"#bd3786\"], [0.5555555555555556, \"#d8576b\"], [0.6666666666666666, \"#ed7953\"], [0.7777777777777778, \"#fb9f3a\"], [0.8888888888888888, \"#fdca26\"], [1.0, \"#f0f921\"]], \"type\": \"surface\"}], \"table\": [{\"cells\": {\"fill\": {\"color\": \"#EBF0F8\"}, \"line\": {\"color\": \"white\"}}, \"header\": {\"fill\": {\"color\": \"#C8D4E3\"}, \"line\": {\"color\": \"white\"}}, \"type\": \"table\"}]}, \"layout\": {\"annotationdefaults\": {\"arrowcolor\": \"#2a3f5f\", \"arrowhead\": 0, \"arrowwidth\": 1}, \"coloraxis\": {\"colorbar\": {\"outlinewidth\": 0, \"ticks\": \"\"}}, \"colorscale\": {\"diverging\": [[0, \"#8e0152\"], [0.1, \"#c51b7d\"], [0.2, \"#de77ae\"], [0.3, \"#f1b6da\"], [0.4, \"#fde0ef\"], [0.5, \"#f7f7f7\"], [0.6, \"#e6f5d0\"], [0.7, \"#b8e186\"], [0.8, \"#7fbc41\"], [0.9, \"#4d9221\"], [1, \"#276419\"]], \"sequential\": [[0.0, \"#0d0887\"], [0.1111111111111111, \"#46039f\"], [0.2222222222222222, \"#7201a8\"], [0.3333333333333333, \"#9c179e\"], [0.4444444444444444, \"#bd3786\"], [0.5555555555555556, \"#d8576b\"], [0.6666666666666666, \"#ed7953\"], [0.7777777777777778, \"#fb9f3a\"], [0.8888888888888888, \"#fdca26\"], [1.0, \"#f0f921\"]], \"sequentialminus\": [[0.0, \"#0d0887\"], [0.1111111111111111, \"#46039f\"], [0.2222222222222222, \"#7201a8\"], [0.3333333333333333, \"#9c179e\"], [0.4444444444444444, \"#bd3786\"], [0.5555555555555556, \"#d8576b\"], [0.6666666666666666, \"#ed7953\"], [0.7777777777777778, \"#fb9f3a\"], [0.8888888888888888, \"#fdca26\"], [1.0, \"#f0f921\"]]}, \"colorway\": [\"#636efa\", \"#EF553B\", \"#00cc96\", \"#ab63fa\", \"#FFA15A\", \"#19d3f3\", \"#FF6692\", \"#B6E880\", \"#FF97FF\", \"#FECB52\"], \"font\": {\"color\": \"#2a3f5f\"}, \"geo\": {\"bgcolor\": \"white\", \"lakecolor\": \"white\", \"landcolor\": \"#E5ECF6\", \"showlakes\": true, \"showland\": true, \"subunitcolor\": \"white\"}, \"hoverlabel\": {\"align\": \"left\"}, \"hovermode\": \"closest\", \"mapbox\": {\"style\": \"light\"}, \"paper_bgcolor\": \"white\", \"plot_bgcolor\": \"#E5ECF6\", \"polar\": {\"angularaxis\": {\"gridcolor\": \"white\", \"linecolor\": \"white\", \"ticks\": \"\"}, \"bgcolor\": \"#E5ECF6\", \"radialaxis\": {\"gridcolor\": \"white\", \"linecolor\": \"white\", \"ticks\": \"\"}}, \"scene\": {\"xaxis\": {\"backgroundcolor\": \"#E5ECF6\", \"gridcolor\": \"white\", \"gridwidth\": 2, \"linecolor\": \"white\", \"showbackground\": true, \"ticks\": \"\", \"zerolinecolor\": \"white\"}, \"yaxis\": {\"backgroundcolor\": \"#E5ECF6\", \"gridcolor\": \"white\", \"gridwidth\": 2, \"linecolor\": \"white\", \"showbackground\": true, \"ticks\": \"\", \"zerolinecolor\": \"white\"}, \"zaxis\": {\"backgroundcolor\": \"#E5ECF6\", \"gridcolor\": \"white\", \"gridwidth\": 2, \"linecolor\": \"white\", \"showbackground\": true, \"ticks\": \"\", \"zerolinecolor\": \"white\"}}, \"shapedefaults\": {\"line\": {\"color\": \"#2a3f5f\"}}, \"ternary\": {\"aaxis\": {\"gridcolor\": \"white\", \"linecolor\": \"white\", \"ticks\": \"\"}, \"baxis\": {\"gridcolor\": \"white\", \"linecolor\": \"white\", \"ticks\": \"\"}, \"bgcolor\": \"#E5ECF6\", \"caxis\": {\"gridcolor\": \"white\", \"linecolor\": \"white\", \"ticks\": \"\"}}, \"title\": {\"x\": 0.05}, \"xaxis\": {\"automargin\": true, \"gridcolor\": \"white\", \"linecolor\": \"white\", \"ticks\": \"\", \"title\": {\"standoff\": 15}, \"zerolinecolor\": \"white\", \"zerolinewidth\": 2}, \"yaxis\": {\"automargin\": true, \"gridcolor\": \"white\", \"linecolor\": \"white\", \"ticks\": \"\", \"title\": {\"standoff\": 15}, \"zerolinecolor\": \"white\", \"zerolinewidth\": 2}}}, \"title\": {\"text\": \"Persistence landscape for homology dimension 0\"}, \"xaxis\": {\"anchor\": \"y\", \"exponentformat\": \"e\", \"linecolor\": \"black\", \"linewidth\": 1, \"mirror\": false, \"showexponent\": \"all\", \"showline\": true, \"side\": \"bottom\", \"ticks\": \"outside\", \"type\": \"linear\", \"zeroline\": true}, \"yaxis\": {\"anchor\": \"x\", \"exponentformat\": \"e\", \"linecolor\": \"black\", \"linewidth\": 1, \"mirror\": false, \"showexponent\": \"all\", \"showline\": true, \"side\": \"left\", \"ticks\": \"outside\", \"type\": \"linear\", \"zeroline\": true}},\n",
       "                        {\"responsive\": true}\n",
       "                    ).then(function(){\n",
       "                            \n",
       "var gd = document.getElementById('e3844b6d-461a-48a9-9c74-e197501713ae');\n",
       "var x = new MutationObserver(function (mutations, observer) {{\n",
       "        var display = window.getComputedStyle(gd).display;\n",
       "        if (!display || display === 'none') {{\n",
       "            console.log([gd, 'removed!']);\n",
       "            Plotly.purge(gd);\n",
       "            observer.disconnect();\n",
       "        }}\n",
       "}});\n",
       "\n",
       "// Listen for the removal of the full notebook cells\n",
       "var notebookContainer = gd.closest('#notebook-container');\n",
       "if (notebookContainer) {{\n",
       "    x.observe(notebookContainer, {childList: true});\n",
       "}}\n",
       "\n",
       "// Listen for the clearing of the current output cell\n",
       "var outputEl = gd.closest('.output');\n",
       "if (outputEl) {{\n",
       "    x.observe(outputEl, {childList: true});\n",
       "}}\n",
       "\n",
       "                        })\n",
       "                };\n",
       "                });\n",
       "            </script>\n",
       "        </div>"
      ]
     },
     "metadata": {},
     "output_type": "display_data"
    },
    {
     "data": {
      "application/vnd.plotly.v1+json": {
       "config": {
        "plotlyServerURL": "https://plot.ly"
       },
       "data": [
        {
         "hoverinfo": "none",
         "mode": "lines",
         "name": "Layer 1",
         "showlegend": true,
         "type": "scatter",
         "x": [
          0.0018075032536240705,
          0.030644273776202876,
          0.05948104429878168,
          0.08831781482136049,
          0.11715458534393929,
          0.1459913558665181,
          0.17482812638909692,
          0.20366489691167572,
          0.23250166743425452,
          0.2613384379568333,
          0.2901752084794121,
          0.3190119790019909,
          0.34784874952456973,
          0.3766855200471485,
          0.40552229056972733,
          0.4343590610923061,
          0.4631958316148849,
          0.49203260213746375,
          0.5208693726600426,
          0.5497061431826213,
          0.5785429137052002,
          0.607379684227779,
          0.6362164547503578,
          0.6650532252729366,
          0.6938899957955155,
          0.7227267663180942,
          0.751563536840673,
          0.7804003073632518,
          0.8092370778858307,
          0.8380738484084095,
          0.8669106189309882,
          0.895747389453567,
          0.9245841599761458,
          0.9534209304987247,
          0.9822577010213035,
          1.011094471543882,
          1.039931242066461,
          1.0687680125890398,
          1.0976047831116185,
          1.1264415536341974,
          1.1552783241567761,
          1.184115094679355,
          1.2129518652019338,
          1.2417886357245125,
          1.2706254062470914,
          1.2994621767696701,
          1.328298947292249,
          1.3571357178148278,
          1.3859724883374067,
          1.4148092588599854,
          1.4436460293825641,
          1.472482799905143,
          1.5013195704277218,
          1.5301563409503007,
          1.5589931114728794,
          1.5878298819954582,
          1.616666652518037,
          1.6455034230406158,
          1.6743401935631947,
          1.7031769640857735,
          1.7320137346083522,
          1.760850505130931,
          1.7896872756535098,
          1.8185240461760888,
          1.8473608166986675,
          1.8761975872212462,
          1.9050343577438251,
          1.9338711282664038,
          1.9627078987889828,
          1.9915446693115615,
          2.02038143983414,
          2.049218210356719,
          2.078054980879298,
          2.106891751401877,
          2.1357285219244555,
          2.164565292447034,
          2.193402062969613,
          2.222238833492192,
          2.251075604014771,
          2.2799123745373495,
          2.3087491450599282,
          2.337585915582507,
          2.366422686105086,
          2.395259456627665,
          2.4240962271502435,
          2.4529329976728222,
          2.481769768195401,
          2.51060653871798,
          2.539443309240559,
          2.5682800797631375,
          2.5971168502857163,
          2.625953620808295,
          2.654790391330874,
          2.683627161853453,
          2.7124639323760316,
          2.7413007028986103,
          2.7701374734211894,
          2.798974243943768,
          2.827811014466347,
          2.8566477849889256
         ],
         "y": [
          1.0842021724855044e-19,
          0.0009042293541457209,
          0,
          0,
          0,
          0,
          0,
          0,
          0,
          0,
          0,
          0,
          0,
          0,
          0,
          0,
          0,
          0,
          0,
          0,
          0,
          0,
          0,
          0,
          0,
          0,
          0,
          0,
          0,
          0,
          0.010262833942062621,
          0.039099604464641446,
          0.06793637498722027,
          0.0967731455097991,
          0.12560991603237792,
          0.15444668655495652,
          0.18328345707753546,
          0.21212022760011418,
          0.2409569981226929,
          0.2697937686452718,
          0.29863053916785054,
          0.3274673096904295,
          0.3563040802130082,
          0.3851408507355869,
          0.41397762125816584,
          0.44281439178074455,
          0.4716511623033235,
          0.5004879328259022,
          0.5293247033484811,
          0.5581614738710599,
          0.5869982443936386,
          0.6158350149162175,
          0.6446717854387962,
          0.6735085559613752,
          0.7023453264839539,
          0.7311820970065326,
          0.7600188675291115,
          0.7888556380516902,
          0.8176924085742692,
          0.8465291790968479,
          0.8753659496194266,
          0.9042027201420055,
          0.9330394906645842,
          0.9618762611871632,
          0.9907130317097419,
          0.9804501977676794,
          0.9516134272451005,
          0.9227766567225217,
          0.8939398861999428,
          0.8651031156773641,
          0.8362663451547854,
          0.8074295746322067,
          0.7785928041096275,
          0.7497560335870488,
          0.7209192630644701,
          0.6920824925418914,
          0.6632457220193126,
          0.6344089514967335,
          0.6055721809741548,
          0.5767354104515761,
          0.5478986399289973,
          0.5190618694064186,
          0.49022509888383947,
          0.46138832836126076,
          0.43255155783868204,
          0.40371478731610333,
          0.3748780167935246,
          0.34604124627094546,
          0.31720447574836674,
          0.28836770522578803,
          0.2595309347032093,
          0.2306941641806306,
          0.20185739365805144,
          0.17302062313547273,
          0.14418385261289401,
          0.1153470820903153,
          0.08651031156773614,
          0.05767354104515743,
          0.028836770522578714,
          0
         ]
        },
        {
         "hoverinfo": "none",
         "mode": "lines",
         "name": "Layer 2",
         "showlegend": true,
         "type": "scatter",
         "x": [
          0.0018075032536240705,
          0.030644273776202876,
          0.05948104429878168,
          0.08831781482136049,
          0.11715458534393929,
          0.1459913558665181,
          0.17482812638909692,
          0.20366489691167572,
          0.23250166743425452,
          0.2613384379568333,
          0.2901752084794121,
          0.3190119790019909,
          0.34784874952456973,
          0.3766855200471485,
          0.40552229056972733,
          0.4343590610923061,
          0.4631958316148849,
          0.49203260213746375,
          0.5208693726600426,
          0.5497061431826213,
          0.5785429137052002,
          0.607379684227779,
          0.6362164547503578,
          0.6650532252729366,
          0.6938899957955155,
          0.7227267663180942,
          0.751563536840673,
          0.7804003073632518,
          0.8092370778858307,
          0.8380738484084095,
          0.8669106189309882,
          0.895747389453567,
          0.9245841599761458,
          0.9534209304987247,
          0.9822577010213035,
          1.011094471543882,
          1.039931242066461,
          1.0687680125890398,
          1.0976047831116185,
          1.1264415536341974,
          1.1552783241567761,
          1.184115094679355,
          1.2129518652019338,
          1.2417886357245125,
          1.2706254062470914,
          1.2994621767696701,
          1.328298947292249,
          1.3571357178148278,
          1.3859724883374067,
          1.4148092588599854,
          1.4436460293825641,
          1.472482799905143,
          1.5013195704277218,
          1.5301563409503007,
          1.5589931114728794,
          1.5878298819954582,
          1.616666652518037,
          1.6455034230406158,
          1.6743401935631947,
          1.7031769640857735,
          1.7320137346083522,
          1.760850505130931,
          1.7896872756535098,
          1.8185240461760888,
          1.8473608166986675,
          1.8761975872212462,
          1.9050343577438251,
          1.9338711282664038,
          1.9627078987889828,
          1.9915446693115615,
          2.02038143983414,
          2.049218210356719,
          2.078054980879298,
          2.106891751401877,
          2.1357285219244555,
          2.164565292447034,
          2.193402062969613,
          2.222238833492192,
          2.251075604014771,
          2.2799123745373495,
          2.3087491450599282,
          2.337585915582507,
          2.366422686105086,
          2.395259456627665,
          2.4240962271502435,
          2.4529329976728222,
          2.481769768195401,
          2.51060653871798,
          2.539443309240559,
          2.5682800797631375,
          2.5971168502857163,
          2.625953620808295,
          2.654790391330874,
          2.683627161853453,
          2.7124639323760316,
          2.7413007028986103,
          2.7701374734211894,
          2.798974243943768,
          2.827811014466347,
          2.8566477849889256
         ],
         "y": [
          0,
          0.00014249589404321042,
          0,
          0,
          0,
          0,
          0,
          0,
          0,
          0,
          0,
          0,
          0,
          0,
          0,
          0,
          0,
          0,
          0,
          0,
          0,
          0,
          0,
          0,
          0,
          0,
          0,
          0,
          0,
          0,
          0,
          0,
          0,
          0,
          0,
          0,
          0,
          0,
          0,
          0,
          0,
          0,
          0,
          0,
          0,
          0,
          0,
          0,
          0,
          0,
          0,
          0,
          0,
          0,
          0,
          0,
          0,
          0,
          0,
          0,
          0,
          0,
          0,
          0,
          0,
          0,
          0,
          0,
          0,
          0,
          0,
          0,
          0,
          0,
          0,
          0,
          0,
          0,
          0,
          0,
          0,
          0,
          0,
          0,
          0,
          0.005233597924893196,
          0.03407036844747191,
          0.06290713897005107,
          0.03428220231750245,
          0.0054454317949237385,
          0,
          0,
          0,
          0,
          0,
          0,
          0,
          0,
          0,
          0
         ]
        }
       ],
       "layout": {
        "plot_bgcolor": "white",
        "template": {
         "data": {
          "bar": [
           {
            "error_x": {
             "color": "#2a3f5f"
            },
            "error_y": {
             "color": "#2a3f5f"
            },
            "marker": {
             "line": {
              "color": "#E5ECF6",
              "width": 0.5
             }
            },
            "type": "bar"
           }
          ],
          "barpolar": [
           {
            "marker": {
             "line": {
              "color": "#E5ECF6",
              "width": 0.5
             }
            },
            "type": "barpolar"
           }
          ],
          "carpet": [
           {
            "aaxis": {
             "endlinecolor": "#2a3f5f",
             "gridcolor": "white",
             "linecolor": "white",
             "minorgridcolor": "white",
             "startlinecolor": "#2a3f5f"
            },
            "baxis": {
             "endlinecolor": "#2a3f5f",
             "gridcolor": "white",
             "linecolor": "white",
             "minorgridcolor": "white",
             "startlinecolor": "#2a3f5f"
            },
            "type": "carpet"
           }
          ],
          "choropleth": [
           {
            "colorbar": {
             "outlinewidth": 0,
             "ticks": ""
            },
            "type": "choropleth"
           }
          ],
          "contour": [
           {
            "colorbar": {
             "outlinewidth": 0,
             "ticks": ""
            },
            "colorscale": [
             [
              0,
              "#0d0887"
             ],
             [
              0.1111111111111111,
              "#46039f"
             ],
             [
              0.2222222222222222,
              "#7201a8"
             ],
             [
              0.3333333333333333,
              "#9c179e"
             ],
             [
              0.4444444444444444,
              "#bd3786"
             ],
             [
              0.5555555555555556,
              "#d8576b"
             ],
             [
              0.6666666666666666,
              "#ed7953"
             ],
             [
              0.7777777777777778,
              "#fb9f3a"
             ],
             [
              0.8888888888888888,
              "#fdca26"
             ],
             [
              1,
              "#f0f921"
             ]
            ],
            "type": "contour"
           }
          ],
          "contourcarpet": [
           {
            "colorbar": {
             "outlinewidth": 0,
             "ticks": ""
            },
            "type": "contourcarpet"
           }
          ],
          "heatmap": [
           {
            "colorbar": {
             "outlinewidth": 0,
             "ticks": ""
            },
            "colorscale": [
             [
              0,
              "#0d0887"
             ],
             [
              0.1111111111111111,
              "#46039f"
             ],
             [
              0.2222222222222222,
              "#7201a8"
             ],
             [
              0.3333333333333333,
              "#9c179e"
             ],
             [
              0.4444444444444444,
              "#bd3786"
             ],
             [
              0.5555555555555556,
              "#d8576b"
             ],
             [
              0.6666666666666666,
              "#ed7953"
             ],
             [
              0.7777777777777778,
              "#fb9f3a"
             ],
             [
              0.8888888888888888,
              "#fdca26"
             ],
             [
              1,
              "#f0f921"
             ]
            ],
            "type": "heatmap"
           }
          ],
          "heatmapgl": [
           {
            "colorbar": {
             "outlinewidth": 0,
             "ticks": ""
            },
            "colorscale": [
             [
              0,
              "#0d0887"
             ],
             [
              0.1111111111111111,
              "#46039f"
             ],
             [
              0.2222222222222222,
              "#7201a8"
             ],
             [
              0.3333333333333333,
              "#9c179e"
             ],
             [
              0.4444444444444444,
              "#bd3786"
             ],
             [
              0.5555555555555556,
              "#d8576b"
             ],
             [
              0.6666666666666666,
              "#ed7953"
             ],
             [
              0.7777777777777778,
              "#fb9f3a"
             ],
             [
              0.8888888888888888,
              "#fdca26"
             ],
             [
              1,
              "#f0f921"
             ]
            ],
            "type": "heatmapgl"
           }
          ],
          "histogram": [
           {
            "marker": {
             "colorbar": {
              "outlinewidth": 0,
              "ticks": ""
             }
            },
            "type": "histogram"
           }
          ],
          "histogram2d": [
           {
            "colorbar": {
             "outlinewidth": 0,
             "ticks": ""
            },
            "colorscale": [
             [
              0,
              "#0d0887"
             ],
             [
              0.1111111111111111,
              "#46039f"
             ],
             [
              0.2222222222222222,
              "#7201a8"
             ],
             [
              0.3333333333333333,
              "#9c179e"
             ],
             [
              0.4444444444444444,
              "#bd3786"
             ],
             [
              0.5555555555555556,
              "#d8576b"
             ],
             [
              0.6666666666666666,
              "#ed7953"
             ],
             [
              0.7777777777777778,
              "#fb9f3a"
             ],
             [
              0.8888888888888888,
              "#fdca26"
             ],
             [
              1,
              "#f0f921"
             ]
            ],
            "type": "histogram2d"
           }
          ],
          "histogram2dcontour": [
           {
            "colorbar": {
             "outlinewidth": 0,
             "ticks": ""
            },
            "colorscale": [
             [
              0,
              "#0d0887"
             ],
             [
              0.1111111111111111,
              "#46039f"
             ],
             [
              0.2222222222222222,
              "#7201a8"
             ],
             [
              0.3333333333333333,
              "#9c179e"
             ],
             [
              0.4444444444444444,
              "#bd3786"
             ],
             [
              0.5555555555555556,
              "#d8576b"
             ],
             [
              0.6666666666666666,
              "#ed7953"
             ],
             [
              0.7777777777777778,
              "#fb9f3a"
             ],
             [
              0.8888888888888888,
              "#fdca26"
             ],
             [
              1,
              "#f0f921"
             ]
            ],
            "type": "histogram2dcontour"
           }
          ],
          "mesh3d": [
           {
            "colorbar": {
             "outlinewidth": 0,
             "ticks": ""
            },
            "type": "mesh3d"
           }
          ],
          "parcoords": [
           {
            "line": {
             "colorbar": {
              "outlinewidth": 0,
              "ticks": ""
             }
            },
            "type": "parcoords"
           }
          ],
          "pie": [
           {
            "automargin": true,
            "type": "pie"
           }
          ],
          "scatter": [
           {
            "marker": {
             "colorbar": {
              "outlinewidth": 0,
              "ticks": ""
             }
            },
            "type": "scatter"
           }
          ],
          "scatter3d": [
           {
            "line": {
             "colorbar": {
              "outlinewidth": 0,
              "ticks": ""
             }
            },
            "marker": {
             "colorbar": {
              "outlinewidth": 0,
              "ticks": ""
             }
            },
            "type": "scatter3d"
           }
          ],
          "scattercarpet": [
           {
            "marker": {
             "colorbar": {
              "outlinewidth": 0,
              "ticks": ""
             }
            },
            "type": "scattercarpet"
           }
          ],
          "scattergeo": [
           {
            "marker": {
             "colorbar": {
              "outlinewidth": 0,
              "ticks": ""
             }
            },
            "type": "scattergeo"
           }
          ],
          "scattergl": [
           {
            "marker": {
             "colorbar": {
              "outlinewidth": 0,
              "ticks": ""
             }
            },
            "type": "scattergl"
           }
          ],
          "scattermapbox": [
           {
            "marker": {
             "colorbar": {
              "outlinewidth": 0,
              "ticks": ""
             }
            },
            "type": "scattermapbox"
           }
          ],
          "scatterpolar": [
           {
            "marker": {
             "colorbar": {
              "outlinewidth": 0,
              "ticks": ""
             }
            },
            "type": "scatterpolar"
           }
          ],
          "scatterpolargl": [
           {
            "marker": {
             "colorbar": {
              "outlinewidth": 0,
              "ticks": ""
             }
            },
            "type": "scatterpolargl"
           }
          ],
          "scatterternary": [
           {
            "marker": {
             "colorbar": {
              "outlinewidth": 0,
              "ticks": ""
             }
            },
            "type": "scatterternary"
           }
          ],
          "surface": [
           {
            "colorbar": {
             "outlinewidth": 0,
             "ticks": ""
            },
            "colorscale": [
             [
              0,
              "#0d0887"
             ],
             [
              0.1111111111111111,
              "#46039f"
             ],
             [
              0.2222222222222222,
              "#7201a8"
             ],
             [
              0.3333333333333333,
              "#9c179e"
             ],
             [
              0.4444444444444444,
              "#bd3786"
             ],
             [
              0.5555555555555556,
              "#d8576b"
             ],
             [
              0.6666666666666666,
              "#ed7953"
             ],
             [
              0.7777777777777778,
              "#fb9f3a"
             ],
             [
              0.8888888888888888,
              "#fdca26"
             ],
             [
              1,
              "#f0f921"
             ]
            ],
            "type": "surface"
           }
          ],
          "table": [
           {
            "cells": {
             "fill": {
              "color": "#EBF0F8"
             },
             "line": {
              "color": "white"
             }
            },
            "header": {
             "fill": {
              "color": "#C8D4E3"
             },
             "line": {
              "color": "white"
             }
            },
            "type": "table"
           }
          ]
         },
         "layout": {
          "annotationdefaults": {
           "arrowcolor": "#2a3f5f",
           "arrowhead": 0,
           "arrowwidth": 1
          },
          "coloraxis": {
           "colorbar": {
            "outlinewidth": 0,
            "ticks": ""
           }
          },
          "colorscale": {
           "diverging": [
            [
             0,
             "#8e0152"
            ],
            [
             0.1,
             "#c51b7d"
            ],
            [
             0.2,
             "#de77ae"
            ],
            [
             0.3,
             "#f1b6da"
            ],
            [
             0.4,
             "#fde0ef"
            ],
            [
             0.5,
             "#f7f7f7"
            ],
            [
             0.6,
             "#e6f5d0"
            ],
            [
             0.7,
             "#b8e186"
            ],
            [
             0.8,
             "#7fbc41"
            ],
            [
             0.9,
             "#4d9221"
            ],
            [
             1,
             "#276419"
            ]
           ],
           "sequential": [
            [
             0,
             "#0d0887"
            ],
            [
             0.1111111111111111,
             "#46039f"
            ],
            [
             0.2222222222222222,
             "#7201a8"
            ],
            [
             0.3333333333333333,
             "#9c179e"
            ],
            [
             0.4444444444444444,
             "#bd3786"
            ],
            [
             0.5555555555555556,
             "#d8576b"
            ],
            [
             0.6666666666666666,
             "#ed7953"
            ],
            [
             0.7777777777777778,
             "#fb9f3a"
            ],
            [
             0.8888888888888888,
             "#fdca26"
            ],
            [
             1,
             "#f0f921"
            ]
           ],
           "sequentialminus": [
            [
             0,
             "#0d0887"
            ],
            [
             0.1111111111111111,
             "#46039f"
            ],
            [
             0.2222222222222222,
             "#7201a8"
            ],
            [
             0.3333333333333333,
             "#9c179e"
            ],
            [
             0.4444444444444444,
             "#bd3786"
            ],
            [
             0.5555555555555556,
             "#d8576b"
            ],
            [
             0.6666666666666666,
             "#ed7953"
            ],
            [
             0.7777777777777778,
             "#fb9f3a"
            ],
            [
             0.8888888888888888,
             "#fdca26"
            ],
            [
             1,
             "#f0f921"
            ]
           ]
          },
          "colorway": [
           "#636efa",
           "#EF553B",
           "#00cc96",
           "#ab63fa",
           "#FFA15A",
           "#19d3f3",
           "#FF6692",
           "#B6E880",
           "#FF97FF",
           "#FECB52"
          ],
          "font": {
           "color": "#2a3f5f"
          },
          "geo": {
           "bgcolor": "white",
           "lakecolor": "white",
           "landcolor": "#E5ECF6",
           "showlakes": true,
           "showland": true,
           "subunitcolor": "white"
          },
          "hoverlabel": {
           "align": "left"
          },
          "hovermode": "closest",
          "mapbox": {
           "style": "light"
          },
          "paper_bgcolor": "white",
          "plot_bgcolor": "#E5ECF6",
          "polar": {
           "angularaxis": {
            "gridcolor": "white",
            "linecolor": "white",
            "ticks": ""
           },
           "bgcolor": "#E5ECF6",
           "radialaxis": {
            "gridcolor": "white",
            "linecolor": "white",
            "ticks": ""
           }
          },
          "scene": {
           "xaxis": {
            "backgroundcolor": "#E5ECF6",
            "gridcolor": "white",
            "gridwidth": 2,
            "linecolor": "white",
            "showbackground": true,
            "ticks": "",
            "zerolinecolor": "white"
           },
           "yaxis": {
            "backgroundcolor": "#E5ECF6",
            "gridcolor": "white",
            "gridwidth": 2,
            "linecolor": "white",
            "showbackground": true,
            "ticks": "",
            "zerolinecolor": "white"
           },
           "zaxis": {
            "backgroundcolor": "#E5ECF6",
            "gridcolor": "white",
            "gridwidth": 2,
            "linecolor": "white",
            "showbackground": true,
            "ticks": "",
            "zerolinecolor": "white"
           }
          },
          "shapedefaults": {
           "line": {
            "color": "#2a3f5f"
           }
          },
          "ternary": {
           "aaxis": {
            "gridcolor": "white",
            "linecolor": "white",
            "ticks": ""
           },
           "baxis": {
            "gridcolor": "white",
            "linecolor": "white",
            "ticks": ""
           },
           "bgcolor": "#E5ECF6",
           "caxis": {
            "gridcolor": "white",
            "linecolor": "white",
            "ticks": ""
           }
          },
          "title": {
           "x": 0.05
          },
          "xaxis": {
           "automargin": true,
           "gridcolor": "white",
           "linecolor": "white",
           "ticks": "",
           "title": {
            "standoff": 15
           },
           "zerolinecolor": "white",
           "zerolinewidth": 2
          },
          "yaxis": {
           "automargin": true,
           "gridcolor": "white",
           "linecolor": "white",
           "ticks": "",
           "title": {
            "standoff": 15
           },
           "zerolinecolor": "white",
           "zerolinewidth": 2
          }
         }
        },
        "title": {
         "text": "Persistence landscape for homology dimension 1"
        },
        "xaxis": {
         "anchor": "y",
         "exponentformat": "e",
         "linecolor": "black",
         "linewidth": 1,
         "mirror": false,
         "showexponent": "all",
         "showline": true,
         "side": "bottom",
         "ticks": "outside",
         "type": "linear",
         "zeroline": true
        },
        "yaxis": {
         "anchor": "x",
         "exponentformat": "e",
         "linecolor": "black",
         "linewidth": 1,
         "mirror": false,
         "showexponent": "all",
         "showline": true,
         "side": "left",
         "ticks": "outside",
         "type": "linear",
         "zeroline": true
        }
       }
      },
      "text/html": [
       "<div>\n",
       "        \n",
       "        \n",
       "            <div id=\"6a4d86f4-50fb-4193-9b04-8dcef6db827d\" class=\"plotly-graph-div\" style=\"height:525px; width:100%;\"></div>\n",
       "            <script type=\"text/javascript\">\n",
       "                require([\"plotly\"], function(Plotly) {\n",
       "                    window.PLOTLYENV=window.PLOTLYENV || {};\n",
       "                    \n",
       "                if (document.getElementById(\"6a4d86f4-50fb-4193-9b04-8dcef6db827d\")) {\n",
       "                    Plotly.newPlot(\n",
       "                        '6a4d86f4-50fb-4193-9b04-8dcef6db827d',\n",
       "                        [{\"hoverinfo\": \"none\", \"mode\": \"lines\", \"name\": \"Layer 1\", \"showlegend\": true, \"type\": \"scatter\", \"x\": [0.0018075032536240705, 0.030644273776202876, 0.05948104429878168, 0.08831781482136049, 0.11715458534393929, 0.1459913558665181, 0.17482812638909692, 0.20366489691167572, 0.23250166743425452, 0.2613384379568333, 0.2901752084794121, 0.3190119790019909, 0.34784874952456973, 0.3766855200471485, 0.40552229056972733, 0.4343590610923061, 0.4631958316148849, 0.49203260213746375, 0.5208693726600426, 0.5497061431826213, 0.5785429137052002, 0.607379684227779, 0.6362164547503578, 0.6650532252729366, 0.6938899957955155, 0.7227267663180942, 0.751563536840673, 0.7804003073632518, 0.8092370778858307, 0.8380738484084095, 0.8669106189309882, 0.895747389453567, 0.9245841599761458, 0.9534209304987247, 0.9822577010213035, 1.011094471543882, 1.039931242066461, 1.0687680125890398, 1.0976047831116185, 1.1264415536341974, 1.1552783241567761, 1.184115094679355, 1.2129518652019338, 1.2417886357245125, 1.2706254062470914, 1.2994621767696701, 1.328298947292249, 1.3571357178148278, 1.3859724883374067, 1.4148092588599854, 1.4436460293825641, 1.472482799905143, 1.5013195704277218, 1.5301563409503007, 1.5589931114728794, 1.5878298819954582, 1.616666652518037, 1.6455034230406158, 1.6743401935631947, 1.7031769640857735, 1.7320137346083522, 1.760850505130931, 1.7896872756535098, 1.8185240461760888, 1.8473608166986675, 1.8761975872212462, 1.9050343577438251, 1.9338711282664038, 1.9627078987889828, 1.9915446693115615, 2.02038143983414, 2.049218210356719, 2.078054980879298, 2.106891751401877, 2.1357285219244555, 2.164565292447034, 2.193402062969613, 2.222238833492192, 2.251075604014771, 2.2799123745373495, 2.3087491450599282, 2.337585915582507, 2.366422686105086, 2.395259456627665, 2.4240962271502435, 2.4529329976728222, 2.481769768195401, 2.51060653871798, 2.539443309240559, 2.5682800797631375, 2.5971168502857163, 2.625953620808295, 2.654790391330874, 2.683627161853453, 2.7124639323760316, 2.7413007028986103, 2.7701374734211894, 2.798974243943768, 2.827811014466347, 2.8566477849889256], \"y\": [1.0842021724855044e-19, 0.0009042293541457209, 0.0, 0.0, 0.0, 0.0, 0.0, 0.0, 0.0, 0.0, 0.0, 0.0, 0.0, 0.0, 0.0, 0.0, 0.0, 0.0, 0.0, 0.0, 0.0, 0.0, 0.0, 0.0, 0.0, 0.0, 0.0, 0.0, 0.0, 0.0, 0.010262833942062621, 0.039099604464641446, 0.06793637498722027, 0.0967731455097991, 0.12560991603237792, 0.15444668655495652, 0.18328345707753546, 0.21212022760011418, 0.2409569981226929, 0.2697937686452718, 0.29863053916785054, 0.3274673096904295, 0.3563040802130082, 0.3851408507355869, 0.41397762125816584, 0.44281439178074455, 0.4716511623033235, 0.5004879328259022, 0.5293247033484811, 0.5581614738710599, 0.5869982443936386, 0.6158350149162175, 0.6446717854387962, 0.6735085559613752, 0.7023453264839539, 0.7311820970065326, 0.7600188675291115, 0.7888556380516902, 0.8176924085742692, 0.8465291790968479, 0.8753659496194266, 0.9042027201420055, 0.9330394906645842, 0.9618762611871632, 0.9907130317097419, 0.9804501977676794, 0.9516134272451005, 0.9227766567225217, 0.8939398861999428, 0.8651031156773641, 0.8362663451547854, 0.8074295746322067, 0.7785928041096275, 0.7497560335870488, 0.7209192630644701, 0.6920824925418914, 0.6632457220193126, 0.6344089514967335, 0.6055721809741548, 0.5767354104515761, 0.5478986399289973, 0.5190618694064186, 0.49022509888383947, 0.46138832836126076, 0.43255155783868204, 0.40371478731610333, 0.3748780167935246, 0.34604124627094546, 0.31720447574836674, 0.28836770522578803, 0.2595309347032093, 0.2306941641806306, 0.20185739365805144, 0.17302062313547273, 0.14418385261289401, 0.1153470820903153, 0.08651031156773614, 0.05767354104515743, 0.028836770522578714, 0.0]}, {\"hoverinfo\": \"none\", \"mode\": \"lines\", \"name\": \"Layer 2\", \"showlegend\": true, \"type\": \"scatter\", \"x\": [0.0018075032536240705, 0.030644273776202876, 0.05948104429878168, 0.08831781482136049, 0.11715458534393929, 0.1459913558665181, 0.17482812638909692, 0.20366489691167572, 0.23250166743425452, 0.2613384379568333, 0.2901752084794121, 0.3190119790019909, 0.34784874952456973, 0.3766855200471485, 0.40552229056972733, 0.4343590610923061, 0.4631958316148849, 0.49203260213746375, 0.5208693726600426, 0.5497061431826213, 0.5785429137052002, 0.607379684227779, 0.6362164547503578, 0.6650532252729366, 0.6938899957955155, 0.7227267663180942, 0.751563536840673, 0.7804003073632518, 0.8092370778858307, 0.8380738484084095, 0.8669106189309882, 0.895747389453567, 0.9245841599761458, 0.9534209304987247, 0.9822577010213035, 1.011094471543882, 1.039931242066461, 1.0687680125890398, 1.0976047831116185, 1.1264415536341974, 1.1552783241567761, 1.184115094679355, 1.2129518652019338, 1.2417886357245125, 1.2706254062470914, 1.2994621767696701, 1.328298947292249, 1.3571357178148278, 1.3859724883374067, 1.4148092588599854, 1.4436460293825641, 1.472482799905143, 1.5013195704277218, 1.5301563409503007, 1.5589931114728794, 1.5878298819954582, 1.616666652518037, 1.6455034230406158, 1.6743401935631947, 1.7031769640857735, 1.7320137346083522, 1.760850505130931, 1.7896872756535098, 1.8185240461760888, 1.8473608166986675, 1.8761975872212462, 1.9050343577438251, 1.9338711282664038, 1.9627078987889828, 1.9915446693115615, 2.02038143983414, 2.049218210356719, 2.078054980879298, 2.106891751401877, 2.1357285219244555, 2.164565292447034, 2.193402062969613, 2.222238833492192, 2.251075604014771, 2.2799123745373495, 2.3087491450599282, 2.337585915582507, 2.366422686105086, 2.395259456627665, 2.4240962271502435, 2.4529329976728222, 2.481769768195401, 2.51060653871798, 2.539443309240559, 2.5682800797631375, 2.5971168502857163, 2.625953620808295, 2.654790391330874, 2.683627161853453, 2.7124639323760316, 2.7413007028986103, 2.7701374734211894, 2.798974243943768, 2.827811014466347, 2.8566477849889256], \"y\": [0.0, 0.00014249589404321042, 0.0, 0.0, 0.0, 0.0, 0.0, 0.0, 0.0, 0.0, 0.0, 0.0, 0.0, 0.0, 0.0, 0.0, 0.0, 0.0, 0.0, 0.0, 0.0, 0.0, 0.0, 0.0, 0.0, 0.0, 0.0, 0.0, 0.0, 0.0, 0.0, 0.0, 0.0, 0.0, 0.0, 0.0, 0.0, 0.0, 0.0, 0.0, 0.0, 0.0, 0.0, 0.0, 0.0, 0.0, 0.0, 0.0, 0.0, 0.0, 0.0, 0.0, 0.0, 0.0, 0.0, 0.0, 0.0, 0.0, 0.0, 0.0, 0.0, 0.0, 0.0, 0.0, 0.0, 0.0, 0.0, 0.0, 0.0, 0.0, 0.0, 0.0, 0.0, 0.0, 0.0, 0.0, 0.0, 0.0, 0.0, 0.0, 0.0, 0.0, 0.0, 0.0, 0.0, 0.005233597924893196, 0.03407036844747191, 0.06290713897005107, 0.03428220231750245, 0.0054454317949237385, 0.0, 0.0, 0.0, 0.0, 0.0, 0.0, 0.0, 0.0, 0.0, 0.0]}],\n",
       "                        {\"plot_bgcolor\": \"white\", \"template\": {\"data\": {\"bar\": [{\"error_x\": {\"color\": \"#2a3f5f\"}, \"error_y\": {\"color\": \"#2a3f5f\"}, \"marker\": {\"line\": {\"color\": \"#E5ECF6\", \"width\": 0.5}}, \"type\": \"bar\"}], \"barpolar\": [{\"marker\": {\"line\": {\"color\": \"#E5ECF6\", \"width\": 0.5}}, \"type\": \"barpolar\"}], \"carpet\": [{\"aaxis\": {\"endlinecolor\": \"#2a3f5f\", \"gridcolor\": \"white\", \"linecolor\": \"white\", \"minorgridcolor\": \"white\", \"startlinecolor\": \"#2a3f5f\"}, \"baxis\": {\"endlinecolor\": \"#2a3f5f\", \"gridcolor\": \"white\", \"linecolor\": \"white\", \"minorgridcolor\": \"white\", \"startlinecolor\": \"#2a3f5f\"}, \"type\": \"carpet\"}], \"choropleth\": [{\"colorbar\": {\"outlinewidth\": 0, \"ticks\": \"\"}, \"type\": \"choropleth\"}], \"contour\": [{\"colorbar\": {\"outlinewidth\": 0, \"ticks\": \"\"}, \"colorscale\": [[0.0, \"#0d0887\"], [0.1111111111111111, \"#46039f\"], [0.2222222222222222, \"#7201a8\"], [0.3333333333333333, \"#9c179e\"], [0.4444444444444444, \"#bd3786\"], [0.5555555555555556, \"#d8576b\"], [0.6666666666666666, \"#ed7953\"], [0.7777777777777778, \"#fb9f3a\"], [0.8888888888888888, \"#fdca26\"], [1.0, \"#f0f921\"]], \"type\": \"contour\"}], \"contourcarpet\": [{\"colorbar\": {\"outlinewidth\": 0, \"ticks\": \"\"}, \"type\": \"contourcarpet\"}], \"heatmap\": [{\"colorbar\": {\"outlinewidth\": 0, \"ticks\": \"\"}, \"colorscale\": [[0.0, \"#0d0887\"], [0.1111111111111111, \"#46039f\"], [0.2222222222222222, \"#7201a8\"], [0.3333333333333333, \"#9c179e\"], [0.4444444444444444, \"#bd3786\"], [0.5555555555555556, \"#d8576b\"], [0.6666666666666666, \"#ed7953\"], [0.7777777777777778, \"#fb9f3a\"], [0.8888888888888888, \"#fdca26\"], [1.0, \"#f0f921\"]], \"type\": \"heatmap\"}], \"heatmapgl\": [{\"colorbar\": {\"outlinewidth\": 0, \"ticks\": \"\"}, \"colorscale\": [[0.0, \"#0d0887\"], [0.1111111111111111, \"#46039f\"], [0.2222222222222222, \"#7201a8\"], [0.3333333333333333, \"#9c179e\"], [0.4444444444444444, \"#bd3786\"], [0.5555555555555556, \"#d8576b\"], [0.6666666666666666, \"#ed7953\"], [0.7777777777777778, \"#fb9f3a\"], [0.8888888888888888, \"#fdca26\"], [1.0, \"#f0f921\"]], \"type\": \"heatmapgl\"}], \"histogram\": [{\"marker\": {\"colorbar\": {\"outlinewidth\": 0, \"ticks\": \"\"}}, \"type\": \"histogram\"}], \"histogram2d\": [{\"colorbar\": {\"outlinewidth\": 0, \"ticks\": \"\"}, \"colorscale\": [[0.0, \"#0d0887\"], [0.1111111111111111, \"#46039f\"], [0.2222222222222222, \"#7201a8\"], [0.3333333333333333, \"#9c179e\"], [0.4444444444444444, \"#bd3786\"], [0.5555555555555556, \"#d8576b\"], [0.6666666666666666, \"#ed7953\"], [0.7777777777777778, \"#fb9f3a\"], [0.8888888888888888, \"#fdca26\"], [1.0, \"#f0f921\"]], \"type\": \"histogram2d\"}], \"histogram2dcontour\": [{\"colorbar\": {\"outlinewidth\": 0, \"ticks\": \"\"}, \"colorscale\": [[0.0, \"#0d0887\"], [0.1111111111111111, \"#46039f\"], [0.2222222222222222, \"#7201a8\"], [0.3333333333333333, \"#9c179e\"], [0.4444444444444444, \"#bd3786\"], [0.5555555555555556, \"#d8576b\"], [0.6666666666666666, \"#ed7953\"], [0.7777777777777778, \"#fb9f3a\"], [0.8888888888888888, \"#fdca26\"], [1.0, \"#f0f921\"]], \"type\": \"histogram2dcontour\"}], \"mesh3d\": [{\"colorbar\": {\"outlinewidth\": 0, \"ticks\": \"\"}, \"type\": \"mesh3d\"}], \"parcoords\": [{\"line\": {\"colorbar\": {\"outlinewidth\": 0, \"ticks\": \"\"}}, \"type\": \"parcoords\"}], \"pie\": [{\"automargin\": true, \"type\": \"pie\"}], \"scatter\": [{\"marker\": {\"colorbar\": {\"outlinewidth\": 0, \"ticks\": \"\"}}, \"type\": \"scatter\"}], \"scatter3d\": [{\"line\": {\"colorbar\": {\"outlinewidth\": 0, \"ticks\": \"\"}}, \"marker\": {\"colorbar\": {\"outlinewidth\": 0, \"ticks\": \"\"}}, \"type\": \"scatter3d\"}], \"scattercarpet\": [{\"marker\": {\"colorbar\": {\"outlinewidth\": 0, \"ticks\": \"\"}}, \"type\": \"scattercarpet\"}], \"scattergeo\": [{\"marker\": {\"colorbar\": {\"outlinewidth\": 0, \"ticks\": \"\"}}, \"type\": \"scattergeo\"}], \"scattergl\": [{\"marker\": {\"colorbar\": {\"outlinewidth\": 0, \"ticks\": \"\"}}, \"type\": \"scattergl\"}], \"scattermapbox\": [{\"marker\": {\"colorbar\": {\"outlinewidth\": 0, \"ticks\": \"\"}}, \"type\": \"scattermapbox\"}], \"scatterpolar\": [{\"marker\": {\"colorbar\": {\"outlinewidth\": 0, \"ticks\": \"\"}}, \"type\": \"scatterpolar\"}], \"scatterpolargl\": [{\"marker\": {\"colorbar\": {\"outlinewidth\": 0, \"ticks\": \"\"}}, \"type\": \"scatterpolargl\"}], \"scatterternary\": [{\"marker\": {\"colorbar\": {\"outlinewidth\": 0, \"ticks\": \"\"}}, \"type\": \"scatterternary\"}], \"surface\": [{\"colorbar\": {\"outlinewidth\": 0, \"ticks\": \"\"}, \"colorscale\": [[0.0, \"#0d0887\"], [0.1111111111111111, \"#46039f\"], [0.2222222222222222, \"#7201a8\"], [0.3333333333333333, \"#9c179e\"], [0.4444444444444444, \"#bd3786\"], [0.5555555555555556, \"#d8576b\"], [0.6666666666666666, \"#ed7953\"], [0.7777777777777778, \"#fb9f3a\"], [0.8888888888888888, \"#fdca26\"], [1.0, \"#f0f921\"]], \"type\": \"surface\"}], \"table\": [{\"cells\": {\"fill\": {\"color\": \"#EBF0F8\"}, \"line\": {\"color\": \"white\"}}, \"header\": {\"fill\": {\"color\": \"#C8D4E3\"}, \"line\": {\"color\": \"white\"}}, \"type\": \"table\"}]}, \"layout\": {\"annotationdefaults\": {\"arrowcolor\": \"#2a3f5f\", \"arrowhead\": 0, \"arrowwidth\": 1}, \"coloraxis\": {\"colorbar\": {\"outlinewidth\": 0, \"ticks\": \"\"}}, \"colorscale\": {\"diverging\": [[0, \"#8e0152\"], [0.1, \"#c51b7d\"], [0.2, \"#de77ae\"], [0.3, \"#f1b6da\"], [0.4, \"#fde0ef\"], [0.5, \"#f7f7f7\"], [0.6, \"#e6f5d0\"], [0.7, \"#b8e186\"], [0.8, \"#7fbc41\"], [0.9, \"#4d9221\"], [1, \"#276419\"]], \"sequential\": [[0.0, \"#0d0887\"], [0.1111111111111111, \"#46039f\"], [0.2222222222222222, \"#7201a8\"], [0.3333333333333333, \"#9c179e\"], [0.4444444444444444, \"#bd3786\"], [0.5555555555555556, \"#d8576b\"], [0.6666666666666666, \"#ed7953\"], [0.7777777777777778, \"#fb9f3a\"], [0.8888888888888888, \"#fdca26\"], [1.0, \"#f0f921\"]], \"sequentialminus\": [[0.0, \"#0d0887\"], [0.1111111111111111, \"#46039f\"], [0.2222222222222222, \"#7201a8\"], [0.3333333333333333, \"#9c179e\"], [0.4444444444444444, \"#bd3786\"], [0.5555555555555556, \"#d8576b\"], [0.6666666666666666, \"#ed7953\"], [0.7777777777777778, \"#fb9f3a\"], [0.8888888888888888, \"#fdca26\"], [1.0, \"#f0f921\"]]}, \"colorway\": [\"#636efa\", \"#EF553B\", \"#00cc96\", \"#ab63fa\", \"#FFA15A\", \"#19d3f3\", \"#FF6692\", \"#B6E880\", \"#FF97FF\", \"#FECB52\"], \"font\": {\"color\": \"#2a3f5f\"}, \"geo\": {\"bgcolor\": \"white\", \"lakecolor\": \"white\", \"landcolor\": \"#E5ECF6\", \"showlakes\": true, \"showland\": true, \"subunitcolor\": \"white\"}, \"hoverlabel\": {\"align\": \"left\"}, \"hovermode\": \"closest\", \"mapbox\": {\"style\": \"light\"}, \"paper_bgcolor\": \"white\", \"plot_bgcolor\": \"#E5ECF6\", \"polar\": {\"angularaxis\": {\"gridcolor\": \"white\", \"linecolor\": \"white\", \"ticks\": \"\"}, \"bgcolor\": \"#E5ECF6\", \"radialaxis\": {\"gridcolor\": \"white\", \"linecolor\": \"white\", \"ticks\": \"\"}}, \"scene\": {\"xaxis\": {\"backgroundcolor\": \"#E5ECF6\", \"gridcolor\": \"white\", \"gridwidth\": 2, \"linecolor\": \"white\", \"showbackground\": true, \"ticks\": \"\", \"zerolinecolor\": \"white\"}, \"yaxis\": {\"backgroundcolor\": \"#E5ECF6\", \"gridcolor\": \"white\", \"gridwidth\": 2, \"linecolor\": \"white\", \"showbackground\": true, \"ticks\": \"\", \"zerolinecolor\": \"white\"}, \"zaxis\": {\"backgroundcolor\": \"#E5ECF6\", \"gridcolor\": \"white\", \"gridwidth\": 2, \"linecolor\": \"white\", \"showbackground\": true, \"ticks\": \"\", \"zerolinecolor\": \"white\"}}, \"shapedefaults\": {\"line\": {\"color\": \"#2a3f5f\"}}, \"ternary\": {\"aaxis\": {\"gridcolor\": \"white\", \"linecolor\": \"white\", \"ticks\": \"\"}, \"baxis\": {\"gridcolor\": \"white\", \"linecolor\": \"white\", \"ticks\": \"\"}, \"bgcolor\": \"#E5ECF6\", \"caxis\": {\"gridcolor\": \"white\", \"linecolor\": \"white\", \"ticks\": \"\"}}, \"title\": {\"x\": 0.05}, \"xaxis\": {\"automargin\": true, \"gridcolor\": \"white\", \"linecolor\": \"white\", \"ticks\": \"\", \"title\": {\"standoff\": 15}, \"zerolinecolor\": \"white\", \"zerolinewidth\": 2}, \"yaxis\": {\"automargin\": true, \"gridcolor\": \"white\", \"linecolor\": \"white\", \"ticks\": \"\", \"title\": {\"standoff\": 15}, \"zerolinecolor\": \"white\", \"zerolinewidth\": 2}}}, \"title\": {\"text\": \"Persistence landscape for homology dimension 1\"}, \"xaxis\": {\"anchor\": \"y\", \"exponentformat\": \"e\", \"linecolor\": \"black\", \"linewidth\": 1, \"mirror\": false, \"showexponent\": \"all\", \"showline\": true, \"side\": \"bottom\", \"ticks\": \"outside\", \"type\": \"linear\", \"zeroline\": true}, \"yaxis\": {\"anchor\": \"x\", \"exponentformat\": \"e\", \"linecolor\": \"black\", \"linewidth\": 1, \"mirror\": false, \"showexponent\": \"all\", \"showline\": true, \"side\": \"left\", \"ticks\": \"outside\", \"type\": \"linear\", \"zeroline\": true}},\n",
       "                        {\"responsive\": true}\n",
       "                    ).then(function(){\n",
       "                            \n",
       "var gd = document.getElementById('6a4d86f4-50fb-4193-9b04-8dcef6db827d');\n",
       "var x = new MutationObserver(function (mutations, observer) {{\n",
       "        var display = window.getComputedStyle(gd).display;\n",
       "        if (!display || display === 'none') {{\n",
       "            console.log([gd, 'removed!']);\n",
       "            Plotly.purge(gd);\n",
       "            observer.disconnect();\n",
       "        }}\n",
       "}});\n",
       "\n",
       "// Listen for the removal of the full notebook cells\n",
       "var notebookContainer = gd.closest('#notebook-container');\n",
       "if (notebookContainer) {{\n",
       "    x.observe(notebookContainer, {childList: true});\n",
       "}}\n",
       "\n",
       "// Listen for the clearing of the current output cell\n",
       "var outputEl = gd.closest('.output');\n",
       "if (outputEl) {{\n",
       "    x.observe(outputEl, {childList: true});\n",
       "}}\n",
       "\n",
       "                        })\n",
       "                };\n",
       "                });\n",
       "            </script>\n",
       "        </div>"
      ]
     },
     "metadata": {},
     "output_type": "display_data"
    }
   ],
   "source": [
    "persistence_landscape_extractor = PersistenceLandscape(n_layers=2, n_bins=100)\n",
    "sample_persistence_landscape = persistence_landscape_extractor.fit_transform([sample_pd])[0]\n",
    "persistence_landscape_extractor.plot([sample_persistence_landscape])"
   ]
  },
  {
   "cell_type": "markdown",
   "metadata": {},
   "source": [
    "#### 1.4.3. Persistence Entropy"
   ]
  },
  {
   "cell_type": "markdown",
   "metadata": {},
   "source": [
    "Persistence Entropy is the measure of entropy between points in PD. For PD $D = \\{ (b_i, d_i) \\}_{i \\in I}$ Persistence Entropy is defined by:\n",
    "\n",
    "$$\n",
    "E(D) = -\\sum_{i \\in I} {p_i \\log{p_i}},\n",
    "$$\n",
    "\n",
    "where $p_i = \\frac{d_i - b_i}{L_D}$ and $L_D = \\sum_{i \\in I}(d_i - b_i)$."
   ]
  },
  {
   "cell_type": "code",
   "execution_count": 102,
   "metadata": {},
   "outputs": [
    {
     "name": "stdout",
     "output_type": "stream",
     "text": [
      "[3.91590105 0.32756594]\n"
     ]
    }
   ],
   "source": [
    "sample_persistence_entropy = PersistenceEntropy().fit_transform([sample_pd])[0]\n",
    "print(sample_persistence_entropy)"
   ]
  },
  {
   "cell_type": "markdown",
   "metadata": {},
   "source": [
    "### 1.5. Topological Features"
   ]
  },
  {
   "cell_type": "markdown",
   "metadata": {},
   "source": [
    "After introducing the Persistence Homology and it's derived representations, we can introduced features that we are going to use. Those features will be directly extracted from PD or related sturctures like Betti Curves and Persistence Landscape. First five features are proposed by Pereira in [2], rest of the features are proposed by us. All those topological features were implemented in package `src.TFE`."
   ]
  },
  {
   "cell_type": "markdown",
   "metadata": {},
   "source": [
    "#### 1.5.1. Number of Holes"
   ]
  },
  {
   "cell_type": "markdown",
   "metadata": {},
   "source": [
    "The first feature (or set of features) is the number of holes for each homology dimension. This can be easily calculated with PD. Actually, in the 0th dimension, the holes actually indicate connected components, i.e., vertices that were connected along the filtration."
   ]
  },
  {
   "cell_type": "markdown",
   "metadata": {},
   "source": [
    "#### 1.5.2. Maximum Hole Lifetime"
   ]
  },
  {
   "cell_type": "markdown",
   "metadata": {},
   "source": [
    "Maximum hole lifteime in each dimension helps to identify the most significant hole in each dimension, that is also the farthest point from the diagonal in PD. Note that the one hole that lasted the longest in the filtration indicates a prominent shape-based feature of the data set."
   ]
  },
  {
   "cell_type": "markdown",
   "metadata": {},
   "source": [
    "#### 1.5.3. Number of Relevant Holes"
   ]
  },
  {
   "cell_type": "markdown",
   "metadata": {},
   "source": [
    "The relevant holes for each dimension are the wholes whos lifetime is equal to the maximum hole lifetime with some ratio. In other words, they are the points that are at similar distance from the PD diagonal as the farthest point."
   ]
  },
  {
   "cell_type": "markdown",
   "metadata": {},
   "source": [
    "#### 1.5.4. Average Hole Lifetime"
   ]
  },
  {
   "cell_type": "markdown",
   "metadata": {},
   "source": [
    "Average hole lifetime for each dimensions shows whether the data consist of mosly short-lived holes, or vice versa, the long-lived holes."
   ]
  },
  {
   "cell_type": "markdown",
   "metadata": {},
   "source": [
    "#### 1.5.5.  Sum of All Lifetimes"
   ]
  },
  {
   "cell_type": "markdown",
   "metadata": {},
   "source": [
    "A sum of all hole lifetimes in each dimension can considered as an integral of PD graph. Actually, small sum for dimension shows that data has practically no holes in this dimension."
   ]
  },
  {
   "cell_type": "markdown",
   "metadata": {},
   "source": [
    "#### 1.5.6. Pesistence Entropy"
   ]
  },
  {
   "cell_type": "markdown",
   "metadata": {},
   "source": [
    "Persistence Entropy actually is already a feature and can be informative."
   ]
  },
  {
   "cell_type": "markdown",
   "metadata": {},
   "source": [
    "#### 1.5.7. Average Number of Simultaneously Existing Holes"
   ]
  },
  {
   "cell_type": "markdown",
   "metadata": {},
   "source": [
    "Average number of holes that exist simultaneously for each dimension in some sense can help to describe how sparse the holes are distributed for each dimension. If we represent the PD as set of sorted segments, which is also known as *Persistence Barcode*, this feature can be calculated as an average number of intersections of those segments."
   ]
  },
  {
   "cell_type": "markdown",
   "metadata": {},
   "source": [
    "#### 1.5.8. Average Value of Persistence Landscape"
   ]
  },
  {
   "cell_type": "markdown",
   "metadata": {},
   "source": [
    "Average value of Persistence Landscape can help to handle the structure of Persistence Landscape diagram which can be informative. It's important to notice that in almost all of the studeid cases only Persistence Landscape for 1st homology dimension is informative, so we count this feature only for the 1st homology dimension."
   ]
  },
  {
   "cell_type": "markdown",
   "metadata": {},
   "source": [
    "#### 1.5.9. Sum of Betti Numbers"
   ]
  },
  {
   "cell_type": "markdown",
   "metadata": {},
   "source": [
    "Sum of Betti Numbers can be considered as an integral of Betti Curve for each dimension. This feature is introduced to handle the structure of Betti Curves."
   ]
  },
  {
   "cell_type": "markdown",
   "metadata": {},
   "source": [
    "#### 1.5.10. Radius at Maximum Betti Number"
   ]
  },
  {
   "cell_type": "markdown",
   "metadata": {},
   "source": [
    "This feature is inspired by work [5 Umeda]. It is actually the relative value of $s$ that corresponds to the maximum Betti number for each dimension."
   ]
  },
  {
   "cell_type": "markdown",
   "metadata": {},
   "source": [
    "## 2. Evaluation for Sample UCR Dataset"
   ]
  },
  {
   "cell_type": "markdown",
   "metadata": {},
   "source": [
    "In this part we are going to extract topological features for the dataset [GunPoint](http://www.timeseriesclassification.com/description.php?Dataset=GunPoint) from UCR collection of datasets. The same pipeline was applied to the rest of 1-dimensional time series datasets in UCR."
   ]
  },
  {
   "cell_type": "markdown",
   "metadata": {},
   "source": [
    "### 2.1. Topological Features Extraction"
   ]
  },
  {
   "cell_type": "markdown",
   "metadata": {},
   "source": [
    "To extract Persistence Diagrams and corresponding features, we implemented own scikit-learn style transformers that we used for convenient feature extraction."
   ]
  },
  {
   "cell_type": "code",
   "execution_count": 104,
   "metadata": {},
   "outputs": [
    {
     "name": "stdout",
     "output_type": "stream",
     "text": [
      "CPU times: user 12.2 s, sys: 997 ms, total: 13.2 s\n",
      "Wall time: 14.5 s\n"
     ]
    }
   ],
   "source": [
    "%%time\n",
    "\n",
    "feature_extractor = TopologicalFeaturesExtractor(\n",
    "    persistence_diagram_extractor=PersistenceDiagramsExtractor(tokens_embedding_dim=2, \n",
    "                                                               tokens_embedding_delay=10,\n",
    "                                                               homology_dimensions=(0, 1),\n",
    "                                                               parallel=True),\n",
    "    persistence_diagram_features=[HolesNumberFeature(),\n",
    "                                  MaxHoleLifeTimeFeature(),\n",
    "                                  RelevantHolesNumber(),\n",
    "                                  AverageHoleLifetimeFeature(),\n",
    "                                  SumHoleLifetimeFeature(),\n",
    "                                  PersistenceEntropyFeature(),\n",
    "                                  SimultaneousAliveHolesFeatue(),\n",
    "                                  AveragePersistenceLandscapeFeature(),\n",
    "                                  BettiNumbersSumFeature(),\n",
    "                                  RadiusAtMaxBNFeature()])\n",
    "\n",
    "X_train_transformed = feature_extractor.fit_transform(X_train)\n",
    "X_test_transformed = feature_extractor.fit_transform(X_test)"
   ]
  },
  {
   "cell_type": "code",
   "execution_count": 105,
   "metadata": {},
   "outputs": [
    {
     "name": "stdout",
     "output_type": "stream",
     "text": [
      "X_train_transformed shape:  (50, 19)\n",
      "X_test_transformed shape:   (150, 19)\n"
     ]
    }
   ],
   "source": [
    "print('X_train_transformed shape: ', X_train_transformed.shape)\n",
    "print('X_test_transformed shape:  ', X_test_transformed.shape)"
   ]
  },
  {
   "cell_type": "markdown",
   "metadata": {},
   "source": [
    "### 2.2. Model Selection in Extracted Features Space"
   ]
  },
  {
   "cell_type": "markdown",
   "metadata": {},
   "source": [
    "Now we are going to train different models and try to find the best parameters for them using cross-validation technique."
   ]
  },
  {
   "cell_type": "code",
   "execution_count": 107,
   "metadata": {},
   "outputs": [],
   "source": [
    "def evaluate_model(model, params, X_train, y_train, X_test, y_test):\n",
    "    clf_cv = GridSearchCV(model, \n",
    "                          param_grid=parameters,\n",
    "                          cv=StratifiedKFold(n_splits=2, shuffle=True, random_state=42),\n",
    "                          scoring='accuracy', \n",
    "                          n_jobs=-1)\n",
    "    clf_cv.fit(X_train, y_train)\n",
    "    acc_train = accuracy_score(y_train, clf_cv.best_estimator_.predict(X_train))\n",
    "    acc_test = accuracy_score(y_test, clf_cv.best_estimator_.predict(X_test))\n",
    "    print(clf_cv.best_estimator_.__class__.__name__)\n",
    "    print(clf_cv.best_params_)\n",
    "    print(\"Train accuracy: \", acc_train)\n",
    "    print(\"Test accuracy: \", acc_test)\n",
    "    return acc_train, acc_test, clf_cv.best_estimator_, clf_cv.best_params_"
   ]
  },
  {
   "cell_type": "markdown",
   "metadata": {},
   "source": [
    "Support Vector Machine:"
   ]
  },
  {
   "cell_type": "code",
   "execution_count": 117,
   "metadata": {},
   "outputs": [
    {
     "name": "stdout",
     "output_type": "stream",
     "text": [
      "SVC\n",
      "{'C': 0.1, 'kernel': 'linear'}\n",
      "Train accuracy:  0.98\n",
      "Test accuracy:  0.86\n"
     ]
    }
   ],
   "source": [
    "parameters = {\"C\": [10**i for i in range(-2, 5)],\n",
    "              \"kernel\": [\"linear\", \"rbf\", \"sigmoid\", \"poly\"]}\n",
    "acc_train, acc_test, model, model_params = evaluate_model(SVC(random_state=42), parameters, X_train_transformed,\n",
    "                                                          y_train, X_test_transformed, y_test)"
   ]
  },
  {
   "cell_type": "markdown",
   "metadata": {},
   "source": [
    "XGBoost:"
   ]
  },
  {
   "cell_type": "code",
   "execution_count": 113,
   "metadata": {},
   "outputs": [
    {
     "name": "stdout",
     "output_type": "stream",
     "text": [
      "XGBClassifier\n",
      "{'max_depth': 2, 'n_estimators': 20}\n",
      "Train accuracy:  1.0\n",
      "Test accuracy:  0.9\n"
     ]
    }
   ],
   "source": [
    "parameters = {\"max_depth\": [2, 10, 15, 20, 25, 30, 35, 40, 45, 50, 70, 100, 120, 150],\n",
    "              \"n_estimators\": [20, 50, 100, 150, 200, 250]}\n",
    "acc_train, acc_test, model, model_params = evaluate_model(XGBClassifier(n_jobs=-1, random_state=42), \n",
    "                                                          parameters, X_train_transformed,\n",
    "                                                          y_train, X_test_transformed, y_test)"
   ]
  },
  {
   "cell_type": "markdown",
   "metadata": {},
   "source": [
    "K Nearest Neighbours:"
   ]
  },
  {
   "cell_type": "code",
   "execution_count": 115,
   "metadata": {},
   "outputs": [
    {
     "name": "stdout",
     "output_type": "stream",
     "text": [
      "KNeighborsClassifier\n",
      "{'n_neighbors': 5}\n",
      "Train accuracy:  0.96\n",
      "Test accuracy:  0.8533333333333334\n"
     ]
    }
   ],
   "source": [
    "parameters = {\"n_neighbors\": [3, 5, 7, 11,]}\n",
    "acc_train, acc_test, model, model_params = evaluate_model(KNeighborsClassifier(n_jobs=-1), \n",
    "                                                          parameters, X_train_transformed,\n",
    "                                                          y_train, X_test_transformed, y_test)"
   ]
  },
  {
   "cell_type": "markdown",
   "metadata": {},
   "source": [
    "CatBoost:"
   ]
  },
  {
   "cell_type": "code",
   "execution_count": 118,
   "metadata": {},
   "outputs": [
    {
     "name": "stderr",
     "output_type": "stream",
     "text": [
      "/home/ubuntu/anaconda3/lib/python3.7/site-packages/joblib/externals/loky/process_executor.py:706: UserWarning:\n",
      "\n",
      "A worker stopped while some jobs were given to the executor. This can be caused by a too short worker timeout or by a memory leak.\n",
      "\n"
     ]
    },
    {
     "name": "stdout",
     "output_type": "stream",
     "text": [
      "CatBoostClassifier\n",
      "{'early_stopping_rounds': 2, 'max_depth': 2, 'n_estimators': 50}\n",
      "Train accuracy:  0.98\n",
      "Test accuracy:  0.9\n"
     ]
    }
   ],
   "source": [
    "parameters = {\"max_depth\": [2, 10, 15, 20, 25, 30, 35, 40, 45, 50, 70, 100, 120, 150],\n",
    "              \"n_estimators\": [20, 50, 100, 150, 200, 250],\n",
    "              \"early_stopping_rounds\": [2, 5, 8, 10, 50, 200]}\n",
    "acc_train, acc_test, model, model_params = evaluate_model(CatBoostClassifier(random_state=42, verbose=False), \n",
    "                                                          parameters, X_train_transformed,\n",
    "                                                          y_train, X_test_transformed, y_test)"
   ]
  },
  {
   "cell_type": "markdown",
   "metadata": {},
   "source": [
    "### 2.3 Dimensionality Reduction with Variational Autoencoder"
   ]
  },
  {
   "cell_type": "markdown",
   "metadata": {},
   "source": [
    "Variational Autoencoder (VAE) is a powerful dimensionality reduction technique. We are going to apply it to reduce the extracted topoligcal features space dimensionality."
   ]
  },
  {
   "cell_type": "code",
   "execution_count": 119,
   "metadata": {},
   "outputs": [],
   "source": [
    "torch.manual_seed(0)\n",
    "torch.backends.cudnn.deterministic = True\n",
    "torch.backends.cudnn.benchmark = False\n",
    "np.random.seed(0)\n",
    "\n",
    "device = get_device()\n",
    "batch_size = 32\n",
    "latent_dim = num_classes * 4"
   ]
  },
  {
   "cell_type": "code",
   "execution_count": 122,
   "metadata": {},
   "outputs": [],
   "source": [
    "scale = StandardScaler()\n",
    "scale.fit(X_train_transformed)\n",
    "\n",
    "X_train_transformed_dim = handle_dim(X_train_transformed, scale)\n",
    "X_test_transformed_dim = handle_dim(X_test_transformed, scale)\n",
    "\n",
    "y_hot_train = one_hot_encoding(y_train)\n",
    "y_hot_test = one_hot_encoding(y_test)\n",
    "\n",
    "dataset_train = TimeSeriesDataLoader(X_train_transformed_dim, y_hot_train, batch_size)\n",
    "dataset_test = TimeSeriesDataLoader(X_test_transformed_dim, y_hot_test, batch_size)\n",
    "\n",
    "test_data = torch.zeros(dataset_train.dataset[:][0].shape)"
   ]
  },
  {
   "cell_type": "code",
   "execution_count": 123,
   "metadata": {},
   "outputs": [
    {
     "name": "stdout",
     "output_type": "stream",
     "text": [
      "Number of parameters: 13873\n"
     ]
    }
   ],
   "source": [
    "vae = VariationalAutoencoder(batch_size=batch_size, latent_dims=latent_dim, test_data=test_data)\n",
    "vae = vae.to(device)\n",
    "\n",
    "optimizer = torch.optim.Adam(params=vae.parameters(), lr=2e-3, weight_decay=1e-5)\n",
    "num_params = sum(p.numel() for p in vae.parameters() if p.requires_grad)\n",
    "print('Number of parameters: %d' % num_params)"
   ]
  },
  {
   "cell_type": "code",
   "execution_count": 124,
   "metadata": {},
   "outputs": [
    {
     "data": {
      "text/html": [],
      "text/plain": [
       "<IPython.core.display.HTML object>"
      ]
     },
     "metadata": {},
     "output_type": "display_data"
    },
    {
     "data": {
      "image/png": "[encoded data removed]",
      "text/plain": [
       "<Figure size 432x288 with 1 Axes>"
      ]
     },
     "metadata": {},
     "output_type": "display_data"
    },
    {
     "data": {
      "text/plain": [
       "VariationalAutoencoder(\n",
       "  (encoder): Encoder(\n",
       "    (conv1): Conv1d(1, 32, kernel_size=(4,), stride=(2,), padding=(1,))\n",
       "    (conv2): Conv1d(32, 64, kernel_size=(4,), stride=(2,), padding=(1,))\n",
       "    (fc_mu): Linear(in_features=256, out_features=8, bias=True)\n",
       "    (fc_logvar): Linear(in_features=256, out_features=8, bias=True)\n",
       "  )\n",
       "  (decoder): Decoder(\n",
       "    (fc): Linear(in_features=8, out_features=96, bias=True)\n",
       "    (conv2): ConvTranspose1d(32, 1, kernel_size=(15,), stride=(3,), padding=(1,))\n",
       "  )\n",
       ")"
      ]
     },
     "execution_count": 124,
     "metadata": {},
     "output_type": "execute_result"
    }
   ],
   "source": [
    "train_AE(1000, vae, dataset_train, dataset_test, optimizer, device, verbose=True)"
   ]
  },
  {
   "cell_type": "code",
   "execution_count": 125,
   "metadata": {},
   "outputs": [],
   "source": [
    "from_vae_loader2numpy = lambda model, x: model.transform(x.dataset[:][0]).cpu().detach().numpy()\n",
    "\n",
    "z_train = from_vae_loader2numpy(vae, dataset_train)\n",
    "z_test = from_vae_loader2numpy(vae, dataset_test)"
   ]
  },
  {
   "cell_type": "code",
   "execution_count": 128,
   "metadata": {},
   "outputs": [
    {
     "name": "stdout",
     "output_type": "stream",
     "text": [
      "Reduced train size:  (50, 8)\n"
     ]
    }
   ],
   "source": [
    "print(\"Reduced train size: \", z_train.shape)"
   ]
  },
  {
   "cell_type": "markdown",
   "metadata": {},
   "source": [
    "Now let's train our models on reduced dataset."
   ]
  },
  {
   "cell_type": "markdown",
   "metadata": {},
   "source": [
    "Support Vector Machine:"
   ]
  },
  {
   "cell_type": "code",
   "execution_count": 129,
   "metadata": {},
   "outputs": [
    {
     "name": "stdout",
     "output_type": "stream",
     "text": [
      "SVC\n",
      "{'C': 10, 'kernel': 'sigmoid'}\n",
      "Train accuracy:  0.98\n",
      "Test accuracy:  0.9266666666666666\n"
     ]
    }
   ],
   "source": [
    "parameters = {\"C\": [10**i for i in range(-2, 5)],\n",
    "              \"kernel\": [\"linear\", \"rbf\", \"sigmoid\", \"poly\"]}\n",
    "acc_train, acc_test, model, model_params = evaluate_model(SVC(random_state=42), parameters, z_train,\n",
    "                                                          y_train, z_test, y_test)"
   ]
  },
  {
   "cell_type": "markdown",
   "metadata": {},
   "source": [
    "XGBoost:"
   ]
  },
  {
   "cell_type": "code",
   "execution_count": 130,
   "metadata": {},
   "outputs": [
    {
     "name": "stdout",
     "output_type": "stream",
     "text": [
      "XGBClassifier\n",
      "{'max_depth': 2, 'n_estimators': 20}\n",
      "Train accuracy:  1.0\n",
      "Test accuracy:  0.8266666666666667\n"
     ]
    }
   ],
   "source": [
    "parameters = {\"max_depth\": [2, 10, 15, 20, 25, 30, 35, 40, 45, 50, 70, 100, 120, 150],\n",
    "              \"n_estimators\": [20, 50, 100, 150, 200, 250]}\n",
    "acc_train, acc_test, model, model_params = evaluate_model(XGBClassifier(n_jobs=-1, random_state=42), \n",
    "                                                          parameters, z_train,\n",
    "                                                          y_train, z_test, y_test)"
   ]
  },
  {
   "cell_type": "markdown",
   "metadata": {},
   "source": [
    "K Nearest Neighbours:"
   ]
  },
  {
   "cell_type": "code",
   "execution_count": 131,
   "metadata": {},
   "outputs": [
    {
     "name": "stdout",
     "output_type": "stream",
     "text": [
      "KNeighborsClassifier\n",
      "{'n_neighbors': 5}\n",
      "Train accuracy:  0.98\n",
      "Test accuracy:  0.8733333333333333\n"
     ]
    }
   ],
   "source": [
    "parameters = {\"n_neighbors\": [3, 5, 7, 11,]}\n",
    "acc_train, acc_test, model, model_params = evaluate_model(KNeighborsClassifier(n_jobs=-1), \n",
    "                                                          parameters, z_train,\n",
    "                                                          y_train, z_test, y_test)"
   ]
  },
  {
   "cell_type": "markdown",
   "metadata": {},
   "source": [
    "CatBoost:"
   ]
  },
  {
   "cell_type": "code",
   "execution_count": 132,
   "metadata": {},
   "outputs": [
    {
     "name": "stderr",
     "output_type": "stream",
     "text": [
      "/home/ubuntu/anaconda3/lib/python3.7/site-packages/joblib/externals/loky/process_executor.py:706: UserWarning:\n",
      "\n",
      "A worker stopped while some jobs were given to the executor. This can be caused by a too short worker timeout or by a memory leak.\n",
      "\n"
     ]
    },
    {
     "name": "stdout",
     "output_type": "stream",
     "text": [
      "CatBoostClassifier\n",
      "{'early_stopping_rounds': 2, 'max_depth': 15, 'n_estimators': 200}\n",
      "Train accuracy:  1.0\n",
      "Test accuracy:  0.9066666666666666\n"
     ]
    }
   ],
   "source": [
    "parameters = {\"max_depth\": [2, 10, 15, 20, 25, 30, 35, 40, 45, 50, 70, 100, 120, 150],\n",
    "              \"n_estimators\": [20, 50, 100, 150, 200, 250],\n",
    "              \"early_stopping_rounds\": [2, 5, 8, 10, 50, 200]}\n",
    "acc_train, acc_test, model, model_params = evaluate_model(CatBoostClassifier(random_state=42, verbose=False), \n",
    "                                                          parameters, z_train,\n",
    "                                                          y_train, z_test, y_test)"
   ]
  },
  {
   "cell_type": "markdown",
   "metadata": {},
   "source": [
    "In this case, VAE helped to achieve best accuracy on test set."
   ]
  },
  {
   "cell_type": "markdown",
   "metadata": {},
   "source": [
    "### 2.4. ANN classifier"
   ]
  },
  {
   "cell_type": "markdown",
   "metadata": {},
   "source": [
    "Finally, let's try to use an ANN as a classifier."
   ]
  },
  {
   "cell_type": "code",
   "execution_count": 152,
   "metadata": {},
   "outputs": [
    {
     "ename": "NameError",
     "evalue": "name 'ANN' is not defined",
     "output_type": "error",
     "traceback": [
      "\u001b[0;31m---------------------------------------------------------------------------\u001b[0m",
      "\u001b[0;31mNameError\u001b[0m                                 Traceback (most recent call last)",
      "\u001b[0;32m<ipython-input-152-3dce9dc18ec3>\u001b[0m in \u001b[0;36m<module>\u001b[0;34m\u001b[0m\n\u001b[1;32m      3\u001b[0m                      'depth': 4}\n\u001b[1;32m      4\u001b[0m \u001b[0;34m\u001b[0m\u001b[0m\n\u001b[0;32m----> 5\u001b[0;31m \u001b[0mnet\u001b[0m \u001b[0;34m=\u001b[0m \u001b[0mANN\u001b[0m\u001b[0;34m(\u001b[0m\u001b[0mlatent_dim\u001b[0m\u001b[0;34m,\u001b[0m \u001b[0mnum_classes\u001b[0m\u001b[0;34m,\u001b[0m \u001b[0mdevice\u001b[0m\u001b[0;34m)\u001b[0m\u001b[0;34m\u001b[0m\u001b[0;34m\u001b[0m\u001b[0m\n\u001b[0m\u001b[1;32m      6\u001b[0m \u001b[0mnet\u001b[0m\u001b[0;34m.\u001b[0m\u001b[0mfit\u001b[0m\u001b[0;34m(\u001b[0m\u001b[0mz_train\u001b[0m\u001b[0;34m,\u001b[0m \u001b[0my_train\u001b[0m\u001b[0;34m)\u001b[0m\u001b[0;34m\u001b[0m\u001b[0;34m\u001b[0m\u001b[0m\n\u001b[1;32m      7\u001b[0m \u001b[0;34m\u001b[0m\u001b[0m\n",
      "\u001b[0;31mNameError\u001b[0m: name 'ANN' is not defined"
     ]
    }
   ],
   "source": [
    "neural_net_params = {'in_features=latent_dim': latent_dim,\n",
    "                     'out_features': num_classes,\n",
    "                     'depth': 4}\n",
    "\n",
    "net = ANN(latent_dim, num_classes, device)\n",
    "net.fit(z_train, y_train)\n",
    "\n",
    "y_train_pred = net.predict(z_train)\n",
    "y_test_pred = net.predict(z_test)\n",
    "\n",
    "acc_train = accuracy_score(y_train, y_train_pred)\n",
    "acc_test = accuracy_score(y_test, y_test_pred)\n",
    "\n",
    "print(\"Accuracy on train: \", acc_train)\n",
    "print(\"Accuracy on test: \", acc_test)"
   ]
  },
  {
   "cell_type": "markdown",
   "metadata": {},
   "source": [
    "## 3. Imputation Study"
   ]
  },
  {
   "cell_type": "markdown",
   "metadata": {},
   "source": [
    "TODO"
   ]
  },
  {
   "cell_type": "markdown",
   "metadata": {},
   "source": [
    "## 4. Conclusions"
   ]
  },
  {
   "cell_type": "markdown",
   "metadata": {},
   "source": [
    "TODO"
   ]
  }
 ],
 "metadata": {
  "kernelspec": {
   "display_name": "Python 3",
   "language": "python",
   "name": "python3"
  },
  "language_info": {
   "codemirror_mode": {
    "name": "ipython",
    "version": 3
   },
   "file_extension": ".py",
   "mimetype": "text/x-python",
   "name": "python",
   "nbconvert_exporter": "python",
   "pygments_lexer": "ipython3",
   "version": "3.7.6"
  }
 },
 "nbformat": 4,
 "nbformat_minor": 4
}
