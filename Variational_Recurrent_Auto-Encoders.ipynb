{
 "cells": [
  {
   "cell_type": "code",
   "execution_count": 1,
   "metadata": {},
   "outputs": [],
   "source": [
    "import numpy as np\n",
    "import torch\n",
    "from torch.utils.data import DataLoader, TensorDataset\n",
    "\n",
    "from src import VRAE\n",
    "from src.utils import *"
   ]
  },
  {
   "cell_type": "code",
   "execution_count": 15,
   "metadata": {},
   "outputs": [],
   "source": [
    "n_epochs = 3\n",
    "batch_size = 50\n",
    "\n",
    "hidden_size = 128\n",
    "hidden_layer_depth = 1\n",
    "latent_length = 30\n",
    "learning_rate = 0.0005\n",
    "dropout_rate = 0.0\n",
    "optimizer = 'Adam'                              # options: ADAM, SGD\n",
    "cuda = True                                     # options: True, False\n",
    "print_every=30\n",
    "clip = True                                     # options: True, False\n",
    "max_grad_norm=5\n",
    "loss = 'MSELoss'                                # options: SmoothL1Loss, MSELoss\n",
    "block = 'LSTM'                                  # options: LSTM, GRU\n",
    "saved_model_path = './saved_models'"
   ]
  },
  {
   "cell_type": "code",
   "execution_count": 16,
   "metadata": {},
   "outputs": [
    {
     "name": "stdout",
     "output_type": "stream",
     "text": [
      "Dataset:  SmoothSubspace\n",
      "X_train shape:  (150, 15, 1)\n",
      "y_train shape:  (150, 1)\n",
      "X_test shape:   (150, 15, 1)\n",
      "y_test shape:   (150, 1)\n"
     ]
    }
   ],
   "source": [
    "directory_list = get_files_directory_list()\n",
    "directory_list = sorted(directory_list)\n",
    "\n",
    "random_index = 105\n",
    "random_path = directory_list[random_index]\n",
    "\n",
    "X_train, X_val, y_train, y_val = get_data_from_directory(random_path)\n",
    "X, y = get_data_from_directory(random_path, split=False)\n",
    "\n",
    "\n",
    "print('Dataset: ', random_path)\n",
    "print('X_train shape: ', X_train.shape)\n",
    "print('y_train shape: ', y_train.shape)\n",
    "print('X_test shape:  ', X_val.shape)\n",
    "print('y_test shape:  ', y_val.shape)"
   ]
  },
  {
   "cell_type": "code",
   "execution_count": 17,
   "metadata": {},
   "outputs": [],
   "source": [
    "num_classes = len(np.unique(y_train))\n",
    "base = np.min(y_train)  # Check if data is 0-based\n",
    "if base != 0:\n",
    "    y_train -= base\n",
    "y_val -= base"
   ]
  },
  {
   "cell_type": "code",
   "execution_count": 18,
   "metadata": {},
   "outputs": [],
   "source": [
    "train_dataset = TensorDataset(torch.from_numpy(X_train))\n",
    "test_dataset = TensorDataset(torch.from_numpy(X_val))"
   ]
  },
  {
   "cell_type": "code",
   "execution_count": 19,
   "metadata": {},
   "outputs": [
    {
     "name": "stdout",
     "output_type": "stream",
     "text": [
      "sequence_length 15\n",
      "number_of_features 1\n"
     ]
    }
   ],
   "source": [
    "sequence_length = X_train.shape[1]\n",
    "number_of_features = X_train.shape[2]\n",
    "\n",
    "print('sequence_length', sequence_length)\n",
    "print('number_of_features', number_of_features)"
   ]
  },
  {
   "cell_type": "code",
   "execution_count": 20,
   "metadata": {},
   "outputs": [
    {
     "data": {
      "text/plain": [
       "torch.Size([15, 50, 1])"
      ]
     },
     "execution_count": 20,
     "metadata": {},
     "output_type": "execute_result"
    }
   ],
   "source": [
    "# test GPU\n",
    "torch.zeros(sequence_length, batch_size, 1, requires_grad=True).shape"
   ]
  },
  {
   "cell_type": "code",
   "execution_count": 21,
   "metadata": {},
   "outputs": [],
   "source": [
    "vrae = VRAE(sequence_length=sequence_length,\n",
    "            number_of_features = number_of_features,\n",
    "            hidden_size = hidden_size, \n",
    "            hidden_layer_depth = hidden_layer_depth,\n",
    "            latent_length = latent_length,\n",
    "            batch_size = batch_size,\n",
    "            learning_rate = learning_rate,\n",
    "            n_epochs = n_epochs,\n",
    "            dropout_rate = dropout_rate,\n",
    "            optimizer = optimizer, \n",
    "            cuda = False,\n",
    "            print_every=print_every, \n",
    "            clip=clip, \n",
    "            max_grad_norm=max_grad_norm,\n",
    "            loss = loss,\n",
    "            block = block,\n",
    "            dload = saved_model_path)"
   ]
  },
  {
   "cell_type": "code",
   "execution_count": 23,
   "metadata": {
    "scrolled": true
   },
   "outputs": [
    {
     "name": "stdout",
     "output_type": "stream",
     "text": [
      "Epoch: 0\n",
      "Average loss: 52.4786\n",
      "Epoch: 1\n",
      "Average loss: 47.8753\n",
      "Epoch: 2\n",
      "Average loss: 46.9353\n"
     ]
    }
   ],
   "source": [
    "vrae.fit(train_dataset)"
   ]
  },
  {
   "cell_type": "code",
   "execution_count": 24,
   "metadata": {},
   "outputs": [],
   "source": [
    "vrae.save(random_path+'_vrae.pth')\n",
    "vrae.load(saved_model_path+'/'+random_path+'_vrae.pth')"
   ]
  },
  {
   "cell_type": "code",
   "execution_count": 26,
   "metadata": {},
   "outputs": [
    {
     "data": {
      "text/plain": [
       "(150, 30)"
      ]
     },
     "execution_count": 26,
     "metadata": {},
     "output_type": "execute_result"
    }
   ],
   "source": [
    "z_train = vrae.transform(train_dataset)\n",
    "z_test = vrae.transform(test_dataset)\n",
    "z_test.shape"
   ]
  },
  {
   "cell_type": "code",
   "execution_count": null,
   "metadata": {},
   "outputs": [],
   "source": [
    "print(random_path)\n",
    "plot_clustering(z_run, y_val, engine='matplotlib', download=False)"
   ]
  },
  {
   "cell_type": "code",
   "execution_count": null,
   "metadata": {},
   "outputs": [],
   "source": []
  }
 ],
 "metadata": {
  "kernelspec": {
   "display_name": "Python 3",
   "language": "python",
   "name": "python3"
  },
  "language_info": {
   "codemirror_mode": {
    "name": "ipython",
    "version": 3
   },
   "file_extension": ".py",
   "mimetype": "text/x-python",
   "name": "python",
   "nbconvert_exporter": "python",
   "pygments_lexer": "ipython3",
   "version": "3.6.10"
  }
 },
 "nbformat": 4,
 "nbformat_minor": 2
}
