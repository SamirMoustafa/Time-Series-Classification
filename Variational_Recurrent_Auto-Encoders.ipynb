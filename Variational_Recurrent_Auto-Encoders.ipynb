{
 "cells": [
  {
   "cell_type": "code",
   "execution_count": 1,
   "metadata": {},
   "outputs": [],
   "source": [
    "import numpy as np\n",
    "import torch\n",
    "from torch.utils.data import DataLoader, TensorDataset\n",
    "\n",
    "from src import VRAE\n",
    "from src.utils import *"
   ]
  },
  {
   "cell_type": "code",
   "execution_count": 2,
   "metadata": {},
   "outputs": [],
   "source": [
    "n_epochs = 100\n",
    "\n",
    "hidden_size = 90\n",
    "hidden_layer_depth = 1\n",
    "latent_length = 20\n",
    "batch_size = 8\n",
    "learning_rate = 0.0005\n",
    "dropout_rate = 0.2\n",
    "optimizer = 'Adam' # options: ADAM, SGD\n",
    "cuda = False # options: True, False\n",
    "print_every=30\n",
    "clip = True # options: True, False\n",
    "max_grad_norm=5\n",
    "loss = 'MSELoss' # options: SmoothL1Loss, MSELoss\n",
    "block = 'LSTM' # options: LSTM, GRU\n",
    "saved_model_path = './saved_models'"
   ]
  },
  {
   "cell_type": "code",
   "execution_count": 3,
   "metadata": {},
   "outputs": [],
   "source": [
    "directory_list = get_files_directory_list()\n",
    "random_index = 85\n",
    "random_path = directory_list[random_index]\n",
    "X_train, X_val, y_train, y_val = get_data_from_directory(random_path)\n",
    "X, y = get_data_from_directory(random_path, split=False)"
   ]
  },
  {
   "cell_type": "code",
   "execution_count": 4,
   "metadata": {},
   "outputs": [],
   "source": [
    "num_classes = len(np.unique(y_train))\n",
    "base = np.min(y_train)  # Check if data is 0-based\n",
    "if base != 0:\n",
    "    y_train -= base\n",
    "y_val -= base"
   ]
  },
  {
   "cell_type": "code",
   "execution_count": 5,
   "metadata": {},
   "outputs": [],
   "source": [
    "train_dataset = TensorDataset(torch.from_numpy(X_train))\n",
    "test_dataset = TensorDataset(torch.from_numpy(X_val))"
   ]
  },
  {
   "cell_type": "code",
   "execution_count": 6,
   "metadata": {},
   "outputs": [],
   "source": [
    "sequence_length = X_train.shape[1]"
   ]
  },
  {
   "cell_type": "code",
   "execution_count": 7,
   "metadata": {},
   "outputs": [],
   "source": [
    "number_of_features = X_train.shape[2]"
   ]
  },
  {
   "cell_type": "code",
   "execution_count": 8,
   "metadata": {},
   "outputs": [
    {
     "name": "stderr",
     "output_type": "stream",
     "text": [
      "/home/samir/anaconda3/envs/py36/lib/python3.6/site-packages/torch/nn/modules/rnn.py:51: UserWarning:\n",
      "\n",
      "dropout option adds dropout after all but last recurrent layer, so non-zero dropout expects num_layers greater than 1, but got dropout=0.2 and num_layers=1\n",
      "\n",
      "/home/samir/anaconda3/envs/py36/lib/python3.6/site-packages/torch/nn/_reduction.py:43: UserWarning:\n",
      "\n",
      "size_average and reduce args will be deprecated, please use reduction='sum' instead.\n",
      "\n"
     ]
    }
   ],
   "source": [
    "vrae = VRAE(sequence_length=sequence_length,\n",
    "            number_of_features = number_of_features,\n",
    "            hidden_size = hidden_size, \n",
    "            hidden_layer_depth = hidden_layer_depth,\n",
    "            latent_length = latent_length,\n",
    "            batch_size = batch_size,\n",
    "            learning_rate = learning_rate,\n",
    "            n_epochs = n_epochs,\n",
    "            dropout_rate = dropout_rate,\n",
    "            optimizer = optimizer, \n",
    "            cuda = cuda,\n",
    "            print_every=print_every, \n",
    "            clip=clip, \n",
    "            max_grad_norm=max_grad_norm,\n",
    "            loss = loss,\n",
    "            block = block,\n",
    "            dload = saved_model_path)"
   ]
  },
  {
   "cell_type": "code",
   "execution_count": 9,
   "metadata": {
    "scrolled": true
   },
   "outputs": [
    {
     "name": "stdout",
     "output_type": "stream",
     "text": [
      "Epoch: 0\n",
      "Average loss: 34.8509\n",
      "Epoch: 1\n",
      "Average loss: 12.2903\n",
      "Epoch: 2\n",
      "Average loss: 10.0304\n",
      "Epoch: 3\n",
      "Average loss: 9.5378\n",
      "Epoch: 4\n",
      "Average loss: 9.4338\n",
      "Epoch: 5\n",
      "Average loss: 9.1206\n",
      "Epoch: 6\n",
      "Average loss: 9.1943\n",
      "Epoch: 7\n",
      "Average loss: 8.9481\n",
      "Epoch: 8\n",
      "Average loss: 8.8759\n",
      "Epoch: 9\n",
      "Average loss: 8.9748\n",
      "Epoch: 10\n",
      "Average loss: 8.7738\n",
      "Epoch: 11\n",
      "Average loss: 8.7731\n",
      "Epoch: 12\n",
      "Average loss: 9.0007\n",
      "Epoch: 13\n",
      "Average loss: 8.8029\n",
      "Epoch: 14\n",
      "Average loss: 8.7300\n",
      "Epoch: 15\n",
      "Average loss: 8.7340\n",
      "Epoch: 16\n",
      "Average loss: 8.7209\n",
      "Epoch: 17\n",
      "Average loss: 8.7206\n",
      "Epoch: 18\n",
      "Average loss: 8.6404\n",
      "Epoch: 19\n",
      "Average loss: 8.5692\n",
      "Epoch: 20\n",
      "Average loss: 8.5448\n",
      "Epoch: 21\n",
      "Average loss: 8.3726\n",
      "Epoch: 22\n",
      "Average loss: 8.2477\n",
      "Epoch: 23\n",
      "Average loss: 8.0845\n",
      "Epoch: 24\n",
      "Average loss: 7.9667\n",
      "Epoch: 25\n",
      "Average loss: 7.8760\n",
      "Epoch: 26\n",
      "Average loss: 7.7522\n",
      "Epoch: 27\n",
      "Average loss: 7.7313\n",
      "Epoch: 28\n",
      "Average loss: 7.6789\n",
      "Epoch: 29\n",
      "Average loss: 7.5341\n",
      "Epoch: 30\n",
      "Average loss: 7.5192\n",
      "Epoch: 31\n",
      "Average loss: 7.5005\n",
      "Epoch: 32\n",
      "Average loss: 7.2748\n",
      "Epoch: 33\n",
      "Average loss: 7.1676\n",
      "Epoch: 34\n",
      "Average loss: 7.3018\n",
      "Epoch: 35\n",
      "Average loss: 7.1230\n",
      "Epoch: 36\n",
      "Average loss: 7.2244\n",
      "Epoch: 37\n",
      "Average loss: 7.0767\n",
      "Epoch: 38\n",
      "Average loss: 7.0887\n",
      "Epoch: 39\n",
      "Average loss: 7.0645\n",
      "Epoch: 40\n",
      "Average loss: 7.0872\n",
      "Epoch: 41\n",
      "Average loss: 6.9651\n",
      "Epoch: 42\n",
      "Average loss: 6.9980\n",
      "Epoch: 43\n",
      "Average loss: 7.0639\n",
      "Epoch: 44\n",
      "Average loss: 7.0948\n",
      "Epoch: 45\n",
      "Average loss: 7.0068\n",
      "Epoch: 46\n",
      "Average loss: 7.0098\n",
      "Epoch: 47\n",
      "Average loss: 6.9332\n",
      "Epoch: 48\n",
      "Average loss: 6.9027\n",
      "Epoch: 49\n",
      "Average loss: 7.0097\n",
      "Epoch: 50\n",
      "Average loss: 6.9182\n",
      "Epoch: 51\n",
      "Average loss: 6.8758\n",
      "Epoch: 52\n",
      "Average loss: 6.8639\n",
      "Epoch: 53\n",
      "Average loss: 6.8368\n",
      "Epoch: 54\n",
      "Average loss: 6.7481\n",
      "Epoch: 55\n",
      "Average loss: 6.7932\n",
      "Epoch: 56\n",
      "Average loss: 6.7249\n",
      "Epoch: 57\n",
      "Average loss: 6.8064\n",
      "Epoch: 58\n",
      "Average loss: 6.7753\n",
      "Epoch: 59\n",
      "Average loss: 6.6818\n",
      "Epoch: 60\n",
      "Average loss: 6.7368\n",
      "Epoch: 61\n",
      "Average loss: 6.7560\n",
      "Epoch: 62\n",
      "Average loss: 6.6850\n",
      "Epoch: 63\n",
      "Average loss: 6.6125\n",
      "Epoch: 64\n",
      "Average loss: 6.5142\n",
      "Epoch: 65\n",
      "Average loss: 6.6022\n",
      "Epoch: 66\n",
      "Average loss: 6.4923\n",
      "Epoch: 67\n",
      "Average loss: 6.5129\n",
      "Epoch: 68\n",
      "Average loss: 6.5937\n",
      "Epoch: 69\n",
      "Average loss: 6.4772\n",
      "Epoch: 70\n",
      "Average loss: 6.5446\n",
      "Epoch: 71\n",
      "Average loss: 6.4007\n",
      "Epoch: 72\n",
      "Average loss: 6.3993\n",
      "Epoch: 73\n",
      "Average loss: 6.4342\n",
      "Epoch: 74\n",
      "Average loss: 6.4558\n",
      "Epoch: 75\n",
      "Average loss: 6.4115\n",
      "Epoch: 76\n",
      "Average loss: 6.3744\n",
      "Epoch: 77\n",
      "Average loss: 6.4289\n",
      "Epoch: 78\n",
      "Average loss: 6.3077\n",
      "Epoch: 79\n",
      "Average loss: 6.3786\n",
      "Epoch: 80\n",
      "Average loss: 6.3115\n",
      "Epoch: 81\n",
      "Average loss: 6.3492\n",
      "Epoch: 82\n",
      "Average loss: 6.3868\n",
      "Epoch: 83\n",
      "Average loss: 6.3130\n",
      "Epoch: 84\n",
      "Average loss: 6.3766\n",
      "Epoch: 85\n",
      "Average loss: 6.3174\n",
      "Epoch: 86\n",
      "Average loss: 6.2878\n",
      "Epoch: 87\n",
      "Average loss: 6.2474\n",
      "Epoch: 88\n",
      "Average loss: 6.2681\n",
      "Epoch: 89\n",
      "Average loss: 6.3262\n",
      "Epoch: 90\n",
      "Average loss: 6.2614\n",
      "Epoch: 91\n",
      "Average loss: 6.2792\n",
      "Epoch: 92\n",
      "Average loss: 6.3690\n",
      "Epoch: 93\n",
      "Average loss: 6.2672\n",
      "Epoch: 94\n",
      "Average loss: 6.2682\n",
      "Epoch: 95\n",
      "Average loss: 6.2551\n",
      "Epoch: 96\n",
      "Average loss: 6.2860\n",
      "Epoch: 97\n",
      "Average loss: 6.3096\n",
      "Epoch: 98\n",
      "Average loss: 6.2778\n",
      "Epoch: 99\n",
      "Average loss: 6.2855\n"
     ]
    }
   ],
   "source": [
    "vrae.fit(train_dataset)"
   ]
  },
  {
   "cell_type": "code",
   "execution_count": null,
   "metadata": {},
   "outputs": [],
   "source": []
  },
  {
   "cell_type": "code",
   "execution_count": 11,
   "metadata": {},
   "outputs": [],
   "source": [
    "vrae.save('vrae.pth')\n",
    "vrae.load(saved_model_path+'/vrae.pth')"
   ]
  },
  {
   "cell_type": "code",
   "execution_count": 12,
   "metadata": {},
   "outputs": [],
   "source": [
    "z_run = vrae.transform(train_dataset)"
   ]
  },
  {
   "cell_type": "code",
   "execution_count": 13,
   "metadata": {},
   "outputs": [
    {
     "name": "stdout",
     "output_type": "stream",
     "text": [
      "SmoothSubspace\n"
     ]
    },
    {
     "name": "stderr",
     "output_type": "stream",
     "text": [
      "No handles with labels found to put in legend.\n"
     ]
    },
    {
     "data": {
      "image/png": "[encoded data removed]",
      "text/plain": [
       "<Figure size 432x288 with 1 Axes>"
      ]
     },
     "metadata": {
      "needs_background": "light"
     },
     "output_type": "display_data"
    },
    {
     "data": {
      "image/png": "[encoded data removed]",
      "text/plain": [
       "<Figure size 432x288 with 1 Axes>"
      ]
     },
     "metadata": {
      "needs_background": "light"
     },
     "output_type": "display_data"
    }
   ],
   "source": [
    "print(random_path)\n",
    "plot_clustering(z_run, y_val, engine='matplotlib', download = False)"
   ]
  },
  {
   "cell_type": "code",
   "execution_count": null,
   "metadata": {},
   "outputs": [],
   "source": []
  },
  {
   "cell_type": "code",
   "execution_count": null,
   "metadata": {},
   "outputs": [],
   "source": []
  },
  {
   "cell_type": "code",
   "execution_count": null,
   "metadata": {},
   "outputs": [],
   "source": []
  }
 ],
 "metadata": {
  "kernelspec": {
   "display_name": "Python 3",
   "language": "python",
   "name": "python3"
  },
  "language_info": {
   "codemirror_mode": {
    "name": "ipython",
    "version": 3
   },
   "file_extension": ".py",
   "mimetype": "text/x-python",
   "name": "python",
   "nbconvert_exporter": "python",
   "pygments_lexer": "ipython3",
   "version": "3.6.9"
  }
 },
 "nbformat": 4,
 "nbformat_minor": 2
}
