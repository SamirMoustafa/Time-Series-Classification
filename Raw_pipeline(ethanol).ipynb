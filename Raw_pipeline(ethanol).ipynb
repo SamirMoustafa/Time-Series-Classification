{
 "cells": [
  {
   "cell_type": "markdown",
   "metadata": {
    "colab_type": "text",
    "id": "ziTtGK8H5QCX"
   },
   "source": [
    "Libs: \\\\\n",
    "1. https://github.com/giotto-ai/giotto-tda \\\\\n",
    "tutorial: https://github.com/giotto-ai/beetles-tda/blob/master/Beetle%20Population%20Dynamics.ipynb \\\\\n",
    "2. https://github.com/scikit-tda/ \\\\\n",
    "\n",
    "Repo: https://github.com/SamirMoustafa/Time-Series-Classification \\\\\n",
    "Deep Learning: https://github.com/cauchyturing/UCR_Time_Series_Classification_Deep_Learning_Baseline \\\\\n",
    "\n"
   ]
  },
  {
   "cell_type": "markdown",
   "metadata": {
    "colab_type": "text",
    "id": "cgsiPuJh5LFY"
   },
   "source": [
    "# Instalation \\\\\n",
    "![alt text](https://drive.google.com/uc?id=1BCm2WfNRyqzANzk7bb6OgBqcG85DoeXI)\n",
    "\n"
   ]
  },
  {
   "cell_type": "code",
   "execution_count": 3,
   "metadata": {
    "colab": {
     "base_uri": "https://localhost:8080/",
     "height": 973
    },
    "colab_type": "code",
    "id": "el4mYAElNlIN",
    "outputId": "2d24cf30-3328-4874-95a2-be177618027e"
   },
   "outputs": [],
   "source": [
    "#!pip install giotto-learn\n",
    "#!pip install giotto-tda\n",
    "#!git clone https://github.com/giotto-ai/beetles-tda/ beetles_tda"
   ]
  },
  {
   "cell_type": "code",
   "execution_count": 20,
   "metadata": {
    "colab": {},
    "colab_type": "code",
    "id": "4FYQ_OsYNrQU"
   },
   "outputs": [],
   "source": [
    "from scipy.io import arff\n",
    "import pandas as pd\n",
    "from sklearn.neighbors import KNeighborsClassifier\n",
    "from sklearn.metrics import accuracy_score\n",
    "import giotto.time_series as ts\n",
    "import giotto.homology as hl\n",
    "from giotto.pipeline import Pipeline\n",
    "from beetles_tda.features import get_amplitude, get_max_lifetime, get_mean_lifetime, get_n_rel_holes\n",
    "import numpy as np"
   ]
  },
  {
   "cell_type": "markdown",
   "metadata": {
    "colab_type": "text",
    "id": "kn2UJNtjNjcd"
   },
   "source": [
    "# Data preprocessing"
   ]
  },
  {
   "cell_type": "code",
   "execution_count": null,
   "metadata": {},
   "outputs": [],
   "source": [
    "directory_list = get_files_directory_list()\n",
    "directory_list = sorted(directory_list)\n",
    "\n",
    "random_index = 15\n",
    "random_path = directory_list[random_index]\n",
    "\n",
    "X_train, X_test, y_train, y_test = get_data_from_directory(random_path)\n",
    "X_train = X_train.squeeze()\n",
    "y_train = y_train.squeeze()\n",
    "X_test = X_test.squeeze()\n",
    "y_test = y_test.squeeze()\n",
    "\n",
    "print('Dataset: ', random_path)\n",
    "print('X_train shape: ', X_train.shape)\n",
    "print('y_train shape: ', y_train.shape)\n",
    "print('X_test shape:  ', X_test.shape)\n",
    "print('y_test shape:  ', y_test.shape)"
   ]
  },
  {
   "cell_type": "code",
   "execution_count": 7,
   "metadata": {
    "colab": {},
    "colab_type": "code",
    "id": "I2b1-Bw-QOVo"
   },
   "outputs": [],
   "source": [
    "#EthanolLevel_TRAIN = pd.DataFrame(arff.loadarff('/content/drive/My Drive/EthanolLevel/EthanolLevel_TRAIN.arff')[0])\n",
    "#EthanolLevel_TEST = pd.DataFrame(arff.loadarff('/content/drive/My Drive/EthanolLevel/EthanolLevel_TEST.arff')[0])\n",
    "\n",
    "EthanolLevel_TRAIN = pd.DataFrame(arff.loadarff('EthanolLevel/EthanolLevel_TRAIN.arff')[0])\n",
    "EthanolLevel_TEST = pd.DataFrame(arff.loadarff('EthanolLevel/EthanolLevel_TEST.arff')[0])\n",
    "\n",
    "train_targ = EthanolLevel_TRAIN['target']\n",
    "test_targ = EthanolLevel_TEST['target']\n",
    "\n",
    "train = EthanolLevel_TRAIN.drop(columns='target')\n",
    "test = EthanolLevel_TEST.drop(columns='target')"
   ]
  },
  {
   "cell_type": "code",
   "execution_count": 8,
   "metadata": {
    "colab": {
     "base_uri": "https://localhost:8080/",
     "height": 225
    },
    "colab_type": "code",
    "id": "XUI-gViJRK2I",
    "outputId": "2562a4f3-3ea2-4552-c4c7-6c1af7bd697a"
   },
   "outputs": [
    {
     "name": "stdout",
     "output_type": "stream",
     "text": [
      "[b'1' b'2' b'3' b'4']\n",
      "-> [0. 1. 2. 3.]\n"
     ]
    },
    {
     "name": "stderr",
     "output_type": "stream",
     "text": [
      "C:\\Anaconda\\lib\\site-packages\\ipykernel_launcher.py:3: SettingWithCopyWarning: \n",
      "A value is trying to be set on a copy of a slice from a DataFrame\n",
      "\n",
      "See the caveats in the documentation: http://pandas.pydata.org/pandas-docs/stable/user_guide/indexing.html#returning-a-view-versus-a-copy\n",
      "  This is separate from the ipykernel package so we can avoid doing imports until\n",
      "C:\\Anaconda\\lib\\site-packages\\ipykernel_launcher.py:4: SettingWithCopyWarning: \n",
      "A value is trying to be set on a copy of a slice from a DataFrame\n",
      "\n",
      "See the caveats in the documentation: http://pandas.pydata.org/pandas-docs/stable/user_guide/indexing.html#returning-a-view-versus-a-copy\n",
      "  after removing the cwd from sys.path.\n"
     ]
    }
   ],
   "source": [
    "print(train_targ.unique())\n",
    "for i, indx in zip(train_targ.unique(), [0,1,2,3]):\n",
    "  train_targ[train_targ == i] = indx\n",
    "  test_targ[test_targ==i] = indx\n",
    "train_targ = train_targ.astype(float)\n",
    "test_targ = test_targ.astype(float)\n",
    "print('->', train_targ.unique())"
   ]
  },
  {
   "cell_type": "code",
   "execution_count": 41,
   "metadata": {
    "colab": {
     "base_uri": "https://localhost:8080/",
     "height": 35
    },
    "colab_type": "code",
    "id": "Jp-x1gpkVAPJ",
    "outputId": "a1544f65-6faa-483d-c71c-e2579e1334ba"
   },
   "outputs": [
    {
     "data": {
      "text/plain": [
       "((504, 1751), (504,))"
      ]
     },
     "execution_count": 41,
     "metadata": {},
     "output_type": "execute_result"
    }
   ],
   "source": [
    "train.shape, train_targ.shape"
   ]
  },
  {
   "cell_type": "code",
   "execution_count": 10,
   "metadata": {
    "colab": {
     "base_uri": "https://localhost:8080/",
     "height": 104
    },
    "colab_type": "code",
    "id": "FprsNmScNE7r",
    "outputId": "58c187e1-1c0b-47aa-c110-086a43163434"
   },
   "outputs": [
    {
     "data": {
      "text/plain": [
       "3.0    126\n",
       "2.0    126\n",
       "1.0    126\n",
       "0.0    126\n",
       "Name: target, dtype: int64"
      ]
     },
     "execution_count": 10,
     "metadata": {},
     "output_type": "execute_result"
    }
   ],
   "source": [
    "train_targ.value_counts()"
   ]
  },
  {
   "cell_type": "code",
   "execution_count": 11,
   "metadata": {
    "colab": {},
    "colab_type": "code",
    "id": "vVu0Hh1haWSY"
   },
   "outputs": [],
   "source": [
    "def calculate(train, test):\n",
    "  clf = KNeighborsClassifier()\n",
    "  clf.fit(train, train_targ)\n",
    "  print('train acc: ', accuracy_score(train_targ, clf.predict(train)))\n",
    "  print('test acc:', accuracy_score(test_targ, clf.predict(test)))"
   ]
  },
  {
   "cell_type": "code",
   "execution_count": 12,
   "metadata": {
    "colab": {
     "base_uri": "https://localhost:8080/",
     "height": 52
    },
    "colab_type": "code",
    "id": "8ZolvaL7zw_3",
    "outputId": "948e5633-6d37-40f7-9e26-52721b3ec326"
   },
   "outputs": [
    {
     "name": "stdout",
     "output_type": "stream",
     "text": [
      "train acc:  0.5436507936507936\n",
      "test acc: 0.246\n"
     ]
    }
   ],
   "source": [
    "calculate(train, test)"
   ]
  },
  {
   "cell_type": "markdown",
   "metadata": {
    "colab_type": "text",
    "id": "eEBg7KQ508SY"
   },
   "source": [
    "# TDA approach\n",
    "Embed the time series using Takens' embedding into a higher dimensional space.\\\n",
    "Use the Vietoris-Rips filtration to calculate the persistence diagrams.\\\n",
    "Scale and filter the diagrams."
   ]
  },
  {
   "cell_type": "code",
   "execution_count": 52,
   "metadata": {
    "colab": {},
    "colab_type": "code",
    "id": "Hdka65IP02GG"
   },
   "outputs": [],
   "source": [
    "parameters_type = \"fixed\"\n",
    "embedding_dimension = 2\n",
    "embedding_time_delay = 3\n",
    "n_jobs = 1"
   ]
  },
  {
   "cell_type": "code",
   "execution_count": 53,
   "metadata": {
    "colab": {},
    "colab_type": "code",
    "id": "T2oO17ai4-9M"
   },
   "outputs": [],
   "source": [
    "window_width = train.shape[1] - ((embedding_dimension - 1) * embedding_time_delay + 1)\n",
    "window_stride = 1\n",
    "\n",
    "metric = \"euclidean\"\n",
    "max_edge_length = 10\n",
    "homology_dimensions = [0, 1]\n",
    "\n",
    "epsilon = 0.0"
   ]
  },
  {
   "cell_type": "code",
   "execution_count": 81,
   "metadata": {
    "colab": {},
    "colab_type": "code",
    "id": "3kGJItmef7tF"
   },
   "outputs": [],
   "source": [
    "steps = [\n",
    "    (\n",
    "        \"embedding\",\n",
    "        ts.TakensEmbedding(\n",
    "            parameters_type=parameters_type,\n",
    "            dimension=embedding_dimension,\n",
    "            time_delay=embedding_time_delay,\n",
    "            n_jobs=n_jobs,\n",
    "        ),\n",
    "    ),\n",
    "    (\"window\", ts.SlidingWindow(width=window_width, stride=1)),\n",
    "    (\n",
    "        \"diagrams\",\n",
    "        hl.VietorisRipsPersistence(\n",
    "            metric=metric,\n",
    "            max_edge_length=max_edge_length,\n",
    "            homology_dimensions=homology_dimensions,\n",
    "            n_jobs=n_jobs,\n",
    "        ),\n",
    "    ),\n",
    "]\n",
    "pipeline = Pipeline(steps)"
   ]
  },
  {
   "cell_type": "code",
   "execution_count": 57,
   "metadata": {},
   "outputs": [],
   "source": [
    "embedding = ts.TakensEmbedding(\n",
    "            parameters_type=\"fixed\",\n",
    "            dimension=embedding_dimension,\n",
    "            time_delay=embedding_time_delay,\n",
    "            n_jobs=-1,\n",
    "        )"
   ]
  },
  {
   "cell_type": "code",
   "execution_count": 72,
   "metadata": {},
   "outputs": [
    {
     "data": {
      "text/plain": [
       "(1751,)"
      ]
     },
     "execution_count": 72,
     "metadata": {},
     "output_type": "execute_result"
    }
   ],
   "source": [
    "train.iloc[0].shape"
   ]
  },
  {
   "cell_type": "code",
   "execution_count": 73,
   "metadata": {},
   "outputs": [
    {
     "data": {
      "text/plain": [
       "(1748, 2)"
      ]
     },
     "execution_count": 73,
     "metadata": {},
     "output_type": "execute_result"
    }
   ],
   "source": [
    "r1 = embedding.fit_transform(train.iloc[0])\n",
    "r1.shape"
   ]
  },
  {
   "cell_type": "code",
   "execution_count": 74,
   "metadata": {},
   "outputs": [],
   "source": [
    "window = ts.SlidingWindow(width=window_width, stride=1)"
   ]
  },
  {
   "cell_type": "code",
   "execution_count": 78,
   "metadata": {},
   "outputs": [
    {
     "data": {
      "text/plain": [
       "(1, 1748, 2)"
      ]
     },
     "execution_count": 78,
     "metadata": {},
     "output_type": "execute_result"
    }
   ],
   "source": [
    "r2 = window.fit_transform(r1)\n",
    "r2.shape"
   ]
  },
  {
   "cell_type": "code",
   "execution_count": 79,
   "metadata": {},
   "outputs": [],
   "source": [
    "diagrams = hl.VietorisRipsPersistence(\n",
    "            metric=metric,\n",
    "            max_edge_length=max_edge_length,\n",
    "            homology_dimensions=homology_dimensions,\n",
    "            n_jobs=n_jobs,\n",
    "        )"
   ]
  },
  {
   "cell_type": "code",
   "execution_count": 80,
   "metadata": {},
   "outputs": [
    {
     "data": {
      "text/plain": [
       "(1, 2078, 3)"
      ]
     },
     "execution_count": 80,
     "metadata": {},
     "output_type": "execute_result"
    }
   ],
   "source": [
    "r3 = diagrams.fit_transform(r2)\n",
    "r3.shape"
   ]
  },
  {
   "cell_type": "code",
   "execution_count": 108,
   "metadata": {},
   "outputs": [],
   "source": [
    "def feature_transform(X):\n",
    "    X_filtered = np.zeros((1, 2078, 3))\n",
    "    for i, x in enumerate(X):\n",
    "        print(i)\n",
    "        x_filtered = pipeline.fit_transform(X.iloc[i])\n",
    "        X_filtered = np.vstack((X_filtered,x_filtered))\n",
    "    return X_filtered"
   ]
  },
  {
   "cell_type": "code",
   "execution_count": null,
   "metadata": {},
   "outputs": [],
   "source": [
    "train_new = feature_transform(train)"
   ]
  },
  {
   "cell_type": "code",
   "execution_count": null,
   "metadata": {},
   "outputs": [],
   "source": []
  },
  {
   "cell_type": "code",
   "execution_count": null,
   "metadata": {},
   "outputs": [],
   "source": []
  },
  {
   "cell_type": "code",
   "execution_count": null,
   "metadata": {
    "colab": {
     "base_uri": "https://localhost:8080/",
     "height": 305
    },
    "colab_type": "code",
    "id": "8dVg7vEOLDK9",
    "outputId": "367091cf-06b4-45c2-93bc-66067cb90ab6"
   },
   "outputs": [],
   "source": [
    "train_new = feature_transform(train)\n",
    "train_new =np.save('train_new.npy', train_new)\n",
    "train_new = np.load('train_new.npy')"
   ]
  },
  {
   "cell_type": "code",
   "execution_count": null,
   "metadata": {
    "colab": {},
    "colab_type": "code",
    "id": "_i_tk4eSjOLM"
   },
   "outputs": [],
   "source": [
    "test_new = feature_transform(test)\n",
    "test_new =np.save('test_new.npy', test_new)\n",
    "test_new = np.load('test_new.npy')"
   ]
  },
  {
   "cell_type": "code",
   "execution_count": 0,
   "metadata": {
    "colab": {},
    "colab_type": "code",
    "id": "whaGbYSyzBKW"
   },
   "outputs": [],
   "source": []
  }
 ],
 "metadata": {
  "accelerator": "GPU",
  "colab": {
   "name": "ML-poj.ipynb",
   "provenance": []
  },
  "kernelspec": {
   "display_name": "Python 3",
   "language": "python",
   "name": "python3"
  },
  "language_info": {
   "codemirror_mode": {
    "name": "ipython",
    "version": 3
   },
   "file_extension": ".py",
   "mimetype": "text/x-python",
   "name": "python",
   "nbconvert_exporter": "python",
   "pygments_lexer": "ipython3",
   "version": "3.6.9"
  }
 },
 "nbformat": 4,
 "nbformat_minor": 1
}
