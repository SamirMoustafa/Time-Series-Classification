{
 "cells": [
  {
   "cell_type": "code",
   "execution_count": 1,
   "metadata": {},
   "outputs": [],
   "source": [
    "#!pip install sktime\n",
    "#!pip install giotto-tda\n",
    "#!pip install openml"
   ]
  },
  {
   "cell_type": "code",
   "execution_count": 2,
   "metadata": {},
   "outputs": [],
   "source": [
    "import openml"
   ]
  },
  {
   "cell_type": "code",
   "execution_count": 3,
   "metadata": {},
   "outputs": [],
   "source": [
    "%matplotlib inline"
   ]
  },
  {
   "cell_type": "code",
   "execution_count": 4,
   "metadata": {},
   "outputs": [],
   "source": [
    "from sklearn.preprocessing import StandardScaler\n",
    "\n",
    "from xgboost import XGBClassifier\n",
    "from catboost import CatBoostClassifier\n",
    "from sklearn.neighbors import KNeighborsClassifier\n",
    "from sklearn.ensemble import RandomForestClassifier, StackingClassifier\n",
    "from sklearn.tree import DecisionTreeClassifier\n",
    "from sklearn.linear_model import LogisticRegression\n",
    "from sklearn.svm import SVC\n",
    "\n",
    "from sklearn.model_selection import GridSearchCV, StratifiedKFold\n",
    "\n",
    "from sklearn.metrics import accuracy_score\n",
    "\n",
    "import torch\n",
    "from torch import nn\n",
    "from torch.utils.data import DataLoader, Dataset\n",
    "### our imports\n",
    "\n",
    "from src.utils import *\n",
    "from src.TFE import *\n",
    "from src import *"
   ]
  },
  {
   "cell_type": "code",
   "execution_count": 5,
   "metadata": {},
   "outputs": [],
   "source": [
    "#!wget -nc \"http://www.timeseriesclassification.com/Downloads/Archives/Univariate2018_arff.zip\"\n",
    "#!unzip -q -n \"Univariate2018_arff.zip\""
   ]
  },
  {
   "cell_type": "code",
   "execution_count": 6,
   "metadata": {},
   "outputs": [
    {
     "name": "stdout",
     "output_type": "stream",
     "text": [
      "Dataset:  Symbols\n",
      "X_train shape:  (25, 398)\n",
      "y_train shape:  (25,)\n",
      "X_test shape:   (995, 398)\n",
      "y_test shape:   (995,)\n",
      "num. of class:  6\n"
     ]
    }
   ],
   "source": [
    "directory_list = get_files_directory_list()\n",
    "directory_list = sorted(directory_list)\n",
    "\n",
    "random_index =  111\n",
    "random_path = directory_list[random_index]\n",
    "\n",
    "X_train, X_test, y_train, y_test = get_data_from_directory(random_path)\n",
    "X_train = X_train.squeeze()\n",
    "y_train = y_train.squeeze()\n",
    "X_test = X_test.squeeze()\n",
    "y_test = y_test.squeeze()\n",
    "num_classes = np.unique(y_train).shape[0]\n",
    "\n",
    "print('Dataset: ', random_path)\n",
    "print('X_train shape: ', X_train.shape)\n",
    "print('y_train shape: ', y_train.shape)\n",
    "print('X_test shape:  ', X_test.shape)\n",
    "print('y_test shape:  ', y_test.shape)\n",
    "print('num. of class: ', num_classes)"
   ]
  },
  {
   "cell_type": "code",
   "execution_count": 7,
   "metadata": {},
   "outputs": [
    {
     "name": "stdout",
     "output_type": "stream",
     "text": [
      "CPU times: user 1min 44s, sys: 9.44 s, total: 1min 54s\n",
      "Wall time: 2min 13s\n"
     ]
    }
   ],
   "source": [
    "%%time\n",
    "\n",
    "feature_extractor = TopologicalFeaturesExtractor(\n",
    "    persistence_diagram_extractor=PersistenceDiagramsExtractor(tokens_embedding_dim=2, \n",
    "                                                               tokens_embedding_delay=3,\n",
    "                                                               homology_dimensions=(0, 1),\n",
    "                                                               parallel=True),\n",
    "    persistence_diagram_features=[HolesNumberFeature(),\n",
    "                                  MaxHoleLifeTimeFeature(),\n",
    "                                  RelevantHolesNumber(),\n",
    "                                  AverageHoleLifetimeFeature(),\n",
    "                                  SumHoleLifetimeFeature(),\n",
    "                                  PersistenceEntropyFeature(),\n",
    "                                  SimultaneousAliveHolesFeatue(),\n",
    "                                  AveragePersistenceLandscapeFeature(),\n",
    "                                  BettiNumbersSumFeature(),\n",
    "                                  RadiusAtMaxBNFeature()])\n",
    "\n",
    "X_train_transformed = feature_extractor.fit_transform(X_train)\n",
    "X_test_transformed = feature_extractor.fit_transform(X_test)"
   ]
  },
  {
   "cell_type": "code",
   "execution_count": 8,
   "metadata": {},
   "outputs": [
    {
     "name": "stdout",
     "output_type": "stream",
     "text": [
      "X_train_transformed shape:  (25, 19)\n",
      "X_test_transformed shape:   (995, 19)\n"
     ]
    }
   ],
   "source": [
    "print('X_train_transformed shape: ', X_train_transformed.shape)\n",
    "print('X_test_transformed shape:  ', X_test_transformed.shape)"
   ]
  },
  {
   "cell_type": "code",
   "execution_count": 9,
   "metadata": {},
   "outputs": [],
   "source": [
    "class Experiment:\n",
    "    def __init__(self, model, parameters_grid, cv, scoring, n_jobs = -1):\n",
    "        self.model = model\n",
    "        self.parameters = parameters_grid\n",
    "        self.cv = cv \n",
    "        self.scoring = scoring,\n",
    "        self.jobs = n_jobs\n",
    "        \n",
    "    def GridSearchFit(self, X_train_transformed, y_train, y_test):\n",
    "        self.model_cv = GridSearchCV(self.model, param_grid = self.parameters, cv = self.cv, \n",
    "                                    scoring = self.scoring, n_jobs = self.jobs)\n",
    "        self.model_cv.fit(X_train_transformed, y_train)\n",
    "        return accuracy_score(y_test, self.model_cv.best_estimator_.predict(X_test_transformed))"
   ]
  },
  {
   "cell_type": "code",
   "execution_count": 10,
   "metadata": {},
   "outputs": [
    {
     "name": "stdout",
     "output_type": "stream",
     "text": [
      "Train accuracy:  0.92\n",
      "Test accuracy:  0.44321608040201005\n"
     ]
    }
   ],
   "source": [
    "parameters = {\"C\": [10**i for i in range(-2, 5)],\n",
    "              \"kernel\": [\"linear\", \"rbf\", \"sigmoid\", \"poly\"]}\n",
    "\n",
    "svc_cv = GridSearchCV(SVC(random_state=42), \n",
    "                      param_grid=parameters,\n",
    "                      cv=StratifiedKFold(n_splits=2, shuffle=True, random_state=42),\n",
    "                      scoring='accuracy', \n",
    "                      n_jobs=-1)\n",
    "svc_cv.fit(X_train_transformed, y_train)\n",
    "\n",
    "print(\"Train accuracy: \", accuracy_score(y_train, svc_cv.best_estimator_.predict(X_train_transformed)))\n",
    "print(\"Test accuracy: \", accuracy_score(y_test, svc_cv.best_estimator_.predict(X_test_transformed)))"
   ]
  },
  {
   "cell_type": "code",
   "execution_count": 11,
   "metadata": {},
   "outputs": [
    {
     "name": "stdout",
     "output_type": "stream",
     "text": [
      "Train accuracy:  1.0\n",
      "Test accuracy:  0.7557788944723618\n"
     ]
    }
   ],
   "source": [
    "parameters = {\"max_depth\": [2, 10, 15, 20, 25, 30, 35, 40, 45, 50, 70, 100, 120, 150],\n",
    "              \"n_estimators\": [20, 50, 100, 150, 200, 250]}\n",
    "svc_cv = GridSearchCV(XGBClassifier(n_jobs=-1, random_state=42), \n",
    "                      param_grid=parameters,\n",
    "                      cv=StratifiedKFold(n_splits=2, shuffle=True, random_state=42),\n",
    "                      scoring='accuracy', \n",
    "                      n_jobs=-1)\n",
    "svc_cv.fit(X_train_transformed, y_train)\n",
    "\n",
    "print(\"Train accuracy: \", accuracy_score(y_train, svc_cv.best_estimator_.predict(X_train_transformed)))\n",
    "print(\"Test accuracy: \", accuracy_score(y_test, svc_cv.best_estimator_.predict(X_test_transformed)))"
   ]
  },
  {
   "cell_type": "code",
   "execution_count": 12,
   "metadata": {},
   "outputs": [
    {
     "name": "stdout",
     "output_type": "stream",
     "text": [
      "Train accuracy:  0.68\n",
      "Test accuracy:  0.29246231155778896\n"
     ]
    }
   ],
   "source": [
    "parameters = {\"n_neighbors\": [3, 5, 7, 11,]}\n",
    "\n",
    "knn_cv = GridSearchCV(KNeighborsClassifier(n_jobs=-1), \n",
    "                      param_grid=parameters,\n",
    "                      cv=StratifiedKFold(n_splits=2, shuffle=True, random_state=42),\n",
    "                      scoring='accuracy', \n",
    "                      n_jobs=-1)\n",
    "knn_cv.fit(X_train_transformed, y_train)\n",
    "\n",
    "print(\"Train accuracy: \", accuracy_score(y_train, knn_cv.best_estimator_.predict(X_train_transformed)))\n",
    "print(\"Test accuracy: \", accuracy_score(y_test, knn_cv.best_estimator_.predict(X_test_transformed)))"
   ]
  },
  {
   "cell_type": "code",
   "execution_count": 13,
   "metadata": {},
   "outputs": [
    {
     "name": "stdout",
     "output_type": "stream",
     "text": [
      "Dataset:  Symbols\n",
      "Train accuracy:  1.0\n",
      "Test accuracy:  0.7507537688442211\n"
     ]
    }
   ],
   "source": [
    "parameters = {\"max_depth\": [2, 10, 15, 20, 25, 30, 35, 40, 45, 50, 70, 100, 120, 150],\n",
    "              \"n_estimators\": [20, 50, 100, 150, 200, 250],\n",
    "              \"early_stopping_rounds\": [2, 5, 8, 10, 50, 200]}\n",
    "\n",
    "\n",
    "cat_cv = GridSearchCV(CatBoostClassifier(random_state=42, verbose=False), \n",
    "                      param_grid=parameters,\n",
    "                      cv=StratifiedKFold(n_splits=2, shuffle=True, random_state=42),\n",
    "                      scoring='accuracy', \n",
    "                      n_jobs=-1)\n",
    "\n",
    "cat_cv.fit(X_train_transformed, y_train)\n",
    "\n",
    "print('Dataset: ', random_path)\n",
    "print(\"Train accuracy: \", accuracy_score(y_train, cat_cv.best_estimator_.predict(X_train_transformed)))\n",
    "print(\"Test accuracy: \", accuracy_score(y_test, cat_cv.best_estimator_.predict(X_test_transformed)))"
   ]
  },
  {
   "cell_type": "code",
   "execution_count": 14,
   "metadata": {},
   "outputs": [],
   "source": [
    "torch.manual_seed(0)\n",
    "torch.backends.cudnn.deterministic = True\n",
    "torch.backends.cudnn.benchmark = False\n",
    "np.random.seed(0)\n",
    "\n",
    "device = get_device()\n",
    "batch_size = 32\n",
    "latent_dim = num_classes * 4"
   ]
  },
  {
   "cell_type": "code",
   "execution_count": 15,
   "metadata": {},
   "outputs": [
    {
     "data": {
      "text/plain": [
       "torch.Size([25, 1, 19])"
      ]
     },
     "execution_count": 15,
     "metadata": {},
     "output_type": "execute_result"
    }
   ],
   "source": [
    "scale = StandardScaler()\n",
    "scale.fit(X_train_transformed)\n",
    "\n",
    "X_train_transformed_dim = handle_dim(X_train_transformed, scale)\n",
    "X_test_transformed_dim = handle_dim(X_test_transformed, scale)\n",
    "\n",
    "y_hot_train = one_hot_encoding(y_train)\n",
    "y_hot_test = one_hot_encoding(y_test)\n",
    "\n",
    "dataset_train = TimeSeriesDataLoader(X_train_transformed_dim, y_hot_train, batch_size)\n",
    "dataset_test = TimeSeriesDataLoader(X_test_transformed_dim, y_hot_test, batch_size)\n",
    "\n",
    "test_data = torch.zeros(dataset_train.dataset[:][0].shape)\n",
    "test_data.shape"
   ]
  },
  {
   "cell_type": "code",
   "execution_count": 16,
   "metadata": {},
   "outputs": [
    {
     "name": "stdout",
     "output_type": "stream",
     "text": [
      "Number of parameters: 23633\n"
     ]
    }
   ],
   "source": [
    "vae = VariationalAutoencoder(batch_size=batch_size, latent_dims=latent_dim, test_data=test_data)\n",
    "vae = vae.to(device)\n",
    "\n",
    "optimizer = torch.optim.Adam(params=vae.parameters(), lr=2e-3, weight_decay=1e-5)\n",
    "num_params = sum(p.numel() for p in vae.parameters() if p.requires_grad)\n",
    "print('Number of parameters: %d' % num_params)"
   ]
  },
  {
   "cell_type": "code",
   "execution_count": 17,
   "metadata": {
    "scrolled": false
   },
   "outputs": [
    {
     "data": {
      "text/html": [],
      "text/plain": [
       "<IPython.core.display.HTML object>"
      ]
     },
     "metadata": {},
     "output_type": "display_data"
    },
    {
     "data": {
      "image/png": "[encoded data removed]",
      "text/plain": [
       "<Figure size 432x288 with 1 Axes>"
      ]
     },
     "metadata": {},
     "output_type": "display_data"
    },
    {
     "data": {
      "text/plain": [
       "VariationalAutoencoder(\n",
       "  (encoder): Encoder(\n",
       "    (conv1): Conv1d(1, 32, kernel_size=(4,), stride=(2,), padding=(1,))\n",
       "    (conv2): Conv1d(32, 64, kernel_size=(4,), stride=(2,), padding=(1,))\n",
       "    (fc_mu): Linear(in_features=256, out_features=24, bias=True)\n",
       "    (fc_logvar): Linear(in_features=256, out_features=24, bias=True)\n",
       "  )\n",
       "  (decoder): Decoder(\n",
       "    (fc): Linear(in_features=24, out_features=96, bias=True)\n",
       "    (conv2): ConvTranspose1d(32, 1, kernel_size=(15,), stride=(3,), padding=(1,))\n",
       "  )\n",
       ")"
      ]
     },
     "execution_count": 17,
     "metadata": {},
     "output_type": "execute_result"
    }
   ],
   "source": [
    "train_AE(1000, vae, dataset_train, dataset_test, optimizer, device, verbose=True)"
   ]
  },
  {
   "cell_type": "code",
   "execution_count": 18,
   "metadata": {},
   "outputs": [],
   "source": [
    "from_vae_loader2numpy = lambda model, x: model.transform(x.dataset[:][0]).cpu().detach().numpy()"
   ]
  },
  {
   "cell_type": "code",
   "execution_count": 19,
   "metadata": {},
   "outputs": [],
   "source": [
    "z_train = from_vae_loader2numpy(vae, dataset_train)\n",
    "z_test = from_vae_loader2numpy(vae, dataset_test)"
   ]
  },
  {
   "cell_type": "code",
   "execution_count": null,
   "metadata": {},
   "outputs": [],
   "source": []
  },
  {
   "cell_type": "code",
   "execution_count": 20,
   "metadata": {},
   "outputs": [
    {
     "name": "stdout",
     "output_type": "stream",
     "text": [
      "Dataset:  Symbols\n",
      "Train accuracy:  1.0\n",
      "Test accuracy:  0.6371859296482412\n"
     ]
    }
   ],
   "source": [
    "parameters = {\"max_depth\": [2, 10, 15, 20, 25, 30, 35, 40, 45, 50, 70, 100, 120, 150],\n",
    "              \"n_estimators\": [20, 50, 100, 150, 200, 250]}\n",
    "svc_cv = GridSearchCV(XGBClassifier(n_jobs=-1, random_state=42), \n",
    "                      param_grid=parameters,\n",
    "                      cv=StratifiedKFold(n_splits=2, shuffle=True, random_state=42),\n",
    "                      scoring='accuracy', \n",
    "                      n_jobs=-1)\n",
    "svc_cv.fit(z_train, y_train)\n",
    "\n",
    "print('Dataset: ', random_path)\n",
    "print(\"Train accuracy: \", accuracy_score(y_train, svc_cv.best_estimator_.predict(z_train)))\n",
    "print(\"Test accuracy: \", accuracy_score(y_test, svc_cv.best_estimator_.predict(z_test)))"
   ]
  },
  {
   "cell_type": "code",
   "execution_count": 21,
   "metadata": {},
   "outputs": [
    {
     "name": "stdout",
     "output_type": "stream",
     "text": [
      "Dataset:  Symbols\n",
      "Train accuracy:  1.0\n",
      "Test accuracy:  0.8020100502512563\n"
     ]
    }
   ],
   "source": [
    "parameters = {\"C\": [10**i for i in range(-2, 5)],\n",
    "              \"kernel\": [\"linear\", \"rbf\", \"sigmoid\", \"poly\"]}\n",
    "\n",
    "svc_cv = GridSearchCV(SVC(random_state=42), \n",
    "                      param_grid=parameters,\n",
    "                      cv=StratifiedKFold(n_splits=2, shuffle=True, random_state=42),\n",
    "                      scoring='accuracy', \n",
    "                      n_jobs=-1)\n",
    "svc_cv.fit(z_train, y_train)\n",
    "\n",
    "print('Dataset: ', random_path)\n",
    "print(\"Train accuracy: \", accuracy_score(y_train, svc_cv.best_estimator_.predict(z_train)))\n",
    "print(\"Test accuracy: \", accuracy_score(y_test, svc_cv.best_estimator_.predict(z_test)))"
   ]
  },
  {
   "cell_type": "code",
   "execution_count": 22,
   "metadata": {},
   "outputs": [
    {
     "name": "stdout",
     "output_type": "stream",
     "text": [
      "Dataset:  Symbols\n",
      "Train accuracy:  0.92\n",
      "Test accuracy:  0.6623115577889447\n"
     ]
    }
   ],
   "source": [
    "parameters = {\"n_neighbors\": [1, 2, 3, 5, 7, 11,]}\n",
    "\n",
    "knn_cv = GridSearchCV(KNeighborsClassifier(n_jobs=-1), \n",
    "                      param_grid=parameters,\n",
    "                      cv=StratifiedKFold(n_splits=2, shuffle=True, random_state=42),\n",
    "                      scoring='accuracy', \n",
    "                      n_jobs=-1)\n",
    "knn_cv.fit(z_train, y_train)\n",
    "\n",
    "print('Dataset: ', random_path)\n",
    "print(\"Train accuracy: \", accuracy_score(y_train, knn_cv.best_estimator_.predict(z_train)))\n",
    "print(\"Test accuracy: \", accuracy_score(y_test, knn_cv.best_estimator_.predict(z_test)))"
   ]
  },
  {
   "cell_type": "code",
   "execution_count": 23,
   "metadata": {},
   "outputs": [
    {
     "name": "stdout",
     "output_type": "stream",
     "text": [
      "Dataset:  Symbols\n",
      "Train accuracy:  1.0\n",
      "Test accuracy:  0.6984924623115578\n"
     ]
    }
   ],
   "source": [
    "parameters = {\"max_depth\": [2, 10, 15, 20, 25, 30, 35, 40, 45, 50, 70, 100, 120, 150],\n",
    "              \"n_estimators\": [20, 50, 100, 150, 200, 250],\n",
    "              \"early_stopping_rounds\": [2, 5, 8, 10, 50, 200]}\n",
    "\n",
    "\n",
    "cat_cv = GridSearchCV(CatBoostClassifier(random_state=42, verbose=False), \n",
    "                      param_grid=parameters,\n",
    "                      cv=StratifiedKFold(n_splits=2, shuffle=True, random_state=42),\n",
    "                      scoring='accuracy', \n",
    "                      n_jobs=-1)\n",
    "\n",
    "cat_cv.fit(z_train, y_train)\n",
    "\n",
    "print('Dataset: ', random_path)\n",
    "print(\"Train accuracy: \", accuracy_score(y_train, cat_cv.best_estimator_.predict(z_train)))\n",
    "print(\"Test accuracy: \", accuracy_score(y_test, cat_cv.best_estimator_.predict(z_test)))"
   ]
  },
  {
   "cell_type": "code",
   "execution_count": 24,
   "metadata": {},
   "outputs": [
    {
     "data": {
      "text/html": [],
      "text/plain": [
       "<IPython.core.display.HTML object>"
      ]
     },
     "metadata": {},
     "output_type": "display_data"
    },
    {
     "name": "stderr",
     "output_type": "stream",
     "text": [
      "/home/samir/miniconda3/envs/py36/lib/python3.6/site-packages/numpy/core/fromnumeric.py:3335: RuntimeWarning:\n",
      "\n",
      "Mean of empty slice.\n",
      "\n",
      "/home/samir/miniconda3/envs/py36/lib/python3.6/site-packages/numpy/core/_methods.py:161: RuntimeWarning:\n",
      "\n",
      "invalid value encountered in double_scalars\n",
      "\n",
      "/home/samir/Desktop/repositories/Time-Series-Classification/src/utils.py:84: UserWarning:\n",
      "\n",
      "To copy construct from a tensor, it is recommended to use sourceTensor.clone().detach() or sourceTensor.clone().detach().requires_grad_(True), rather than torch.tensor(sourceTensor).\n",
      "\n"
     ]
    }
   ],
   "source": [
    "neural_net_params = {'in_features=latent_dim': latent_dim,\n",
    "                         'out_features': num_classes,\n",
    "                         'depth': 4}\n",
    "\n",
    "net = ANN(latent_dim, num_classes, device)\n",
    "net.fit(z_train, y_train)\n",
    "\n",
    "y_train_pred = net.predict(z_train)\n",
    "y_test_pred = net.predict(z_test)\n",
    "\n",
    "acc_train = accuracy_score(y_train, y_train_pred)\n",
    "acc_test = accuracy_score(y_test, y_test_pred)"
   ]
  }
 ],
 "metadata": {
  "kernelspec": {
   "display_name": "Python 3",
   "language": "python",
   "name": "python3"
  },
  "language_info": {
   "codemirror_mode": {
    "name": "ipython",
    "version": 3
   },
   "file_extension": ".py",
   "mimetype": "text/x-python",
   "name": "python",
   "nbconvert_exporter": "python",
   "pygments_lexer": "ipython3",
   "version": "3.6.10"
  },
  "pycharm": {
   "stem_cell": {
    "cell_type": "raw",
    "metadata": {
     "collapsed": false
    },
    "source": []
   }
  }
 },
 "nbformat": 4,
 "nbformat_minor": 4
}
