{
 "cells": [
  {
   "cell_type": "code",
   "execution_count": 1,
   "metadata": {},
   "outputs": [],
   "source": [
    "#!pip install sktime\n",
    "#!pip install giotto-tda\n",
    "#!pip install openml"
   ]
  },
  {
   "cell_type": "code",
   "execution_count": 2,
   "metadata": {},
   "outputs": [],
   "source": [
    "import openml"
   ]
  },
  {
   "cell_type": "code",
   "execution_count": 3,
   "metadata": {},
   "outputs": [],
   "source": [
    "%matplotlib inline"
   ]
  },
  {
   "cell_type": "code",
   "execution_count": 33,
   "metadata": {},
   "outputs": [],
   "source": [
    "from sklearn.preprocessing import StandardScaler\n",
    "\n",
    "from xgboost import XGBClassifier\n",
    "from catboost import CatBoostClassifier\n",
    "from sklearn.neighbors import KNeighborsClassifier\n",
    "from sklearn.ensemble import RandomForestClassifier, StackingClassifier\n",
    "from sklearn.tree import DecisionTreeClassifier\n",
    "from sklearn.linear_model import LogisticRegression\n",
    "from sklearn.svm import SVC\n",
    "\n",
    "from sklearn.model_selection import GridSearchCV, StratifiedKFold\n",
    "\n",
    "from sklearn.metrics import accuracy_score\n",
    "\n",
    "import torch\n",
    "from torch import nn\n",
    "import torch.nn.functional as F\n",
    "from torch.autograd import Variable\n",
    "from torch.utils.data import DataLoader, Dataset\n",
    "### our imports\n",
    "\n",
    "from src.utils import (get_data_from_directory, get_files_directory_list, \n",
    "                       one_hot_encoding, TimeSeriesDataset,get_device, train_clf, train_AE)\n",
    "\n",
    "from src.TFE import *\n",
    "from src import VariationalAutoencoder"
   ]
  },
  {
   "cell_type": "code",
   "execution_count": 5,
   "metadata": {},
   "outputs": [],
   "source": [
    "#!wget -nc \"http://www.timeseriesclassification.com/Downloads/Archives/Univariate2018_arff.zip\"\n",
    "#!unzip -q -n \"Univariate2018_arff.zip\""
   ]
  },
  {
   "cell_type": "code",
   "execution_count": 6,
   "metadata": {},
   "outputs": [
    {
     "name": "stdout",
     "output_type": "stream",
     "text": [
      "Dataset:  Lightning7\n",
      "X_train shape:  (70, 319)\n",
      "y_train shape:  (70,)\n",
      "X_test shape:   (73, 319)\n",
      "y_test shape:   (73,)\n",
      "num. of class:  7\n"
     ]
    }
   ],
   "source": [
    "directory_list = get_files_directory_list()\n",
    "directory_list = sorted(directory_list)\n",
    "\n",
    "random_index =  67\n",
    "random_path = directory_list[random_index]\n",
    "\n",
    "X_train, X_test, y_train, y_test = get_data_from_directory(random_path)\n",
    "X_train = X_train.squeeze()\n",
    "y_train = y_train.squeeze()\n",
    "X_test = X_test.squeeze()\n",
    "y_test = y_test.squeeze()\n",
    "num_classes = np.unique(y_train).shape[0]\n",
    "\n",
    "print('Dataset: ', random_path)\n",
    "print('X_train shape: ', X_train.shape)\n",
    "print('y_train shape: ', y_train.shape)\n",
    "print('X_test shape:  ', X_test.shape)\n",
    "print('y_test shape:  ', y_test.shape)\n",
    "print('num. of class: ', num_classes)"
   ]
  },
  {
   "cell_type": "code",
   "execution_count": 7,
   "metadata": {},
   "outputs": [
    {
     "name": "stdout",
     "output_type": "stream",
     "text": [
      "CPU times: user 13.4 s, sys: 2.1 s, total: 15.5 s\n",
      "Wall time: 36.3 s\n"
     ]
    }
   ],
   "source": [
    "%%time\n",
    "\n",
    "feature_extractor = TopologicalFeaturesExtractor(\n",
    "    persistence_diagram_extractor=PersistenceDiagramsExtractor(tokens_embedding_dim=2, \n",
    "                                                               tokens_embedding_delay=3,\n",
    "                                                               homology_dimensions=(0, 1),\n",
    "                                                               parallel=True),\n",
    "    persistence_diagram_features=[HolesNumberFeature(),\n",
    "                                  MaxHoleLifeTimeFeature(),\n",
    "                                  RelevantHolesNumber(),\n",
    "                                  AverageHoleLifetimeFeature(),\n",
    "                                  SumHoleLifetimeFeature(),\n",
    "                                  PersistenceEntropyFeature(),\n",
    "                                  SimultaneousAliveHolesFeatue(),\n",
    "                                  AveragePersistenceLandscapeFeature(),\n",
    "                                  BettiNumbersSumFeature(),\n",
    "                                  RadiusAtMaxBNFeature()])\n",
    "\n",
    "X_train_transformed = feature_extractor.fit_transform(X_train)\n",
    "X_test_transformed = feature_extractor.fit_transform(X_test)"
   ]
  },
  {
   "cell_type": "code",
   "execution_count": 8,
   "metadata": {},
   "outputs": [
    {
     "name": "stdout",
     "output_type": "stream",
     "text": [
      "X_train_transformed shape:  (70, 19)\n",
      "X_test_transformed shape:   (73, 19)\n"
     ]
    }
   ],
   "source": [
    "print('X_train_transformed shape: ', X_train_transformed.shape)\n",
    "print('X_test_transformed shape:  ', X_test_transformed.shape)"
   ]
  },
  {
   "cell_type": "code",
   "execution_count": 9,
   "metadata": {},
   "outputs": [],
   "source": [
    "class Experiment:\n",
    "    def __init__(self, model, parameters_grid, cv, scoring, n_jobs = -1):\n",
    "        self.model = model\n",
    "        self.parameters = parameters_grid\n",
    "        self.cv = cv \n",
    "        self.scoring = scoring,\n",
    "        self.jobs = n_jobs\n",
    "        \n",
    "    def GridSearchFit(self, X_train_transformed, y_train, y_test):\n",
    "        self.model_cv = GridSearchCV(self.model, param_grid = self.parameters, cv = self.cv, \n",
    "                                    scoring = self.scoring, n_jobs = self.jobs)\n",
    "        self.model_cv.fit(X_train_transformed, y_train)\n",
    "        return accuracy_score(y_test, self.model_cv.best_estimator_.predict(X_test_transformed))"
   ]
  },
  {
   "cell_type": "code",
   "execution_count": 10,
   "metadata": {},
   "outputs": [
    {
     "name": "stdout",
     "output_type": "stream",
     "text": [
      "Train accuracy:  0.42857142857142855\n",
      "Test accuracy:  0.3287671232876712\n"
     ]
    }
   ],
   "source": [
    "parameters = {\"C\": [10**i for i in range(-2, 5)],\n",
    "              \"kernel\": [\"linear\", \"rbf\", \"sigmoid\", \"poly\"]}\n",
    "\n",
    "svc_cv = GridSearchCV(SVC(random_state=42), \n",
    "                      param_grid=parameters,\n",
    "                      cv=StratifiedKFold(n_splits=2, shuffle=True, random_state=42),\n",
    "                      scoring='accuracy', \n",
    "                      n_jobs=-1)\n",
    "svc_cv.fit(X_train_transformed, y_train)\n",
    "\n",
    "print(\"Train accuracy: \", accuracy_score(y_train, svc_cv.best_estimator_.predict(X_train_transformed)))\n",
    "print(\"Test accuracy: \", accuracy_score(y_test, svc_cv.best_estimator_.predict(X_test_transformed)))"
   ]
  },
  {
   "cell_type": "code",
   "execution_count": 11,
   "metadata": {},
   "outputs": [
    {
     "name": "stdout",
     "output_type": "stream",
     "text": [
      "Train accuracy:  1.0\n",
      "Test accuracy:  0.4657534246575342\n"
     ]
    }
   ],
   "source": [
    "parameters = {\"max_depth\": [2, 10, 15, 20, 25, 30, 35, 40, 45, 50, 70, 100, 120, 150],\n",
    "              \"n_estimators\": [20, 50, 100, 150, 200, 250]}\n",
    "svc_cv = GridSearchCV(XGBClassifier(n_jobs=-1, random_state=42), \n",
    "                      param_grid=parameters,\n",
    "                      cv=StratifiedKFold(n_splits=2, shuffle=True, random_state=42),\n",
    "                      scoring='accuracy', \n",
    "                      n_jobs=-1)\n",
    "svc_cv.fit(X_train_transformed, y_train)\n",
    "\n",
    "print(\"Train accuracy: \", accuracy_score(y_train, svc_cv.best_estimator_.predict(X_train_transformed)))\n",
    "print(\"Test accuracy: \", accuracy_score(y_test, svc_cv.best_estimator_.predict(X_test_transformed)))"
   ]
  },
  {
   "cell_type": "code",
   "execution_count": 12,
   "metadata": {},
   "outputs": [
    {
     "name": "stdout",
     "output_type": "stream",
     "text": [
      "Train accuracy:  0.5428571428571428\n",
      "Test accuracy:  0.2054794520547945\n"
     ]
    }
   ],
   "source": [
    "parameters = {\"n_neighbors\": [3, 5, 7, 11,]}\n",
    "\n",
    "knn_cv = GridSearchCV(KNeighborsClassifier(n_jobs=-1), \n",
    "                      param_grid=parameters,\n",
    "                      cv=StratifiedKFold(n_splits=2, shuffle=True, random_state=42),\n",
    "                      scoring='accuracy', \n",
    "                      n_jobs=-1)\n",
    "knn_cv.fit(X_train_transformed, y_train)\n",
    "\n",
    "print(\"Train accuracy: \", accuracy_score(y_train, knn_cv.best_estimator_.predict(X_train_transformed)))\n",
    "print(\"Test accuracy: \", accuracy_score(y_test, knn_cv.best_estimator_.predict(X_test_transformed)))"
   ]
  },
  {
   "cell_type": "code",
   "execution_count": 13,
   "metadata": {},
   "outputs": [],
   "source": [
    "torch.manual_seed(0)\n",
    "torch.backends.cudnn.deterministic = True\n",
    "torch.backends.cudnn.benchmark = False\n",
    "np.random.seed(0)\n",
    "\n",
    "device = get_device()\n",
    "batch_size = 32\n",
    "latent_dim = num_classes * 4"
   ]
  },
  {
   "cell_type": "code",
   "execution_count": 14,
   "metadata": {},
   "outputs": [
    {
     "data": {
      "text/plain": [
       "torch.Size([70, 1, 19])"
      ]
     },
     "execution_count": 14,
     "metadata": {},
     "output_type": "execute_result"
    }
   ],
   "source": [
    "scale = StandardScaler()\n",
    "scale.fit(X_train_transformed)\n",
    "\n",
    "handle_dim = lambda x: np.swapaxes(scale.transform(x)[..., np.newaxis], 1, -1)\n",
    "\n",
    "    \n",
    "X_train_transformed_dim = handle_dim(X_train_transformed)\n",
    "X_test_transformed_dim  = handle_dim(X_test_transformed)\n",
    "\n",
    "y_hot_train = one_hot_encoding(y_train)\n",
    "y_hot_test = one_hot_encoding(y_test)\n",
    "\n",
    "dataset_train = TimeSeriesDataset(X_train_transformed_dim, y_hot_train)\n",
    "dataset_test  = TimeSeriesDataset(X_test_transformed_dim, y_hot_test)\n",
    "\n",
    "loader_train = DataLoader(dataset_train, batch_size=batch_size)\n",
    "loader_test = DataLoader(dataset_test, batch_size=batch_size)\n",
    "\n",
    "test_data = torch.zeros(dataset_train[:][0].shape)\n",
    "test_data.shape"
   ]
  },
  {
   "cell_type": "code",
   "execution_count": 15,
   "metadata": {},
   "outputs": [
    {
     "name": "stdout",
     "output_type": "stream",
     "text": [
      "Number of parameters: 26073\n"
     ]
    }
   ],
   "source": [
    "vae = VariationalAutoencoder(batch_size=batch_size, latent_dims=latent_dim, test_data=test_data)\n",
    "vae = vae.to(device)\n",
    "\n",
    "num_params = sum(p.numel() for p in vae.parameters() if p.requires_grad)\n",
    "print('Number of parameters: %d' % num_params)"
   ]
  },
  {
   "cell_type": "code",
   "execution_count": 16,
   "metadata": {
    "scrolled": false
   },
   "outputs": [
    {
     "name": "stdout",
     "output_type": "stream",
     "text": [
      "Training ...\n"
     ]
    },
    {
     "data": {
      "text/html": [],
      "text/plain": [
       "<IPython.core.display.HTML object>"
      ]
     },
     "metadata": {},
     "output_type": "display_data"
    },
    {
     "data": {
      "image/png": "[encoded data removed]",
      "text/plain": [
       "<Figure size 432x288 with 1 Axes>"
      ]
     },
     "metadata": {},
     "output_type": "display_data"
    },
    {
     "data": {
      "text/plain": [
       "VariationalAutoencoder(\n",
       "  (encoder): Encoder(\n",
       "    (conv1): Conv1d(1, 32, kernel_size=(4,), stride=(2,), padding=(1,))\n",
       "    (conv2): Conv1d(32, 64, kernel_size=(4,), stride=(2,), padding=(1,))\n",
       "    (fc_mu): Linear(in_features=256, out_features=28, bias=True)\n",
       "    (fc_logvar): Linear(in_features=256, out_features=28, bias=True)\n",
       "  )\n",
       "  (decoder): Decoder(\n",
       "    (fc): Linear(in_features=28, out_features=96, bias=True)\n",
       "    (conv2): ConvTranspose1d(32, 1, kernel_size=(15,), stride=(3,), padding=(1,))\n",
       "  )\n",
       ")"
      ]
     },
     "execution_count": 16,
     "metadata": {},
     "output_type": "execute_result"
    }
   ],
   "source": [
    "optimizer = torch.optim.Adam(params=vae.parameters(), lr=2e-3, weight_decay=1e-5)\n",
    "\n",
    "train_AE(1000, vae, loader_train, loader_test, optimizer, device, verbose=True)"
   ]
  },
  {
   "cell_type": "code",
   "execution_count": 17,
   "metadata": {},
   "outputs": [],
   "source": [
    "from_vae_loader2numpy = lambda model, x: model.transform(x.dataset[:][0]).cpu().detach().numpy()"
   ]
  },
  {
   "cell_type": "code",
   "execution_count": 18,
   "metadata": {},
   "outputs": [],
   "source": [
    "z_train = from_vae_loader2numpy(vae, loader_train)\n",
    "z_test = from_vae_loader2numpy(vae, loader_test)"
   ]
  },
  {
   "cell_type": "code",
   "execution_count": 19,
   "metadata": {},
   "outputs": [
    {
     "name": "stdout",
     "output_type": "stream",
     "text": [
      "Dataset:  Lightning7\n",
      "Train accuracy:  1.0\n",
      "Test accuracy:  0.3287671232876712\n"
     ]
    }
   ],
   "source": [
    "parameters = {\"max_depth\": [2, 10, 15, 20, 25, 30, 35, 40, 45, 50, 70, 100, 120, 150],\n",
    "              \"n_estimators\": [20, 50, 100, 150, 200, 250]}\n",
    "svc_cv = GridSearchCV(XGBClassifier(n_jobs=-1, random_state=42), \n",
    "                      param_grid=parameters,\n",
    "                      cv=StratifiedKFold(n_splits=2, shuffle=True, random_state=42),\n",
    "                      scoring='accuracy', \n",
    "                      n_jobs=-1)\n",
    "svc_cv.fit(z_train, y_train)\n",
    "\n",
    "print('Dataset: ', random_path)\n",
    "print(\"Train accuracy: \", accuracy_score(y_train, svc_cv.best_estimator_.predict(z_train)))\n",
    "print(\"Test accuracy: \", accuracy_score(y_test, svc_cv.best_estimator_.predict(z_test)))"
   ]
  },
  {
   "cell_type": "code",
   "execution_count": 20,
   "metadata": {},
   "outputs": [
    {
     "name": "stdout",
     "output_type": "stream",
     "text": [
      "Dataset:  Lightning7\n",
      "Train accuracy:  0.7142857142857143\n",
      "Test accuracy:  0.4246575342465753\n"
     ]
    }
   ],
   "source": [
    "parameters = {\"C\": [10**i for i in range(-2, 5)],\n",
    "              \"kernel\": [\"linear\", \"rbf\", \"sigmoid\", \"poly\"]}\n",
    "\n",
    "svc_cv = GridSearchCV(SVC(random_state=42), \n",
    "                      param_grid=parameters,\n",
    "                      cv=StratifiedKFold(n_splits=2, shuffle=True, random_state=42),\n",
    "                      scoring='accuracy', \n",
    "                      n_jobs=-1)\n",
    "svc_cv.fit(z_train, y_train)\n",
    "\n",
    "print('Dataset: ', random_path)\n",
    "print(\"Train accuracy: \", accuracy_score(y_train, svc_cv.best_estimator_.predict(z_train)))\n",
    "print(\"Test accuracy: \", accuracy_score(y_test, svc_cv.best_estimator_.predict(z_test)))"
   ]
  },
  {
   "cell_type": "code",
   "execution_count": 21,
   "metadata": {},
   "outputs": [
    {
     "name": "stdout",
     "output_type": "stream",
     "text": [
      "Dataset:  Lightning7\n",
      "Train accuracy:  0.6285714285714286\n",
      "Test accuracy:  0.3150684931506849\n"
     ]
    }
   ],
   "source": [
    "parameters = {\"n_neighbors\": [1, 2, 3, 5, 7, 11,]}\n",
    "\n",
    "knn_cv = GridSearchCV(KNeighborsClassifier(n_jobs=-1), \n",
    "                      param_grid=parameters,\n",
    "                      cv=StratifiedKFold(n_splits=2, shuffle=True, random_state=42),\n",
    "                      scoring='accuracy', \n",
    "                      n_jobs=-1)\n",
    "knn_cv.fit(z_train, y_train)\n",
    "\n",
    "print('Dataset: ', random_path)\n",
    "print(\"Train accuracy: \", accuracy_score(y_train, knn_cv.best_estimator_.predict(z_train)))\n",
    "print(\"Test accuracy: \", accuracy_score(y_test, knn_cv.best_estimator_.predict(z_test)))"
   ]
  },
  {
   "cell_type": "code",
   "execution_count": 46,
   "metadata": {},
   "outputs": [
    {
     "name": "stdout",
     "output_type": "stream",
     "text": [
      "Dataset:  Lightning7\n",
      "Train accuracy:  1.0\n",
      "Test accuracy:  0.3972602739726027\n"
     ]
    }
   ],
   "source": [
    "parameters = {\"max_depth\": [2, 10, 15, 20, 25, 30, 35, 40, 45, 50, 70, 100, 120, 150],\n",
    "              \"n_estimators\": [20, 50, 100, 150, 200, 250],\n",
    "              \"early_stopping_rounds\": [2, 5, 8, 10, 50, 200]}\n",
    "\n",
    "\n",
    "cat_cv = GridSearchCV(CatBoostClassifier(random_state=42, verbose=False), \n",
    "                      param_grid=parameters,\n",
    "                      cv=StratifiedKFold(n_splits=2, shuffle=True, random_state=42),\n",
    "                      scoring='accuracy', \n",
    "                      n_jobs=-1)\n",
    "\n",
    "cat_cv.fit(z_train, y_train)\n",
    "\n",
    "print('Dataset: ', random_path)\n",
    "print(\"Train accuracy: \", accuracy_score(y_train, cat_cv.best_estimator_.predict(z_train)))\n",
    "print(\"Test accuracy: \", accuracy_score(y_test, cat_cv.best_estimator_.predict(z_test)))"
   ]
  },
  {
   "cell_type": "code",
   "execution_count": 23,
   "metadata": {},
   "outputs": [],
   "source": [
    "dataset_train = TimeSeriesDataset(z_train, y_hot_train)\n",
    "dataset_test  = TimeSeriesDataset(z_test, y_hot_test)\n",
    "\n",
    "loader_train = DataLoader(dataset_train, batch_size=batch_size)\n",
    "loader_test = DataLoader(dataset_test, batch_size=batch_size)"
   ]
  },
  {
   "cell_type": "code",
   "execution_count": 24,
   "metadata": {},
   "outputs": [],
   "source": [
    "clf = nn.Sequential(nn.Linear(in_features=latent_dim, out_features=latent_dim*2),\n",
    "                    nn.BatchNorm1d(latent_dim*2),\n",
    "                    nn.Dropout(.3),\n",
    "                    \n",
    "                    nn.Linear(in_features=latent_dim*2, out_features=latent_dim*3),\n",
    "                    nn.BatchNorm1d(latent_dim*3),\n",
    "                    nn.Dropout(.3),\n",
    "                    \n",
    "                    nn.Linear(in_features=latent_dim*3, out_features=latent_dim//2),\n",
    "                    nn.BatchNorm1d(latent_dim//2),\n",
    "                    nn.Dropout(.3),\n",
    "                    \n",
    "                    \n",
    "                    nn.Linear(in_features=latent_dim//2, out_features=num_classes),\n",
    "                    nn.Sigmoid()).to(device)"
   ]
  },
  {
   "cell_type": "code",
   "execution_count": 25,
   "metadata": {},
   "outputs": [],
   "source": [
    "optimizer = torch.optim.SGD(params=clf.parameters(), lr=1e-3, momentum=.9)\n",
    "loss_fun = nn.BCELoss()"
   ]
  },
  {
   "cell_type": "code",
   "execution_count": 26,
   "metadata": {},
   "outputs": [
    {
     "name": "stdout",
     "output_type": "stream",
     "text": [
      "Training ...\n"
     ]
    },
    {
     "data": {
      "text/html": [],
      "text/plain": [
       "<IPython.core.display.HTML object>"
      ]
     },
     "metadata": {},
     "output_type": "display_data"
    },
    {
     "data": {
      "image/png": "[encoded data removed]",
      "text/plain": [
       "<Figure size 432x288 with 1 Axes>"
      ]
     },
     "metadata": {},
     "output_type": "display_data"
    },
    {
     "data": {
      "text/plain": [
       "Sequential(\n",
       "  (0): Linear(in_features=28, out_features=56, bias=True)\n",
       "  (1): BatchNorm1d(56, eps=1e-05, momentum=0.1, affine=True, track_running_stats=True)\n",
       "  (2): Dropout(p=0.3, inplace=False)\n",
       "  (3): Linear(in_features=56, out_features=84, bias=True)\n",
       "  (4): BatchNorm1d(84, eps=1e-05, momentum=0.1, affine=True, track_running_stats=True)\n",
       "  (5): Dropout(p=0.3, inplace=False)\n",
       "  (6): Linear(in_features=84, out_features=14, bias=True)\n",
       "  (7): BatchNorm1d(14, eps=1e-05, momentum=0.1, affine=True, track_running_stats=True)\n",
       "  (8): Dropout(p=0.3, inplace=False)\n",
       "  (9): Linear(in_features=14, out_features=7, bias=True)\n",
       "  (10): Sigmoid()\n",
       ")"
      ]
     },
     "execution_count": 26,
     "metadata": {},
     "output_type": "execute_result"
    }
   ],
   "source": [
    "train_clf(200, clf, loader_train, loader_test, optimizer, loss_fun, device, True)"
   ]
  },
  {
   "cell_type": "code",
   "execution_count": 27,
   "metadata": {},
   "outputs": [],
   "source": [
    "from_clf_loader2numpy = lambda model, x: model(x.dataset[:][0]).cpu().detach().numpy()"
   ]
  },
  {
   "cell_type": "code",
   "execution_count": 28,
   "metadata": {},
   "outputs": [],
   "source": [
    "y_train_pred = from_clf_loader2numpy(clf, loader_train)\n",
    "y_test_pred  = from_clf_loader2numpy(clf, loader_test)"
   ]
  },
  {
   "cell_type": "code",
   "execution_count": 29,
   "metadata": {},
   "outputs": [],
   "source": [
    "y_train_pred_norm = np.zeros_like(y_train_pred)\n",
    "y_train_pred_norm[np.arange(len(y_train_pred)), y_train_pred.argmax(1)] = 1"
   ]
  },
  {
   "cell_type": "code",
   "execution_count": 30,
   "metadata": {},
   "outputs": [],
   "source": [
    "y_test_pred_norm = np.zeros_like(y_test_pred)\n",
    "y_test_pred_norm[np.arange(y_test_pred.shape[0]), y_test_pred.argmax(1)] = 1"
   ]
  },
  {
   "cell_type": "code",
   "execution_count": 31,
   "metadata": {
    "scrolled": false
   },
   "outputs": [
    {
     "name": "stdout",
     "output_type": "stream",
     "text": [
      "Dataset:  Lightning7\n",
      "Train accuracy:  0.5571428571428572\n",
      "Test accuracy:  0.3835616438356164\n"
     ]
    }
   ],
   "source": [
    "print('Dataset: ', random_path)\n",
    "print(\"Train accuracy: \", accuracy_score(y_hot_train, y_train_pred_norm))\n",
    "print(\"Test accuracy: \", accuracy_score(y_hot_test, y_test_pred_norm))"
   ]
  },
  {
   "cell_type": "code",
   "execution_count": null,
   "metadata": {},
   "outputs": [],
   "source": []
  },
  {
   "cell_type": "code",
   "execution_count": null,
   "metadata": {},
   "outputs": [],
   "source": []
  },
  {
   "cell_type": "code",
   "execution_count": null,
   "metadata": {},
   "outputs": [],
   "source": []
  },
  {
   "cell_type": "code",
   "execution_count": null,
   "metadata": {},
   "outputs": [],
   "source": []
  },
  {
   "cell_type": "code",
   "execution_count": null,
   "metadata": {},
   "outputs": [],
   "source": []
  }
 ],
 "metadata": {
  "kernelspec": {
   "display_name": "Python 3",
   "language": "python",
   "name": "python3"
  },
  "language_info": {
   "codemirror_mode": {
    "name": "ipython",
    "version": 3
   },
   "file_extension": ".py",
   "mimetype": "text/x-python",
   "name": "python",
   "nbconvert_exporter": "python",
   "pygments_lexer": "ipython3",
   "version": "3.6.10"
  },
  "pycharm": {
   "stem_cell": {
    "cell_type": "raw",
    "metadata": {
     "collapsed": false
    },
    "source": []
   }
  }
 },
 "nbformat": 4,
 "nbformat_minor": 4
}
