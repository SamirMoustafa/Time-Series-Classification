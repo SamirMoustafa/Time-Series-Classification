{
 "cells": [
  {
   "cell_type": "code",
   "execution_count": 294,
   "metadata": {},
   "outputs": [],
   "source": [
    "from abc import ABC\n",
    "\n",
    "import numpy as np\n",
    "import pandas as pd\n",
    "%matplotlib inline\n",
    "import matplotlib.pyplot as plt\n",
    "\n",
    "from gtda.time_series import TakensEmbedding\n",
    "from gtda.homology import VietorisRipsPersistence\n",
    "from gtda.diagrams import Scaler, Filtering, PersistenceEntropy\n",
    "from gtda.plotting import plot_diagram\n",
    "\n",
    "from xgboost import XGBClassifier\n",
    "from sklearn.neighbors import KNeighborsClassifier\n",
    "from sklearn.ensemble import RandomForestClassifier, StackingClassifier\n",
    "from sklearn.tree import DecisionTreeClassifier\n",
    "from sklearn.linear_model import LogisticRegression\n",
    "\n",
    "from sklearn.model_selection import GridSearchCV\n",
    "\n",
    "from sklearn.metrics import accuracy_score\n",
    "\n",
    "from src.utils import get_data_from_directory, get_files_directory_list\n",
    "\n",
    "import torch\n",
    "import torch.nn as nn\n",
    "import torch.nn.functional as F"
   ]
  },
  {
   "cell_type": "markdown",
   "metadata": {},
   "source": [
    "## 1. Common routines for Topological Features extraction"
   ]
  },
  {
   "cell_type": "code",
   "execution_count": 51,
   "metadata": {},
   "outputs": [],
   "source": [
    "class PersistenceDiagramsExtractor:\n",
    "    def __init__(self, takens_embedding_dim, takens_embedding_delay, homology_dimensions, \n",
    "                 filtering=False, filtering_dimensions=(1, 2)):\n",
    "        self.takens_embedding_dim_ = takens_embedding_dim\n",
    "        self.takens_embedding_delay_ = takens_embedding_delay\n",
    "        self.homology_dimensions_ = homology_dimensions\n",
    "        self.filtering_ = filtering\n",
    "        self.filtering_dimensions_ = filtering_dimensions\n",
    "        \n",
    "    def takens_embeddings_(self, X):\n",
    "        X_transformed = list()\n",
    "        for series in X:\n",
    "            te = TakensEmbedding(parameters_type='search', \n",
    "                                 dimension=self.takens_embedding_dim_, \n",
    "                                 time_delay=self.takens_embedding_delay_)\n",
    "            X_transformed.append(te.fit_transform(series))\n",
    "        return X_transformed\n",
    "    \n",
    "    def persistence_diagrams_(self, X_embdeddings):\n",
    "        X_transformed = list()\n",
    "        for embedding in X_embdeddings:\n",
    "            vr = VietorisRipsPersistence(metric='euclidean', \n",
    "                                         max_edge_length=100, \n",
    "                                         homology_dimensions=self.homology_dimensions_)\n",
    "            diagram_scaler = Scaler()\n",
    "            persistence_diagrams = diagram_scaler.fit_transform(vr.fit_transform([embedding]))\n",
    "            if self.filtering_:\n",
    "                diagram_filter = Filtering(epsilon=0.1, homology_dimensions=self.filtering_dimensions_)\n",
    "                persistence_diagrams = diagram_filter.fit_transform(persistence_diagrams)\n",
    "            X_transformed.append(persistence_diagrams[0])\n",
    "        return X_transformed\n",
    "        \n",
    "    def fit_transform(self, X):\n",
    "        X_embeddings = self.takens_embeddings_(X)\n",
    "        X_persistence_diagrams = self.persistence_diagrams_(X_embeddings)\n",
    "        return X_persistence_diagrams\n",
    "        "
   ]
  },
  {
   "cell_type": "code",
   "execution_count": 334,
   "metadata": {},
   "outputs": [],
   "source": [
    "\"\"\"\n",
    "Abstract class for creating Topology Features extractors.\n",
    "\"\"\"\n",
    "class PersistenceDiagramFeatureExtractor(ABC):\n",
    "    def extract_feature_(self, persistence_diagram):\n",
    "        pass\n",
    "    \n",
    "    def fit_transform(self, X_pd):\n",
    "        return np.array([self.extract_feature_(diagram) for diagram in X_pd])"
   ]
  },
  {
   "cell_type": "code",
   "execution_count": 153,
   "metadata": {},
   "outputs": [],
   "source": [
    "class TopologicalFeaturesExtractor:\n",
    "    def __init__(self, persistence_diagram_extractor, persistence_diagram_features):\n",
    "        self.persistence_diagram_extractor_ = persistence_diagram_extractor\n",
    "        self.persistence_diagram_features_ = persistence_diagram_features\n",
    "        \n",
    "    def fit_transform(self, X):\n",
    "        X_transformed = None\n",
    "        \n",
    "        X_pd = self.persistence_diagram_extractor_.fit_transform(X)\n",
    "        \n",
    "        for pd_feature in self.persistence_diagram_features_:\n",
    "            X_features = pd_feature.fit_transform(X_pd)\n",
    "            X_transformed = np.vstack((X_transformed.T, X_features.T)).T if X_transformed is not None else X_features\n",
    "            \n",
    "        return X_transformed"
   ]
  },
  {
   "cell_type": "markdown",
   "metadata": {},
   "source": [
    "## 2. Common routines for Topological Features extraction"
   ]
  },
  {
   "cell_type": "markdown",
   "metadata": {},
   "source": [
    "### 2.1 Features from Pereira2015"
   ]
  },
  {
   "cell_type": "markdown",
   "metadata": {},
   "source": [
    "### 2.1.1 Number of holes for each dimension"
   ]
  },
  {
   "cell_type": "code",
   "execution_count": 122,
   "metadata": {},
   "outputs": [],
   "source": [
    "class HolesNumberFeature(PersistenceDiagramFeatureExtractor):\n",
    "    def __init__(self):\n",
    "        super(HolesPerDimFeature).__init__()\n",
    "        \n",
    "    def extract_feature_(self, persistence_diagram):\n",
    "        # Persistence diagrams has dimensionality (N, 3).\n",
    "        # The second coordinate has following notation: (birth, death, homology dimension).\n",
    "        # See https://github.com/giotto-ai/giotto-tda/blob/master/gtda/plotting/persistence_diagrams.py\n",
    "        feature = np.zeros(int(np.max(persistence_diagram[:, 2])) + 1)\n",
    "        for hole in persistence_diagram:\n",
    "            if hole[1] - hole[0] > 0:\n",
    "                # Some holes still can have zero-lifetime\n",
    "                # See https://giotto-ai.github.io/gtda-docs/latest/modules/generated/diagrams/preprocessing/gtda.diagrams.Filtering.html#gtda.diagrams.Filtering.fit_transform\n",
    "                feature[int(hole[2])] += 1.0\n",
    "        return feature"
   ]
  },
  {
   "cell_type": "markdown",
   "metadata": {},
   "source": [
    "### 2.1.2 Maximum hole lifetime in each dimension"
   ]
  },
  {
   "cell_type": "code",
   "execution_count": 113,
   "metadata": {},
   "outputs": [],
   "source": [
    "class MaxHoleLifeTimeFeature(PersistenceDiagramFeatureExtractor):\n",
    "    def __init__(self):\n",
    "        super(MaxHoleLifeTimeFeature).__init__()\n",
    "        \n",
    "    def extract_feature_(self, persistence_diagram):\n",
    "        feature = np.zeros(int(np.max(persistence_diagram[:, 2])) + 1)\n",
    "        for hole in persistence_diagram:\n",
    "            lifetime = hole[1] - hole[0]\n",
    "            if lifetime > feature[int(hole[2])]:\n",
    "                feature[int(hole[2])] = lifetime\n",
    "        return feature"
   ]
  },
  {
   "cell_type": "markdown",
   "metadata": {},
   "source": [
    "### 2.1.3 Fraction of holes that are at a similar distance as the farthest point from the diagonal (maximum lifetime) with some ration"
   ]
  },
  {
   "cell_type": "code",
   "execution_count": 114,
   "metadata": {},
   "outputs": [],
   "source": [
    "class RelevantHolesNumber(PersistenceDiagramFeatureExtractor):\n",
    "    def __init__(self, ratio=1.0):\n",
    "        super(RelevantHolesNumber).__init__()\n",
    "        self.ratio_ = ratio\n",
    "        \n",
    "    def extract_feature_(self, persistence_diagram):\n",
    "        feature = np.zeros(int(np.max(persistence_diagram[:, 2])) + 1)\n",
    "        max_lifetimes = np.zeros(int(np.max(persistence_diagram[:, 2])) + 1)\n",
    "        \n",
    "        for hole in persistence_diagram:\n",
    "            lifetime = hole[1] - hole[0]\n",
    "            if lifetime > max_lifetimes[int(hole[2])]:\n",
    "                max_lifetimes[int(hole[2])] = lifetime\n",
    "                \n",
    "        for hole in persistence_diagram:\n",
    "            index = int(hole[2])\n",
    "            lifetime = hole[1] - hole[0]\n",
    "            if np.equal(lifetime, self.ratio_ * max_lifetimes[index]):\n",
    "                feature[index] += 1.0\n",
    "                \n",
    "        return feature"
   ]
  },
  {
   "cell_type": "markdown",
   "metadata": {},
   "source": [
    "### 2.1.4 Average lifetime in each dimension"
   ]
  },
  {
   "cell_type": "code",
   "execution_count": 119,
   "metadata": {},
   "outputs": [],
   "source": [
    "class AverageHoleLifetimeFeature(PersistenceDiagramFeatureExtractor):\n",
    "    def __init__(self):\n",
    "        super(AverageHoleLifetimeFeature).__init__()\n",
    "        \n",
    "    def extract_feature_(self, persistence_diagram):\n",
    "        feature = np.zeros(int(np.max(persistence_diagram[:, 2])) + 1)\n",
    "        n_holes = np.zeros(int(np.max(persistence_diagram[:, 2])) + 1)\n",
    "        \n",
    "        for hole in persistence_diagram:\n",
    "            lifetime = hole[1] - hole[0]\n",
    "            index = int(hole[2])\n",
    "            if lifetime > 0:\n",
    "                feature[index] += lifetime\n",
    "                n_holes[index] += 1\n",
    "        \n",
    "        for i in range(feature.shape[0]):\n",
    "            feature[i] = feature[i] / n_holes[i] if n_holes[i] != 0 else 0.0\n",
    "            \n",
    "        return feature"
   ]
  },
  {
   "cell_type": "markdown",
   "metadata": {},
   "source": [
    "### 2.1.5 Sum of all holes lifetimes in each dimension"
   ]
  },
  {
   "cell_type": "code",
   "execution_count": 123,
   "metadata": {},
   "outputs": [],
   "source": [
    "class SumHoleLifetimeFeature(PersistenceDiagramFeatureExtractor):\n",
    "    def __init__(self):\n",
    "        super(SumHoleLifetimeFeature).__init__()\n",
    "        \n",
    "    def extract_feature_(self, persistence_diagram):\n",
    "        feature = np.zeros(int(np.max(persistence_diagram[:, 2])) + 1)\n",
    "        for hole in persistence_diagram:\n",
    "            feature[int(hole[2])] += hole[1] - hole[0]\n",
    "        return feature"
   ]
  },
  {
   "cell_type": "markdown",
   "metadata": {},
   "source": [
    "## 2.2 Custom Topological Features"
   ]
  },
  {
   "cell_type": "code",
   "execution_count": 176,
   "metadata": {},
   "outputs": [],
   "source": [
    "\"\"\"\n",
    "Wrap over Giotto's feature\n",
    "\"\"\"\n",
    "class PersistenceEntropyFeature(PersistenceDiagramFeatureExtractor):\n",
    "    def __init__(self):\n",
    "        super(PersistenceEntropyFeature).__init__()\n",
    "        \n",
    "    def extract_feature_(self, persistence_diagram):\n",
    "        persistence_entropy = PersistenceEntropy(n_jobs=-1)\n",
    "        return persistence_entropy.fit_transform([persistence_diagram])[0]"
   ]
  },
  {
   "cell_type": "code",
   "execution_count": 361,
   "metadata": {},
   "outputs": [],
   "source": [
    "class SimultaneousAliveHolesFeatue(PersistenceDiagramFeatureExtractor):\n",
    "    def __init__(self):\n",
    "        super(SimultaneousAliveHolesFeatue).__init__()\n",
    "        \n",
    "    def get_average_intersection_number_(self, segments):\n",
    "        intersections = list()\n",
    "        n_segments = segments.shape[0]\n",
    "        i = 0\n",
    "\n",
    "        for i in range(0, n_segments):\n",
    "            count = 1\n",
    "            start = segments[i, 0]\n",
    "            end = segments[i, 1]\n",
    "\n",
    "            for j in range(i + 1, n_segments):\n",
    "                if segments[j, 0] >= start and segments[j, 0] <= end:\n",
    "                    count += 1\n",
    "                else:\n",
    "                    break\n",
    "            intersections.append(count)\n",
    "\n",
    "        return np.sum(intersections) / len(intersections)\n",
    "\n",
    "    def get_average_simultaneous_holes_(self, holes):\n",
    "        starts = holes[:, 0]\n",
    "        ends = holes[:, 1]\n",
    "        ind = np.lexsort((starts, ends))\n",
    "        segments = np.array([[starts[i], ends[i]] for i in ind])\n",
    "        return self.get_average_intersection_number_(segments)\n",
    "\n",
    "    def extract_feature_(self, persistence_diagram):\n",
    "        n_dims = int(np.max(persistence_diagram[:, 2])) + 1\n",
    "        feature = np.zeros(n_dims)\n",
    "\n",
    "        for dim in range(n_dims):\n",
    "            holes = list()\n",
    "            for hole in persistence_diagram:\n",
    "                if hole[1] - hole[0] != 0.0 and int(hole[2]) == dim:\n",
    "                    holes.append(hole)\n",
    "            if len(holes) != 0:      \n",
    "                feature[dim] = self.get_average_simultaneous_holes_(np.array(holes))\n",
    "\n",
    "        return feature"
   ]
  },
  {
   "cell_type": "markdown",
   "metadata": {},
   "source": [
    "## 3. Example with Time Series"
   ]
  },
  {
   "cell_type": "code",
   "execution_count": 4,
   "metadata": {},
   "outputs": [],
   "source": [
    "# !wget -nc \"http://www.timeseriesclassification.com/Downloads/Archives/Univariate2018_arff.zip\"\n",
    "#!unzip -q -n \"Univariate2018_arff.zip\""
   ]
  },
  {
   "cell_type": "code",
   "execution_count": 132,
   "metadata": {},
   "outputs": [
    {
     "name": "stdout",
     "output_type": "stream",
     "text": [
      "Dataset:  MoteStrain\n",
      "X_train shape:  (20, 84)\n",
      "y_train shape:  (20,)\n",
      "X_test shape:   (1252, 84)\n",
      "y_test shape:   (1252,)\n"
     ]
    }
   ],
   "source": [
    "directory_list = get_files_directory_list()\n",
    "directory_list = sorted(directory_list)\n",
    "\n",
    "random_index = 77\n",
    "random_path = directory_list[random_index]\n",
    "\n",
    "X_train, X_test, y_train, y_test = get_data_from_directory(random_path)\n",
    "X_train = X_train.squeeze()\n",
    "y_train = y_train.squeeze()\n",
    "X_test = X_test.squeeze()\n",
    "y_test = y_test.squeeze()\n",
    "\n",
    "print('Dataset: ', random_path)\n",
    "print('X_train shape: ', X_train.shape)\n",
    "print('y_train shape: ', y_train.shape)\n",
    "print('X_test shape:  ', X_test.shape)\n",
    "print('y_test shape:  ', y_test.shape)"
   ]
  },
  {
   "cell_type": "code",
   "execution_count": 369,
   "metadata": {},
   "outputs": [],
   "source": [
    "feature_extractor = TopologicalFeaturesExtractor(\n",
    "    persistence_diagram_extractor=PersistenceDiagramsExtractor(takens_embedding_dim=3, \n",
    "                                                               takens_embedding_delay=10,\n",
    "                                                               homology_dimensions=(0, 1, 2)),\n",
    "    persistence_diagram_features=[HolesNumberFeature(),\n",
    "                                  MaxHoleLifeTimeFeature(),\n",
    "                                  RelevantHolesNumber(),\n",
    "                                  AverageHoleLifetimeFeature(),\n",
    "                                  SumHoleLifetimeFeature(),\n",
    "                                  PersistenceEntropyFeature(),\n",
    "                                  SimultaneousAliveHolesFeatue()])\n",
    "X_train_transformed = feature_extractor.fit_transform(X_train)\n",
    "X_test_transformed = feature_extractor.fit_transform(X_test)"
   ]
  },
  {
   "cell_type": "code",
   "execution_count": 370,
   "metadata": {},
   "outputs": [
    {
     "name": "stdout",
     "output_type": "stream",
     "text": [
      "Train accuracy:  1.0\n",
      "Test accuracy:  0.4968051118210863\n"
     ]
    }
   ],
   "source": [
    "parameters = {\"C\": [10**i for i in range(-2, 5)],\n",
    "              \"kernel\": [\"linear\", \"rbf\", \"sigmoid\", \"poly\"]}\n",
    "svc_cv = GridSearchCV(SVC(random_state=42), \n",
    "                      param_grid=parameters,\n",
    "                      cv=5,\n",
    "                      scoring='accuracy', \n",
    "                      n_jobs=-1)\n",
    "svc_cv.fit(X_train_transformed, y_train)\n",
    "\n",
    "print(\"Train accuracy: \", accuracy_score(y_train, svc_cv.best_estimator_.predict(X_train_transformed)))\n",
    "print(\"Test accuracy: \", accuracy_score(y_test, svc_cv.best_estimator_.predict(X_test_transformed)))"
   ]
  },
  {
   "cell_type": "code",
   "execution_count": 371,
   "metadata": {},
   "outputs": [
    {
     "name": "stdout",
     "output_type": "stream",
     "text": [
      "Train accuracy:  0.8\n",
      "Test accuracy:  0.6110223642172524\n"
     ]
    }
   ],
   "source": [
    "parameters = {\"max_depth\": [2, 10, 15, 20, 25, 30, 35, 40, 45, 50, 70, 100, 120, 150],\n",
    "              \"n_estimators\": [20, 50, 100, 150, 200, 250]}\n",
    "svc_cv = GridSearchCV(XGBClassifier(n_jobs=-1, random_state=42), \n",
    "                      param_grid=parameters,\n",
    "                      cv=2,\n",
    "                      scoring='accuracy', \n",
    "                      n_jobs=-1)\n",
    "svc_cv.fit(X_train_transformed, y_train)\n",
    "\n",
    "print(\"Train accuracy: \", accuracy_score(y_train, svc_cv.best_estimator_.predict(X_train_transformed)))\n",
    "print(\"Test accuracy: \", accuracy_score(y_test, svc_cv.best_estimator_.predict(X_test_transformed)))"
   ]
  }
 ],
 "metadata": {
  "kernelspec": {
   "display_name": "Python 3",
   "language": "python",
   "name": "python3"
  },
  "language_info": {
   "codemirror_mode": {
    "name": "ipython",
    "version": 3
   },
   "file_extension": ".py",
   "mimetype": "text/x-python",
   "name": "python",
   "nbconvert_exporter": "python",
   "pygments_lexer": "ipython3",
   "version": "3.7.6"
  }
 },
 "nbformat": 4,
 "nbformat_minor": 4
}
